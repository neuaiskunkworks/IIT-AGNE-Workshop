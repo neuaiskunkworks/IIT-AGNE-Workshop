{
 "cells": [
  {
   "cell_type": "code",
   "execution_count": 1,
   "metadata": {
    "collapsed": true
   },
   "outputs": [],
   "source": [
    "import h2o\n",
    "from h2o.automl import H2OAutoML\n",
    "import random, os, sys\n",
    "from datetime import datetime\n",
    "import pandas as pd\n",
    "import logging\n",
    "import csv\n",
    "import optparse\n",
    "import time\n",
    "import json\n",
    "from distutils.util import strtobool\n",
    "import psutil"
   ]
  },
  {
   "cell_type": "code",
   "execution_count": 25,
   "metadata": {
    "collapsed": true
   },
   "outputs": [],
   "source": [
    "data_path=None\n",
    "all_variables=None\n",
    "test_path=None\n",
    "target=None\n",
    "target='default.payment.next.month'\n",
    "nthreads=1 \n",
    "run_time=222\n",
    "scale=False\n",
    "max_models=9    \n",
    "model_path=None\n",
    "balance_y=False \n",
    "balance_threshold=0.2\n",
    "name=None \n",
    "server_path=None  \n",
    "analysis=0 \n",
    "no_rows=100000\n",
    "prod_rows=0\n",
    "rid=None\n",
    "classification=True"
   ]
  },
  {
   "cell_type": "code",
   "execution_count": 3,
   "metadata": {
    "scrolled": true
   },
   "outputs": [
    {
     "name": "stdout",
     "output_type": "stream",
     "text": [
      "6\n",
      "3\n"
     ]
    }
   ],
   "source": [
    "min_mem_size=6\n",
    "pct_memory=0.5\n",
    "virtual_memory=psutil.virtual_memory()\n",
    "max_mem_size=int(round(int(pct_memory*virtual_memory.available)/1073741824,0))\n",
    "print(min_mem_size)\n",
    "print(max_mem_size)\n",
    "if min_mem_size > max_mem_size:\n",
    "  min_mem_size=max_mem_size    "
   ]
  },
  {
   "cell_type": "code",
   "execution_count": 4,
   "metadata": {
    "collapsed": true
   },
   "outputs": [],
   "source": [
    "classification=True\n",
    "#target='Buy'"
   ]
  },
  {
   "cell_type": "code",
   "execution_count": 5,
   "metadata": {},
   "outputs": [
    {
     "data": {
      "text/plain": [
       "'/Users/bear/Downloads/IIT_AGNE/data/UCI_Credit_Card.csv'"
      ]
     },
     "execution_count": 5,
     "metadata": {},
     "output_type": "execute_result"
    }
   ],
   "source": [
    "data_file='data/UCI_Credit_Card.csv'\n",
    "data_path=os.path.join(os.path.abspath(os.curdir)\n",
    ",data_file)\n",
    "data_path"
   ]
  },
  {
   "cell_type": "code",
   "execution_count": 6,
   "metadata": {
    "collapsed": true
   },
   "outputs": [],
   "source": [
    "def alphabet(n):\n",
    "  alpha='0123456789abcdefghijklmnopqrstuvwxyzABCDEFGHIJKLMNOPQRSTUVWXYZ'    \n",
    "  str=''\n",
    "  r=len(alpha)-1   \n",
    "  while len(str)<n:\n",
    "    i=random.randint(0,r)\n",
    "    str+=alpha[i]   \n",
    "  return str"
   ]
  },
  {
   "cell_type": "code",
   "execution_count": 7,
   "metadata": {},
   "outputs": [
    {
     "name": "stdout",
     "output_type": "stream",
     "text": [
      "0kAvMuUMo\n"
     ]
    }
   ],
   "source": [
    "# Automodeler start\n",
    "\n",
    "if rid is None:      \n",
    "  run_id=alphabet(9)\n",
    "else:      \n",
    "  run_id=rid     \n",
    "\n",
    "print (run_id) # run_id to std out\n"
   ]
  },
  {
   "cell_type": "code",
   "execution_count": 8,
   "metadata": {},
   "outputs": [
    {
     "name": "stdout",
     "output_type": "stream",
     "text": [
      "3   3\n"
     ]
    }
   ],
   "source": [
    "print(min_mem_size,' ',max_mem_size)"
   ]
  },
  {
   "cell_type": "code",
   "execution_count": 9,
   "metadata": {},
   "outputs": [
    {
     "name": "stdout",
     "output_type": "stream",
     "text": [
      "Checking whether there is an H2O instance running at http://localhost:39170..... not found.\n",
      "Attempting to start a local H2O server...\n",
      "  Java Version: openjdk version \"1.8.0_121\"; OpenJDK Runtime Environment (Zulu 8.20.0.5-macosx) (build 1.8.0_121-b15); OpenJDK 64-Bit Server VM (Zulu 8.20.0.5-macosx) (build 25.121-b15, mixed mode)\n",
      "  Starting server from /Users/bear/anaconda/lib/python3.6/site-packages/h2o/backend/bin/h2o.jar\n",
      "  Ice root: /var/folders/lh/42j8mfjx069d1bkc2wlf2pw40000gn/T/tmpk7p8ucg_\n",
      "  JVM stdout: /var/folders/lh/42j8mfjx069d1bkc2wlf2pw40000gn/T/tmpk7p8ucg_/h2o_bear_started_from_python.out\n",
      "  JVM stderr: /var/folders/lh/42j8mfjx069d1bkc2wlf2pw40000gn/T/tmpk7p8ucg_/h2o_bear_started_from_python.err\n",
      "  Server is running at http://127.0.0.1:39170\n",
      "Connecting to H2O server at http://127.0.0.1:39170... successful.\n"
     ]
    },
    {
     "data": {
      "text/html": [
       "<div style=\"overflow:auto\"><table style=\"width:50%\"><tr><td>H2O cluster uptime:</td>\n",
       "<td>02 secs</td></tr>\n",
       "<tr><td>H2O cluster timezone:</td>\n",
       "<td>America/New_York</td></tr>\n",
       "<tr><td>H2O data parsing timezone:</td>\n",
       "<td>UTC</td></tr>\n",
       "<tr><td>H2O cluster version:</td>\n",
       "<td>3.22.1.3</td></tr>\n",
       "<tr><td>H2O cluster version age:</td>\n",
       "<td>1 month and 18 days </td></tr>\n",
       "<tr><td>H2O cluster name:</td>\n",
       "<td>H2O_from_python_bear_hrts1x</td></tr>\n",
       "<tr><td>H2O cluster total nodes:</td>\n",
       "<td>1</td></tr>\n",
       "<tr><td>H2O cluster free memory:</td>\n",
       "<td>2.875 Gb</td></tr>\n",
       "<tr><td>H2O cluster total cores:</td>\n",
       "<td>8</td></tr>\n",
       "<tr><td>H2O cluster allowed cores:</td>\n",
       "<td>8</td></tr>\n",
       "<tr><td>H2O cluster status:</td>\n",
       "<td>accepting new members, healthy</td></tr>\n",
       "<tr><td>H2O connection url:</td>\n",
       "<td>http://127.0.0.1:39170</td></tr>\n",
       "<tr><td>H2O connection proxy:</td>\n",
       "<td>None</td></tr>\n",
       "<tr><td>H2O internal security:</td>\n",
       "<td>False</td></tr>\n",
       "<tr><td>H2O API Extensions:</td>\n",
       "<td>XGBoost, Algos, AutoML, Core V3, Core V4</td></tr>\n",
       "<tr><td>Python version:</td>\n",
       "<td>3.6.5 final</td></tr></table></div>"
      ],
      "text/plain": [
       "--------------------------  ----------------------------------------\n",
       "H2O cluster uptime:         02 secs\n",
       "H2O cluster timezone:       America/New_York\n",
       "H2O data parsing timezone:  UTC\n",
       "H2O cluster version:        3.22.1.3\n",
       "H2O cluster version age:    1 month and 18 days\n",
       "H2O cluster name:           H2O_from_python_bear_hrts1x\n",
       "H2O cluster total nodes:    1\n",
       "H2O cluster free memory:    2.875 Gb\n",
       "H2O cluster total cores:    8\n",
       "H2O cluster allowed cores:  8\n",
       "H2O cluster status:         accepting new members, healthy\n",
       "H2O connection url:         http://127.0.0.1:39170\n",
       "H2O connection proxy:\n",
       "H2O internal security:      False\n",
       "H2O API Extensions:         XGBoost, Algos, AutoML, Core V3, Core V4\n",
       "Python version:             3.6.5 final\n",
       "--------------------------  ----------------------------------------"
      ]
     },
     "metadata": {},
     "output_type": "display_data"
    }
   ],
   "source": [
    "# 65535 Highest port no\n",
    "port_no=random.randint(5555,55555)\n",
    "\n",
    "#  h2o.init(strict_version_check=False,min_mem_size_GB=min_mem_size,port=port_no) # start h2o\n",
    "\n",
    "h2o.init(strict_version_check=False,min_mem_size_GB=2,max_mem_size_GB=3,port=port_no) # start h2o\n",
    "\n",
    "    "
   ]
  },
  {
   "cell_type": "code",
   "execution_count": 10,
   "metadata": {},
   "outputs": [
    {
     "name": "stdout",
     "output_type": "stream",
     "text": [
      "/Users/bear/Downloads/IIT_AGNE/data/UCI_Credit_Card.csv\n"
     ]
    }
   ],
   "source": [
    "print(data_path)"
   ]
  },
  {
   "cell_type": "code",
   "execution_count": 11,
   "metadata": {},
   "outputs": [
    {
     "name": "stdout",
     "output_type": "stream",
     "text": [
      "Parse progress: |█████████████████████████████████████████████████████████| 100%\n"
     ]
    }
   ],
   "source": [
    "df = h2o.import_file(data_path)\n"
   ]
  },
  {
   "cell_type": "code",
   "execution_count": 12,
   "metadata": {
    "collapsed": true
   },
   "outputs": [],
   "source": [
    "# %tb"
   ]
  },
  {
   "cell_type": "code",
   "execution_count": 13,
   "metadata": {},
   "outputs": [
    {
     "data": {
      "text/html": [
       "<table>\n",
       "<thead>\n",
       "<tr><th style=\"text-align: right;\">  ID</th><th style=\"text-align: right;\">  LIMIT_BAL</th><th style=\"text-align: right;\">  SEX</th><th style=\"text-align: right;\">  EDUCATION</th><th style=\"text-align: right;\">  MARRIAGE</th><th style=\"text-align: right;\">  AGE</th><th style=\"text-align: right;\">  PAY_0</th><th style=\"text-align: right;\">  PAY_2</th><th style=\"text-align: right;\">  PAY_3</th><th style=\"text-align: right;\">  PAY_4</th><th style=\"text-align: right;\">  PAY_5</th><th style=\"text-align: right;\">  PAY_6</th><th style=\"text-align: right;\">  BILL_AMT1</th><th style=\"text-align: right;\">  BILL_AMT2</th><th style=\"text-align: right;\">  BILL_AMT3</th><th style=\"text-align: right;\">  BILL_AMT4</th><th style=\"text-align: right;\">  BILL_AMT5</th><th style=\"text-align: right;\">  BILL_AMT6</th><th style=\"text-align: right;\">  PAY_AMT1</th><th style=\"text-align: right;\">  PAY_AMT2</th><th style=\"text-align: right;\">  PAY_AMT3</th><th style=\"text-align: right;\">  PAY_AMT4</th><th style=\"text-align: right;\">  PAY_AMT5</th><th style=\"text-align: right;\">  PAY_AMT6</th><th style=\"text-align: right;\">  default.payment.next.month</th></tr>\n",
       "</thead>\n",
       "<tbody>\n",
       "<tr><td style=\"text-align: right;\">   1</td><td style=\"text-align: right;\">      20000</td><td style=\"text-align: right;\">    2</td><td style=\"text-align: right;\">          2</td><td style=\"text-align: right;\">         1</td><td style=\"text-align: right;\">   24</td><td style=\"text-align: right;\">      2</td><td style=\"text-align: right;\">      2</td><td style=\"text-align: right;\">     -1</td><td style=\"text-align: right;\">     -1</td><td style=\"text-align: right;\">     -2</td><td style=\"text-align: right;\">     -2</td><td style=\"text-align: right;\">       3913</td><td style=\"text-align: right;\">       3102</td><td style=\"text-align: right;\">        689</td><td style=\"text-align: right;\">          0</td><td style=\"text-align: right;\">          0</td><td style=\"text-align: right;\">          0</td><td style=\"text-align: right;\">         0</td><td style=\"text-align: right;\">       689</td><td style=\"text-align: right;\">         0</td><td style=\"text-align: right;\">         0</td><td style=\"text-align: right;\">         0</td><td style=\"text-align: right;\">         0</td><td style=\"text-align: right;\">                           1</td></tr>\n",
       "<tr><td style=\"text-align: right;\">   2</td><td style=\"text-align: right;\">     120000</td><td style=\"text-align: right;\">    2</td><td style=\"text-align: right;\">          2</td><td style=\"text-align: right;\">         2</td><td style=\"text-align: right;\">   26</td><td style=\"text-align: right;\">     -1</td><td style=\"text-align: right;\">      2</td><td style=\"text-align: right;\">      0</td><td style=\"text-align: right;\">      0</td><td style=\"text-align: right;\">      0</td><td style=\"text-align: right;\">      2</td><td style=\"text-align: right;\">       2682</td><td style=\"text-align: right;\">       1725</td><td style=\"text-align: right;\">       2682</td><td style=\"text-align: right;\">       3272</td><td style=\"text-align: right;\">       3455</td><td style=\"text-align: right;\">       3261</td><td style=\"text-align: right;\">         0</td><td style=\"text-align: right;\">      1000</td><td style=\"text-align: right;\">      1000</td><td style=\"text-align: right;\">      1000</td><td style=\"text-align: right;\">         0</td><td style=\"text-align: right;\">      2000</td><td style=\"text-align: right;\">                           1</td></tr>\n",
       "<tr><td style=\"text-align: right;\">   3</td><td style=\"text-align: right;\">      90000</td><td style=\"text-align: right;\">    2</td><td style=\"text-align: right;\">          2</td><td style=\"text-align: right;\">         2</td><td style=\"text-align: right;\">   34</td><td style=\"text-align: right;\">      0</td><td style=\"text-align: right;\">      0</td><td style=\"text-align: right;\">      0</td><td style=\"text-align: right;\">      0</td><td style=\"text-align: right;\">      0</td><td style=\"text-align: right;\">      0</td><td style=\"text-align: right;\">      29239</td><td style=\"text-align: right;\">      14027</td><td style=\"text-align: right;\">      13559</td><td style=\"text-align: right;\">      14331</td><td style=\"text-align: right;\">      14948</td><td style=\"text-align: right;\">      15549</td><td style=\"text-align: right;\">      1518</td><td style=\"text-align: right;\">      1500</td><td style=\"text-align: right;\">      1000</td><td style=\"text-align: right;\">      1000</td><td style=\"text-align: right;\">      1000</td><td style=\"text-align: right;\">      5000</td><td style=\"text-align: right;\">                           0</td></tr>\n",
       "<tr><td style=\"text-align: right;\">   4</td><td style=\"text-align: right;\">      50000</td><td style=\"text-align: right;\">    2</td><td style=\"text-align: right;\">          2</td><td style=\"text-align: right;\">         1</td><td style=\"text-align: right;\">   37</td><td style=\"text-align: right;\">      0</td><td style=\"text-align: right;\">      0</td><td style=\"text-align: right;\">      0</td><td style=\"text-align: right;\">      0</td><td style=\"text-align: right;\">      0</td><td style=\"text-align: right;\">      0</td><td style=\"text-align: right;\">      46990</td><td style=\"text-align: right;\">      48233</td><td style=\"text-align: right;\">      49291</td><td style=\"text-align: right;\">      28314</td><td style=\"text-align: right;\">      28959</td><td style=\"text-align: right;\">      29547</td><td style=\"text-align: right;\">      2000</td><td style=\"text-align: right;\">      2019</td><td style=\"text-align: right;\">      1200</td><td style=\"text-align: right;\">      1100</td><td style=\"text-align: right;\">      1069</td><td style=\"text-align: right;\">      1000</td><td style=\"text-align: right;\">                           0</td></tr>\n",
       "<tr><td style=\"text-align: right;\">   5</td><td style=\"text-align: right;\">      50000</td><td style=\"text-align: right;\">    1</td><td style=\"text-align: right;\">          2</td><td style=\"text-align: right;\">         1</td><td style=\"text-align: right;\">   57</td><td style=\"text-align: right;\">     -1</td><td style=\"text-align: right;\">      0</td><td style=\"text-align: right;\">     -1</td><td style=\"text-align: right;\">      0</td><td style=\"text-align: right;\">      0</td><td style=\"text-align: right;\">      0</td><td style=\"text-align: right;\">       8617</td><td style=\"text-align: right;\">       5670</td><td style=\"text-align: right;\">      35835</td><td style=\"text-align: right;\">      20940</td><td style=\"text-align: right;\">      19146</td><td style=\"text-align: right;\">      19131</td><td style=\"text-align: right;\">      2000</td><td style=\"text-align: right;\">     36681</td><td style=\"text-align: right;\">     10000</td><td style=\"text-align: right;\">      9000</td><td style=\"text-align: right;\">       689</td><td style=\"text-align: right;\">       679</td><td style=\"text-align: right;\">                           0</td></tr>\n",
       "<tr><td style=\"text-align: right;\">   6</td><td style=\"text-align: right;\">      50000</td><td style=\"text-align: right;\">    1</td><td style=\"text-align: right;\">          1</td><td style=\"text-align: right;\">         2</td><td style=\"text-align: right;\">   37</td><td style=\"text-align: right;\">      0</td><td style=\"text-align: right;\">      0</td><td style=\"text-align: right;\">      0</td><td style=\"text-align: right;\">      0</td><td style=\"text-align: right;\">      0</td><td style=\"text-align: right;\">      0</td><td style=\"text-align: right;\">      64400</td><td style=\"text-align: right;\">      57069</td><td style=\"text-align: right;\">      57608</td><td style=\"text-align: right;\">      19394</td><td style=\"text-align: right;\">      19619</td><td style=\"text-align: right;\">      20024</td><td style=\"text-align: right;\">      2500</td><td style=\"text-align: right;\">      1815</td><td style=\"text-align: right;\">       657</td><td style=\"text-align: right;\">      1000</td><td style=\"text-align: right;\">      1000</td><td style=\"text-align: right;\">       800</td><td style=\"text-align: right;\">                           0</td></tr>\n",
       "<tr><td style=\"text-align: right;\">   7</td><td style=\"text-align: right;\">     500000</td><td style=\"text-align: right;\">    1</td><td style=\"text-align: right;\">          1</td><td style=\"text-align: right;\">         2</td><td style=\"text-align: right;\">   29</td><td style=\"text-align: right;\">      0</td><td style=\"text-align: right;\">      0</td><td style=\"text-align: right;\">      0</td><td style=\"text-align: right;\">      0</td><td style=\"text-align: right;\">      0</td><td style=\"text-align: right;\">      0</td><td style=\"text-align: right;\">     367965</td><td style=\"text-align: right;\">     412023</td><td style=\"text-align: right;\">     445007</td><td style=\"text-align: right;\">     542653</td><td style=\"text-align: right;\">     483003</td><td style=\"text-align: right;\">     473944</td><td style=\"text-align: right;\">     55000</td><td style=\"text-align: right;\">     40000</td><td style=\"text-align: right;\">     38000</td><td style=\"text-align: right;\">     20239</td><td style=\"text-align: right;\">     13750</td><td style=\"text-align: right;\">     13770</td><td style=\"text-align: right;\">                           0</td></tr>\n",
       "<tr><td style=\"text-align: right;\">   8</td><td style=\"text-align: right;\">     100000</td><td style=\"text-align: right;\">    2</td><td style=\"text-align: right;\">          2</td><td style=\"text-align: right;\">         2</td><td style=\"text-align: right;\">   23</td><td style=\"text-align: right;\">      0</td><td style=\"text-align: right;\">     -1</td><td style=\"text-align: right;\">     -1</td><td style=\"text-align: right;\">      0</td><td style=\"text-align: right;\">      0</td><td style=\"text-align: right;\">     -1</td><td style=\"text-align: right;\">      11876</td><td style=\"text-align: right;\">        380</td><td style=\"text-align: right;\">        601</td><td style=\"text-align: right;\">        221</td><td style=\"text-align: right;\">       -159</td><td style=\"text-align: right;\">        567</td><td style=\"text-align: right;\">       380</td><td style=\"text-align: right;\">       601</td><td style=\"text-align: right;\">         0</td><td style=\"text-align: right;\">       581</td><td style=\"text-align: right;\">      1687</td><td style=\"text-align: right;\">      1542</td><td style=\"text-align: right;\">                           0</td></tr>\n",
       "<tr><td style=\"text-align: right;\">   9</td><td style=\"text-align: right;\">     140000</td><td style=\"text-align: right;\">    2</td><td style=\"text-align: right;\">          3</td><td style=\"text-align: right;\">         1</td><td style=\"text-align: right;\">   28</td><td style=\"text-align: right;\">      0</td><td style=\"text-align: right;\">      0</td><td style=\"text-align: right;\">      2</td><td style=\"text-align: right;\">      0</td><td style=\"text-align: right;\">      0</td><td style=\"text-align: right;\">      0</td><td style=\"text-align: right;\">      11285</td><td style=\"text-align: right;\">      14096</td><td style=\"text-align: right;\">      12108</td><td style=\"text-align: right;\">      12211</td><td style=\"text-align: right;\">      11793</td><td style=\"text-align: right;\">       3719</td><td style=\"text-align: right;\">      3329</td><td style=\"text-align: right;\">         0</td><td style=\"text-align: right;\">       432</td><td style=\"text-align: right;\">      1000</td><td style=\"text-align: right;\">      1000</td><td style=\"text-align: right;\">      1000</td><td style=\"text-align: right;\">                           0</td></tr>\n",
       "<tr><td style=\"text-align: right;\">  10</td><td style=\"text-align: right;\">      20000</td><td style=\"text-align: right;\">    1</td><td style=\"text-align: right;\">          3</td><td style=\"text-align: right;\">         2</td><td style=\"text-align: right;\">   35</td><td style=\"text-align: right;\">     -2</td><td style=\"text-align: right;\">     -2</td><td style=\"text-align: right;\">     -2</td><td style=\"text-align: right;\">     -2</td><td style=\"text-align: right;\">     -1</td><td style=\"text-align: right;\">     -1</td><td style=\"text-align: right;\">          0</td><td style=\"text-align: right;\">          0</td><td style=\"text-align: right;\">          0</td><td style=\"text-align: right;\">          0</td><td style=\"text-align: right;\">      13007</td><td style=\"text-align: right;\">      13912</td><td style=\"text-align: right;\">         0</td><td style=\"text-align: right;\">         0</td><td style=\"text-align: right;\">         0</td><td style=\"text-align: right;\">     13007</td><td style=\"text-align: right;\">      1122</td><td style=\"text-align: right;\">         0</td><td style=\"text-align: right;\">                           0</td></tr>\n",
       "</tbody>\n",
       "</table>"
      ]
     },
     "metadata": {},
     "output_type": "display_data"
    },
    {
     "data": {
      "text/plain": []
     },
     "execution_count": 13,
     "metadata": {},
     "output_type": "execute_result"
    }
   ],
   "source": [
    "df.head()"
   ]
  },
  {
   "cell_type": "code",
   "execution_count": 14,
   "metadata": {},
   "outputs": [
    {
     "name": "stdout",
     "output_type": "stream",
     "text": [
      "Rows:30000\n",
      "Cols:25\n",
      "\n",
      "\n"
     ]
    },
    {
     "data": {
      "text/html": [
       "<table>\n",
       "<thead>\n",
       "<tr><th>       </th><th>ID               </th><th>LIMIT_BAL         </th><th>SEX                </th><th>EDUCATION         </th><th>MARRIAGE          </th><th>AGE              </th><th>PAY_0                </th><th>PAY_2               </th><th>PAY_3               </th><th>PAY_4               </th><th>PAY_5               </th><th>PAY_6              </th><th>BILL_AMT1        </th><th>BILL_AMT2        </th><th>BILL_AMT3        </th><th>BILL_AMT4        </th><th>BILL_AMT5        </th><th>BILL_AMT6        </th><th>PAY_AMT1          </th><th>PAY_AMT2         </th><th>PAY_AMT3          </th><th>PAY_AMT4          </th><th>PAY_AMT5         </th><th>PAY_AMT6          </th><th>default.payment.next.month  </th></tr>\n",
       "</thead>\n",
       "<tbody>\n",
       "<tr><td>type   </td><td>int              </td><td>int               </td><td>int                </td><td>int               </td><td>int               </td><td>int              </td><td>int                  </td><td>int                 </td><td>int                 </td><td>int                 </td><td>int                 </td><td>int                </td><td>int              </td><td>int              </td><td>int              </td><td>int              </td><td>int              </td><td>int              </td><td>int               </td><td>int              </td><td>int               </td><td>int               </td><td>int              </td><td>int               </td><td>int                         </td></tr>\n",
       "<tr><td>mins   </td><td>1.0              </td><td>10000.0           </td><td>1.0                </td><td>0.0               </td><td>0.0               </td><td>21.0             </td><td>-2.0                 </td><td>-2.0                </td><td>-2.0                </td><td>-2.0                </td><td>-2.0                </td><td>-2.0               </td><td>-165580.0        </td><td>-69777.0         </td><td>-157264.0        </td><td>-170000.0        </td><td>-81334.0         </td><td>-339603.0        </td><td>0.0               </td><td>0.0              </td><td>0.0               </td><td>0.0               </td><td>0.0              </td><td>0.0               </td><td>0.0                         </td></tr>\n",
       "<tr><td>mean   </td><td>15000.5          </td><td>167484.32266666667</td><td>1.6037333333333332 </td><td>1.8531333333333335</td><td>1.5518666666666667</td><td>35.4855          </td><td>-0.016700000000000027</td><td>-0.13376666666666664</td><td>-0.16619999999999993</td><td>-0.22066666666666668</td><td>-0.26620000000000005</td><td>-0.2911000000000001</td><td>51223.3309       </td><td>49179.07516666667</td><td>47013.1548       </td><td>43262.94896666665</td><td>40311.40096666667</td><td>38871.7604       </td><td>5663.5805         </td><td>5921.1635        </td><td>5225.6815         </td><td>4826.076866666666 </td><td>4799.387633333331</td><td>5215.502566666667 </td><td>0.2212                      </td></tr>\n",
       "<tr><td>maxs   </td><td>30000.0          </td><td>1000000.0         </td><td>2.0                </td><td>6.0               </td><td>3.0               </td><td>79.0             </td><td>8.0                  </td><td>8.0                 </td><td>8.0                 </td><td>8.0                 </td><td>8.0                 </td><td>8.0                </td><td>964511.0         </td><td>983931.0         </td><td>1664089.0        </td><td>891586.0         </td><td>927171.0         </td><td>961664.0         </td><td>873552.0          </td><td>1684259.0        </td><td>896040.0          </td><td>621000.0          </td><td>426529.0         </td><td>528666.0          </td><td>1.0                         </td></tr>\n",
       "<tr><td>sigma  </td><td>8660.398374208891</td><td>129747.6615672024 </td><td>0.48912919609026034</td><td>0.7903486597207292</td><td>0.5219696006132487</td><td>9.217904068090185</td><td>1.1238015279973346   </td><td>1.1971859730345533  </td><td>1.1968675684465733  </td><td>1.1691386224023375  </td><td>1.1331874060027483  </td><td>1.1499876256079027 </td><td>73635.86057552957</td><td>71173.76878252834</td><td>69349.38742703683</td><td>64332.85613391631</td><td>60797.15577026487</td><td>59554.10753674573</td><td>16563.280354025766</td><td>23040.87040205723</td><td>17606.961469803104</td><td>15666.159744032007</td><td>15278.30567914479</td><td>17777.465775435303</td><td>0.41506180569093337         </td></tr>\n",
       "<tr><td>zeros  </td><td>0                </td><td>0                 </td><td>0                  </td><td>14                </td><td>54                </td><td>0                </td><td>14737                </td><td>15730               </td><td>15764               </td><td>16455               </td><td>16947               </td><td>16286              </td><td>2008             </td><td>2506             </td><td>2870             </td><td>3195             </td><td>3506             </td><td>4020             </td><td>5249              </td><td>5396             </td><td>5968              </td><td>6408              </td><td>6703             </td><td>7173              </td><td>23364                       </td></tr>\n",
       "<tr><td>missing</td><td>0                </td><td>0                 </td><td>0                  </td><td>0                 </td><td>0                 </td><td>0                </td><td>0                    </td><td>0                   </td><td>0                   </td><td>0                   </td><td>0                   </td><td>0                  </td><td>0                </td><td>0                </td><td>0                </td><td>0                </td><td>0                </td><td>0                </td><td>0                 </td><td>0                </td><td>0                 </td><td>0                 </td><td>0                </td><td>0                 </td><td>0                           </td></tr>\n",
       "<tr><td>0      </td><td>1.0              </td><td>20000.0           </td><td>2.0                </td><td>2.0               </td><td>1.0               </td><td>24.0             </td><td>2.0                  </td><td>2.0                 </td><td>-1.0                </td><td>-1.0                </td><td>-2.0                </td><td>-2.0               </td><td>3913.0           </td><td>3102.0           </td><td>689.0            </td><td>0.0              </td><td>0.0              </td><td>0.0              </td><td>0.0               </td><td>689.0            </td><td>0.0               </td><td>0.0               </td><td>0.0              </td><td>0.0               </td><td>1.0                         </td></tr>\n",
       "<tr><td>1      </td><td>2.0              </td><td>120000.0          </td><td>2.0                </td><td>2.0               </td><td>2.0               </td><td>26.0             </td><td>-1.0                 </td><td>2.0                 </td><td>0.0                 </td><td>0.0                 </td><td>0.0                 </td><td>2.0                </td><td>2682.0           </td><td>1725.0           </td><td>2682.0           </td><td>3272.0           </td><td>3455.0           </td><td>3261.0           </td><td>0.0               </td><td>1000.0           </td><td>1000.0            </td><td>1000.0            </td><td>0.0              </td><td>2000.0            </td><td>1.0                         </td></tr>\n",
       "<tr><td>2      </td><td>3.0              </td><td>90000.0           </td><td>2.0                </td><td>2.0               </td><td>2.0               </td><td>34.0             </td><td>0.0                  </td><td>0.0                 </td><td>0.0                 </td><td>0.0                 </td><td>0.0                 </td><td>0.0                </td><td>29239.0          </td><td>14027.0          </td><td>13559.0          </td><td>14331.0          </td><td>14948.0          </td><td>15549.0          </td><td>1518.0            </td><td>1500.0           </td><td>1000.0            </td><td>1000.0            </td><td>1000.0           </td><td>5000.0            </td><td>0.0                         </td></tr>\n",
       "<tr><td>3      </td><td>4.0              </td><td>50000.0           </td><td>2.0                </td><td>2.0               </td><td>1.0               </td><td>37.0             </td><td>0.0                  </td><td>0.0                 </td><td>0.0                 </td><td>0.0                 </td><td>0.0                 </td><td>0.0                </td><td>46990.0          </td><td>48233.0          </td><td>49291.0          </td><td>28314.0          </td><td>28959.0          </td><td>29547.0          </td><td>2000.0            </td><td>2019.0           </td><td>1200.0            </td><td>1100.0            </td><td>1069.0           </td><td>1000.0            </td><td>0.0                         </td></tr>\n",
       "<tr><td>4      </td><td>5.0              </td><td>50000.0           </td><td>1.0                </td><td>2.0               </td><td>1.0               </td><td>57.0             </td><td>-1.0                 </td><td>0.0                 </td><td>-1.0                </td><td>0.0                 </td><td>0.0                 </td><td>0.0                </td><td>8617.0           </td><td>5670.0           </td><td>35835.0          </td><td>20940.0          </td><td>19146.0          </td><td>19131.0          </td><td>2000.0            </td><td>36681.0          </td><td>10000.0           </td><td>9000.0            </td><td>689.0            </td><td>679.0             </td><td>0.0                         </td></tr>\n",
       "<tr><td>5      </td><td>6.0              </td><td>50000.0           </td><td>1.0                </td><td>1.0               </td><td>2.0               </td><td>37.0             </td><td>0.0                  </td><td>0.0                 </td><td>0.0                 </td><td>0.0                 </td><td>0.0                 </td><td>0.0                </td><td>64400.0          </td><td>57069.0          </td><td>57608.0          </td><td>19394.0          </td><td>19619.0          </td><td>20024.0          </td><td>2500.0            </td><td>1815.0           </td><td>657.0             </td><td>1000.0            </td><td>1000.0           </td><td>800.0             </td><td>0.0                         </td></tr>\n",
       "<tr><td>6      </td><td>7.0              </td><td>500000.0          </td><td>1.0                </td><td>1.0               </td><td>2.0               </td><td>29.0             </td><td>0.0                  </td><td>0.0                 </td><td>0.0                 </td><td>0.0                 </td><td>0.0                 </td><td>0.0                </td><td>367965.0         </td><td>412023.0         </td><td>445007.0         </td><td>542653.0         </td><td>483003.0         </td><td>473944.0         </td><td>55000.0           </td><td>40000.0          </td><td>38000.0           </td><td>20239.0           </td><td>13750.0          </td><td>13770.0           </td><td>0.0                         </td></tr>\n",
       "<tr><td>7      </td><td>8.0              </td><td>100000.0          </td><td>2.0                </td><td>2.0               </td><td>2.0               </td><td>23.0             </td><td>0.0                  </td><td>-1.0                </td><td>-1.0                </td><td>0.0                 </td><td>0.0                 </td><td>-1.0               </td><td>11876.0          </td><td>380.0            </td><td>601.0            </td><td>221.0            </td><td>-159.0           </td><td>567.0            </td><td>380.0             </td><td>601.0            </td><td>0.0               </td><td>581.0             </td><td>1687.0           </td><td>1542.0            </td><td>0.0                         </td></tr>\n",
       "<tr><td>8      </td><td>9.0              </td><td>140000.0          </td><td>2.0                </td><td>3.0               </td><td>1.0               </td><td>28.0             </td><td>0.0                  </td><td>0.0                 </td><td>2.0                 </td><td>0.0                 </td><td>0.0                 </td><td>0.0                </td><td>11285.0          </td><td>14096.0          </td><td>12108.0          </td><td>12211.0          </td><td>11793.0          </td><td>3719.0           </td><td>3329.0            </td><td>0.0              </td><td>432.0             </td><td>1000.0            </td><td>1000.0           </td><td>1000.0            </td><td>0.0                         </td></tr>\n",
       "<tr><td>9      </td><td>10.0             </td><td>20000.0           </td><td>1.0                </td><td>3.0               </td><td>2.0               </td><td>35.0             </td><td>-2.0                 </td><td>-2.0                </td><td>-2.0                </td><td>-2.0                </td><td>-1.0                </td><td>-1.0               </td><td>0.0              </td><td>0.0              </td><td>0.0              </td><td>0.0              </td><td>13007.0          </td><td>13912.0          </td><td>0.0               </td><td>0.0              </td><td>0.0               </td><td>13007.0           </td><td>1122.0           </td><td>0.0               </td><td>0.0                         </td></tr>\n",
       "</tbody>\n",
       "</table>"
      ]
     },
     "metadata": {},
     "output_type": "display_data"
    }
   ],
   "source": [
    "df.describe()"
   ]
  },
  {
   "cell_type": "code",
   "execution_count": 26,
   "metadata": {},
   "outputs": [
    {
     "data": {
      "text/plain": [
       "(30000, 25)"
      ]
     },
     "execution_count": 26,
     "metadata": {},
     "output_type": "execute_result"
    }
   ],
   "source": [
    "df.shape"
   ]
  },
  {
   "cell_type": "code",
   "execution_count": 27,
   "metadata": {
    "collapsed": true
   },
   "outputs": [],
   "source": [
    "if target==None:\n",
    "  target=df.columns[-1]   \n",
    "y = target"
   ]
  },
  {
   "cell_type": "code",
   "execution_count": 28,
   "metadata": {},
   "outputs": [
    {
     "name": "stdout",
     "output_type": "stream",
     "text": [
      "default.payment.next.month\n"
     ]
    }
   ],
   "source": [
    "print(y)"
   ]
  },
  {
   "cell_type": "code",
   "execution_count": 36,
   "metadata": {
    "collapsed": true
   },
   "outputs": [],
   "source": [
    "def get_independent_variables(df, targ):\n",
    "    C = [name for name in df.columns if name != targ]\n",
    "    # determine column types\n",
    "    ints, reals, enums = [], [], []\n",
    "    for key, val in df.types.items():\n",
    "        if key in C:\n",
    "            if val == 'enum':\n",
    "                enums.append(key)\n",
    "            elif val == 'int':\n",
    "                ints.append(key)            \n",
    "            else: \n",
    "                reals.append(key)    \n",
    "    x=ints+enums+reals\n",
    "    return x"
   ]
  },
  {
   "cell_type": "code",
   "execution_count": 37,
   "metadata": {},
   "outputs": [
    {
     "name": "stdout",
     "output_type": "stream",
     "text": [
      "['ID', 'LIMIT_BAL', 'SEX', 'EDUCATION', 'MARRIAGE', 'AGE', 'PAY_0', 'PAY_2', 'PAY_3', 'PAY_4', 'PAY_5', 'PAY_6', 'BILL_AMT1', 'BILL_AMT2', 'BILL_AMT3', 'BILL_AMT4', 'BILL_AMT5', 'BILL_AMT6', 'PAY_AMT1', 'PAY_AMT2', 'PAY_AMT3', 'PAY_AMT4', 'PAY_AMT5', 'PAY_AMT6']\n"
     ]
    }
   ],
   "source": [
    "X=get_independent_variables(df, target) \n",
    "print(X)"
   ]
  },
  {
   "cell_type": "code",
   "execution_count": 40,
   "metadata": {
    "collapsed": true
   },
   "outputs": [],
   "source": [
    "def impute_missing_values(df, x, scal=False):\n",
    "    # determine column types\n",
    "    ints, reals, enums = [], [], []\n",
    "    for key, val in df.types.items():\n",
    "        if key in x:\n",
    "            if val == 'enum':\n",
    "                enums.append(key)\n",
    "            elif val == 'int':\n",
    "                ints.append(key)            \n",
    "            else: \n",
    "                reals.append(key)    \n",
    "    _ = df[reals].impute(method='mean')\n",
    "    _ = df[ints].impute(method='median')\n",
    "    if scal:\n",
    "        df[reals] = df[reals].scale()\n",
    "        df[ints] = df[ints].scale()    \n",
    "    return df"
   ]
  },
  {
   "cell_type": "code",
   "execution_count": 41,
   "metadata": {
    "collapsed": true
   },
   "outputs": [],
   "source": [
    "df=impute_missing_values(df,X)"
   ]
  },
  {
   "cell_type": "code",
   "execution_count": 43,
   "metadata": {
    "collapsed": true
   },
   "outputs": [],
   "source": [
    "# Set up AutoML\n",
    "\n",
    "aml = H2OAutoML(max_runtime_secs=run_time)"
   ]
  },
  {
   "cell_type": "markdown",
   "metadata": {},
   "source": [
    "# train model\n",
    "\n",
    "model_start_time = time.time()\n",
    "  \n",
    "try:\n",
    "  aml.train(x=X,y=y,training_frame=df)  # Change training_frame=train\n",
    "except Exception as e:\n",
    "  logging.critical('aml.train') \n",
    "  h2o.download_all_logs(dirname=logs_path, filename=logfile)      \n",
    "  h2o.cluster().shutdown()   \n",
    "  sys.exit(4)\n",
    "  \n",
    "meta_data['model_execution_time'] = time.time() - model_start_time  "
   ]
  },
  {
   "cell_type": "code",
   "execution_count": 44,
   "metadata": {},
   "outputs": [
    {
     "name": "stdout",
     "output_type": "stream",
     "text": [
      "AutoML progress: |█████████████████████████████████████████████████████████| 100%\n"
     ]
    }
   ],
   "source": [
    "aml.train(x=X,y=y,training_frame=df)  "
   ]
  },
  {
   "cell_type": "code",
   "execution_count": 45,
   "metadata": {},
   "outputs": [
    {
     "data": {
      "text/html": [
       "<table>\n",
       "<thead>\n",
       "<tr><th>model_id                                           </th><th style=\"text-align: right;\">  mean_residual_deviance</th><th style=\"text-align: right;\">    rmse</th><th style=\"text-align: right;\">     mse</th><th style=\"text-align: right;\">     mae</th><th style=\"text-align: right;\">   rmsle</th></tr>\n",
       "</thead>\n",
       "<tbody>\n",
       "<tr><td>StackedEnsemble_AllModels_AutoML_20190316_012004   </td><td style=\"text-align: right;\">                0.132996</td><td style=\"text-align: right;\">0.364687</td><td style=\"text-align: right;\">0.132996</td><td style=\"text-align: right;\">0.266008</td><td style=\"text-align: right;\">0.255527</td></tr>\n",
       "<tr><td>StackedEnsemble_BestOfFamily_AutoML_20190316_012004</td><td style=\"text-align: right;\">                0.133167</td><td style=\"text-align: right;\">0.364921</td><td style=\"text-align: right;\">0.133167</td><td style=\"text-align: right;\">0.266349</td><td style=\"text-align: right;\">0.255663</td></tr>\n",
       "<tr><td>XGBoost_1_AutoML_20190316_012004                   </td><td style=\"text-align: right;\">                0.133322</td><td style=\"text-align: right;\">0.365132</td><td style=\"text-align: right;\">0.133322</td><td style=\"text-align: right;\">0.269817</td><td style=\"text-align: right;\">0.25603 </td></tr>\n",
       "<tr><td>GBM_2_AutoML_20190316_012004                       </td><td style=\"text-align: right;\">                0.133818</td><td style=\"text-align: right;\">0.365811</td><td style=\"text-align: right;\">0.133818</td><td style=\"text-align: right;\">0.267148</td><td style=\"text-align: right;\">0.256351</td></tr>\n",
       "<tr><td>GBM_1_AutoML_20190316_012004                       </td><td style=\"text-align: right;\">                0.133859</td><td style=\"text-align: right;\">0.365867</td><td style=\"text-align: right;\">0.133859</td><td style=\"text-align: right;\">0.268027</td><td style=\"text-align: right;\">0.25637 </td></tr>\n",
       "<tr><td>GBM_3_AutoML_20190316_012004                       </td><td style=\"text-align: right;\">                0.13388 </td><td style=\"text-align: right;\">0.365896</td><td style=\"text-align: right;\">0.13388 </td><td style=\"text-align: right;\">0.26666 </td><td style=\"text-align: right;\">0.256555</td></tr>\n",
       "<tr><td>GBM_4_AutoML_20190316_012004                       </td><td style=\"text-align: right;\">                0.135269</td><td style=\"text-align: right;\">0.367789</td><td style=\"text-align: right;\">0.135269</td><td style=\"text-align: right;\">0.266836</td><td style=\"text-align: right;\">0.258013</td></tr>\n",
       "<tr><td>XGBoost_2_AutoML_20190316_012004                   </td><td style=\"text-align: right;\">                0.135369</td><td style=\"text-align: right;\">0.367925</td><td style=\"text-align: right;\">0.135369</td><td style=\"text-align: right;\">0.273653</td><td style=\"text-align: right;\">0.25902 </td></tr>\n",
       "<tr><td>XGBoost_3_AutoML_20190316_012004                   </td><td style=\"text-align: right;\">                0.137617</td><td style=\"text-align: right;\">0.370967</td><td style=\"text-align: right;\">0.137617</td><td style=\"text-align: right;\">0.276157</td><td style=\"text-align: right;\">0.262327</td></tr>\n",
       "<tr><td>XRT_1_AutoML_20190316_012004                       </td><td style=\"text-align: right;\">                0.140828</td><td style=\"text-align: right;\">0.375271</td><td style=\"text-align: right;\">0.140828</td><td style=\"text-align: right;\">0.272865</td><td style=\"text-align: right;\">0.264961</td></tr>\n",
       "</tbody>\n",
       "</table>"
      ]
     },
     "metadata": {},
     "output_type": "display_data"
    },
    {
     "data": {
      "text/plain": []
     },
     "execution_count": 45,
     "metadata": {},
     "output_type": "execute_result"
    }
   ],
   "source": [
    "aml.leaderboard"
   ]
  },
  {
   "cell_type": "code",
   "execution_count": 47,
   "metadata": {},
   "outputs": [],
   "source": [
    "# get leaderboard\n",
    "aml_leaderboard_df=aml.leaderboard.as_data_frame()\n",
    "\n",
    "\n",
    "# STart best model as first model\n",
    "\n",
    "model_set=aml_leaderboard_df['model_id']\n"
   ]
  },
  {
   "cell_type": "code",
   "execution_count": 48,
   "metadata": {
    "collapsed": true
   },
   "outputs": [],
   "source": [
    "mod_best=h2o.get_model(model_set[0])"
   ]
  },
  {
   "cell_type": "code",
   "execution_count": 49,
   "metadata": {},
   "outputs": [
    {
     "data": {
      "text/plain": [
       "'stackedensemble'"
      ]
     },
     "execution_count": 49,
     "metadata": {},
     "output_type": "execute_result"
    }
   ],
   "source": [
    "# Get stacked ensemble  \n",
    "mod_best.algo"
   ]
  },
  {
   "cell_type": "code",
   "execution_count": 51,
   "metadata": {
    "collapsed": true
   },
   "outputs": [],
   "source": [
    "mod=h2o.get_model(model_set[3])"
   ]
  },
  {
   "cell_type": "code",
   "execution_count": 52,
   "metadata": {},
   "outputs": [
    {
     "data": {
      "text/plain": [
       "'gbm'"
      ]
     },
     "execution_count": 52,
     "metadata": {},
     "output_type": "execute_result"
    }
   ],
   "source": [
    "mod.algo"
   ]
  },
  {
   "cell_type": "code",
   "execution_count": 53,
   "metadata": {},
   "outputs": [
    {
     "data": {
      "text/plain": [
       "['__class__',\n",
       " '__delattr__',\n",
       " '__dict__',\n",
       " '__dir__',\n",
       " '__doc__',\n",
       " '__eq__',\n",
       " '__format__',\n",
       " '__ge__',\n",
       " '__getattr__',\n",
       " '__getattribute__',\n",
       " '__gt__',\n",
       " '__hash__',\n",
       " '__init__',\n",
       " '__init_subclass__',\n",
       " '__le__',\n",
       " '__lt__',\n",
       " '__module__',\n",
       " '__ne__',\n",
       " '__new__',\n",
       " '__reduce__',\n",
       " '__reduce_ex__',\n",
       " '__repr__',\n",
       " '__setattr__',\n",
       " '__sizeof__',\n",
       " '__str__',\n",
       " '__subclasshook__',\n",
       " '__weakref__',\n",
       " '_bc',\n",
       " '_bcin',\n",
       " '_check_and_save_parm',\n",
       " '_check_targets',\n",
       " '_compute_algo',\n",
       " '_end_time',\n",
       " '_estimator_type',\n",
       " '_future',\n",
       " '_get_metrics',\n",
       " '_have_mojo',\n",
       " '_have_pojo',\n",
       " '_id',\n",
       " '_is_xvalidated',\n",
       " '_job',\n",
       " '_keyify_if_h2oframe',\n",
       " '_make_model',\n",
       " '_metrics_class',\n",
       " '_model_json',\n",
       " '_parms',\n",
       " '_plot',\n",
       " '_requires_training_frame',\n",
       " '_resolve_model',\n",
       " '_run_time',\n",
       " '_start_time',\n",
       " '_verify_training_frame_params',\n",
       " '_xval_keys',\n",
       " 'actual_params',\n",
       " 'aic',\n",
       " 'algo',\n",
       " 'auc',\n",
       " 'balance_classes',\n",
       " 'biases',\n",
       " 'build_tree_one_node',\n",
       " 'calibrate_model',\n",
       " 'calibration_frame',\n",
       " 'categorical_encoding',\n",
       " 'catoffsets',\n",
       " 'checkpoint',\n",
       " 'class_sampling_factors',\n",
       " 'coef',\n",
       " 'coef_norm',\n",
       " 'col_sample_rate',\n",
       " 'col_sample_rate_change_per_level',\n",
       " 'col_sample_rate_per_tree',\n",
       " 'convert_H2OXGBoostParams_2_XGBoostParams',\n",
       " 'cross_validation_fold_assignment',\n",
       " 'cross_validation_holdout_predictions',\n",
       " 'cross_validation_metrics_summary',\n",
       " 'cross_validation_models',\n",
       " 'cross_validation_predictions',\n",
       " 'custom_metric_func',\n",
       " 'deepfeatures',\n",
       " 'default_params',\n",
       " 'distribution',\n",
       " 'download_mojo',\n",
       " 'download_pojo',\n",
       " 'end_time',\n",
       " 'export_checkpoints_dir',\n",
       " 'fit',\n",
       " 'fold_assignment',\n",
       " 'fold_column',\n",
       " 'full_parameters',\n",
       " 'get_params',\n",
       " 'get_xval_models',\n",
       " 'gini',\n",
       " 'have_mojo',\n",
       " 'have_pojo',\n",
       " 'histogram_type',\n",
       " 'huber_alpha',\n",
       " 'ignore_const_cols',\n",
       " 'ignored_columns',\n",
       " 'is_cross_validated',\n",
       " 'join',\n",
       " 'keep_cross_validation_fold_assignment',\n",
       " 'keep_cross_validation_models',\n",
       " 'keep_cross_validation_predictions',\n",
       " 'learn_rate',\n",
       " 'learn_rate_annealing',\n",
       " 'logloss',\n",
       " 'mae',\n",
       " 'max_abs_leafnode_pred',\n",
       " 'max_after_balance_size',\n",
       " 'max_confusion_matrix_size',\n",
       " 'max_depth',\n",
       " 'max_hit_ratio_k',\n",
       " 'max_runtime_secs',\n",
       " 'mean_residual_deviance',\n",
       " 'min_rows',\n",
       " 'min_split_improvement',\n",
       " 'mixin',\n",
       " 'model_id',\n",
       " 'model_performance',\n",
       " 'monotone_constraints',\n",
       " 'mse',\n",
       " 'nbins',\n",
       " 'nbins_cats',\n",
       " 'nbins_top_level',\n",
       " 'nfolds',\n",
       " 'normmul',\n",
       " 'normsub',\n",
       " 'ntrees',\n",
       " 'null_degrees_of_freedom',\n",
       " 'null_deviance',\n",
       " 'offset_column',\n",
       " 'params',\n",
       " 'parms',\n",
       " 'partial_plot',\n",
       " 'plot',\n",
       " 'pprint_coef',\n",
       " 'pred_noise_bandwidth',\n",
       " 'predict',\n",
       " 'predict_leaf_node_assignment',\n",
       " 'quantile_alpha',\n",
       " 'r2',\n",
       " 'r2_stopping',\n",
       " 'residual_degrees_of_freedom',\n",
       " 'residual_deviance',\n",
       " 'respmul',\n",
       " 'response_column',\n",
       " 'respsub',\n",
       " 'rmse',\n",
       " 'rmsle',\n",
       " 'rotation',\n",
       " 'run_time',\n",
       " 'sample_rate',\n",
       " 'sample_rate_per_class',\n",
       " 'save_model_details',\n",
       " 'save_mojo',\n",
       " 'score_each_iteration',\n",
       " 'score_history',\n",
       " 'score_tree_interval',\n",
       " 'scoring_history',\n",
       " 'seed',\n",
       " 'set_params',\n",
       " 'show',\n",
       " 'staged_predict_proba',\n",
       " 'start',\n",
       " 'start_time',\n",
       " 'std_coef_plot',\n",
       " 'stopping_metric',\n",
       " 'stopping_rounds',\n",
       " 'stopping_tolerance',\n",
       " 'summary',\n",
       " 'train',\n",
       " 'training_frame',\n",
       " 'tweedie_power',\n",
       " 'type',\n",
       " 'validation_frame',\n",
       " 'varimp',\n",
       " 'varimp_plot',\n",
       " 'weights',\n",
       " 'weights_column',\n",
       " 'xval_keys',\n",
       " 'xvals']"
      ]
     },
     "execution_count": 53,
     "metadata": {},
     "output_type": "execute_result"
    }
   ],
   "source": [
    "dir(mod)"
   ]
  },
  {
   "cell_type": "code",
   "execution_count": 55,
   "metadata": {},
   "outputs": [
    {
     "name": "stdout",
     "output_type": "stream",
     "text": [
      "Model Details\n",
      "=============\n",
      "H2OGradientBoostingEstimator :  Gradient Boosting Machine\n",
      "Model Key:  GBM_2_AutoML_20190316_012004\n",
      "\n",
      "\n",
      "ModelMetricsRegression: gbm\n",
      "** Reported on train data. **\n",
      "\n",
      "MSE: 0.11929165733119337\n",
      "RMSE: 0.3453862436913106\n",
      "MAE: 0.25195608454618096\n",
      "RMSLE: 0.24171161630636318\n",
      "Mean Residual Deviance: 0.11929165733119337\n",
      "\n",
      "ModelMetricsRegression: gbm\n",
      "** Reported on cross-validation data. **\n",
      "\n",
      "MSE: 0.13381792295432315\n",
      "RMSE: 0.3658113215228899\n",
      "MAE: 0.26714761579053947\n",
      "RMSLE: 0.2563514389097315\n",
      "Mean Residual Deviance: 0.13381792295432315\n",
      "Cross-Validation Metrics Summary: \n"
     ]
    },
    {
     "data": {
      "text/html": [
       "<div style=\"overflow:auto\"><table style=\"width:50%\"><tr><td><b></b></td>\n",
       "<td><b>mean</b></td>\n",
       "<td><b>sd</b></td>\n",
       "<td><b>cv_1_valid</b></td>\n",
       "<td><b>cv_2_valid</b></td>\n",
       "<td><b>cv_3_valid</b></td>\n",
       "<td><b>cv_4_valid</b></td>\n",
       "<td><b>cv_5_valid</b></td></tr>\n",
       "<tr><td>mae</td>\n",
       "<td>0.2671476</td>\n",
       "<td>0.0016803</td>\n",
       "<td>0.2712587</td>\n",
       "<td>0.2646183</td>\n",
       "<td>0.2662308</td>\n",
       "<td>0.2682067</td>\n",
       "<td>0.2654237</td></tr>\n",
       "<tr><td>mean_residual_deviance</td>\n",
       "<td>0.1338179</td>\n",
       "<td>0.0016097</td>\n",
       "<td>0.1367115</td>\n",
       "<td>0.130379</td>\n",
       "<td>0.1336236</td>\n",
       "<td>0.1358313</td>\n",
       "<td>0.1325442</td></tr>\n",
       "<tr><td>mse</td>\n",
       "<td>0.1338179</td>\n",
       "<td>0.0016097</td>\n",
       "<td>0.1367115</td>\n",
       "<td>0.130379</td>\n",
       "<td>0.1336236</td>\n",
       "<td>0.1358313</td>\n",
       "<td>0.1325442</td></tr>\n",
       "<tr><td>r2</td>\n",
       "<td>0.2231702</td>\n",
       "<td>0.0096460</td>\n",
       "<td>0.2063285</td>\n",
       "<td>0.2373058</td>\n",
       "<td>0.2229959</td>\n",
       "<td>0.2097306</td>\n",
       "<td>0.2394901</td></tr>\n",
       "<tr><td>residual_deviance</td>\n",
       "<td>0.1338179</td>\n",
       "<td>0.0016097</td>\n",
       "<td>0.1367115</td>\n",
       "<td>0.130379</td>\n",
       "<td>0.1336236</td>\n",
       "<td>0.1358313</td>\n",
       "<td>0.1325442</td></tr>\n",
       "<tr><td>rmse</td>\n",
       "<td>0.3657981</td>\n",
       "<td>0.0022020</td>\n",
       "<td>0.3697452</td>\n",
       "<td>0.3610803</td>\n",
       "<td>0.3655457</td>\n",
       "<td>0.3685530</td>\n",
       "<td>0.3640662</td></tr>\n",
       "<tr><td>rmsle</td>\n",
       "<td>0.2563433</td>\n",
       "<td>0.0014418</td>\n",
       "<td>0.2590297</td>\n",
       "<td>0.2536743</td>\n",
       "<td>0.2566450</td>\n",
       "<td>0.2579592</td>\n",
       "<td>0.2544083</td></tr></table></div>"
      ],
      "text/plain": [
       "                        mean      sd          cv_1_valid    cv_2_valid    cv_3_valid    cv_4_valid    cv_5_valid\n",
       "----------------------  --------  ----------  ------------  ------------  ------------  ------------  ------------\n",
       "mae                     0.267148  0.00168026  0.271259      0.264618      0.266231      0.268207      0.265424\n",
       "mean_residual_deviance  0.133818  0.00160974  0.136712      0.130379      0.133624      0.135831      0.132544\n",
       "mse                     0.133818  0.00160974  0.136712      0.130379      0.133624      0.135831      0.132544\n",
       "r2                      0.22317   0.00964598  0.206328      0.237306      0.222996      0.209731      0.23949\n",
       "residual_deviance       0.133818  0.00160974  0.136712      0.130379      0.133624      0.135831      0.132544\n",
       "rmse                    0.365798  0.00220203  0.369745      0.36108       0.365546      0.368553      0.364066\n",
       "rmsle                   0.256343  0.00144177  0.25903       0.253674      0.256645      0.257959      0.254408"
      ]
     },
     "metadata": {},
     "output_type": "display_data"
    },
    {
     "name": "stdout",
     "output_type": "stream",
     "text": [
      "Scoring History: \n"
     ]
    },
    {
     "data": {
      "text/html": [
       "<div style=\"overflow:auto\"><table style=\"width:50%\"><tr><td><b></b></td>\n",
       "<td><b>timestamp</b></td>\n",
       "<td><b>duration</b></td>\n",
       "<td><b>number_of_trees</b></td>\n",
       "<td><b>training_rmse</b></td>\n",
       "<td><b>training_mae</b></td>\n",
       "<td><b>training_deviance</b></td></tr>\n",
       "<tr><td></td>\n",
       "<td>2019-03-16 01:23:32</td>\n",
       "<td> 4.111 sec</td>\n",
       "<td>0.0</td>\n",
       "<td>0.4150549</td>\n",
       "<td>0.3445411</td>\n",
       "<td>0.1722706</td></tr>\n",
       "<tr><td></td>\n",
       "<td>2019-03-16 01:23:32</td>\n",
       "<td> 4.199 sec</td>\n",
       "<td>5.0</td>\n",
       "<td>0.3825782</td>\n",
       "<td>0.3127187</td>\n",
       "<td>0.1463661</td></tr>\n",
       "<tr><td></td>\n",
       "<td>2019-03-16 01:23:32</td>\n",
       "<td> 4.278 sec</td>\n",
       "<td>10.0</td>\n",
       "<td>0.3674307</td>\n",
       "<td>0.2922125</td>\n",
       "<td>0.1350053</td></tr>\n",
       "<tr><td></td>\n",
       "<td>2019-03-16 01:23:32</td>\n",
       "<td> 4.352 sec</td>\n",
       "<td>15.0</td>\n",
       "<td>0.3600501</td>\n",
       "<td>0.2788350</td>\n",
       "<td>0.1296361</td></tr>\n",
       "<tr><td></td>\n",
       "<td>2019-03-16 01:23:32</td>\n",
       "<td> 4.424 sec</td>\n",
       "<td>20.0</td>\n",
       "<td>0.3557247</td>\n",
       "<td>0.2706846</td>\n",
       "<td>0.1265401</td></tr>\n",
       "<tr><td></td>\n",
       "<td>2019-03-16 01:23:33</td>\n",
       "<td> 4.497 sec</td>\n",
       "<td>25.0</td>\n",
       "<td>0.3526505</td>\n",
       "<td>0.2641573</td>\n",
       "<td>0.1243624</td></tr>\n",
       "<tr><td></td>\n",
       "<td>2019-03-16 01:23:33</td>\n",
       "<td> 4.571 sec</td>\n",
       "<td>30.0</td>\n",
       "<td>0.3504876</td>\n",
       "<td>0.2597811</td>\n",
       "<td>0.1228416</td></tr>\n",
       "<tr><td></td>\n",
       "<td>2019-03-16 01:23:33</td>\n",
       "<td> 4.643 sec</td>\n",
       "<td>35.0</td>\n",
       "<td>0.3480744</td>\n",
       "<td>0.2559304</td>\n",
       "<td>0.1211558</td></tr>\n",
       "<tr><td></td>\n",
       "<td>2019-03-16 01:23:33</td>\n",
       "<td> 4.715 sec</td>\n",
       "<td>40.0</td>\n",
       "<td>0.3463267</td>\n",
       "<td>0.2530988</td>\n",
       "<td>0.1199422</td></tr>\n",
       "<tr><td></td>\n",
       "<td>2019-03-16 01:23:33</td>\n",
       "<td> 4.776 sec</td>\n",
       "<td>44.0</td>\n",
       "<td>0.3453862</td>\n",
       "<td>0.2519561</td>\n",
       "<td>0.1192917</td></tr></table></div>"
      ],
      "text/plain": [
       "    timestamp            duration    number_of_trees    training_rmse    training_mae    training_deviance\n",
       "--  -------------------  ----------  -----------------  ---------------  --------------  -------------------\n",
       "    2019-03-16 01:23:32  4.111 sec   0                  0.415055         0.344541        0.172271\n",
       "    2019-03-16 01:23:32  4.199 sec   5                  0.382578         0.312719        0.146366\n",
       "    2019-03-16 01:23:32  4.278 sec   10                 0.367431         0.292213        0.135005\n",
       "    2019-03-16 01:23:32  4.352 sec   15                 0.36005          0.278835        0.129636\n",
       "    2019-03-16 01:23:32  4.424 sec   20                 0.355725         0.270685        0.12654\n",
       "    2019-03-16 01:23:33  4.497 sec   25                 0.35265          0.264157        0.124362\n",
       "    2019-03-16 01:23:33  4.571 sec   30                 0.350488         0.259781        0.122842\n",
       "    2019-03-16 01:23:33  4.643 sec   35                 0.348074         0.25593         0.121156\n",
       "    2019-03-16 01:23:33  4.715 sec   40                 0.346327         0.253099        0.119942\n",
       "    2019-03-16 01:23:33  4.776 sec   44                 0.345386         0.251956        0.119292"
      ]
     },
     "metadata": {},
     "output_type": "display_data"
    },
    {
     "name": "stdout",
     "output_type": "stream",
     "text": [
      "Variable Importances: \n"
     ]
    },
    {
     "data": {
      "text/html": [
       "<div style=\"overflow:auto\"><table style=\"width:50%\"><tr><td><b>variable</b></td>\n",
       "<td><b>relative_importance</b></td>\n",
       "<td><b>scaled_importance</b></td>\n",
       "<td><b>percentage</b></td></tr>\n",
       "<tr><td>PAY_0</td>\n",
       "<td>3838.3425293</td>\n",
       "<td>1.0</td>\n",
       "<td>0.4758759</td></tr>\n",
       "<tr><td>PAY_2</td>\n",
       "<td>938.2280884</td>\n",
       "<td>0.2444357</td>\n",
       "<td>0.1163211</td></tr>\n",
       "<tr><td>LIMIT_BAL</td>\n",
       "<td>330.9458313</td>\n",
       "<td>0.0862210</td>\n",
       "<td>0.0410305</td></tr>\n",
       "<tr><td>PAY_3</td>\n",
       "<td>303.5994873</td>\n",
       "<td>0.0790965</td>\n",
       "<td>0.0376401</td></tr>\n",
       "<tr><td>AGE</td>\n",
       "<td>280.2983398</td>\n",
       "<td>0.0730259</td>\n",
       "<td>0.0347513</td></tr>\n",
       "<tr><td>---</td>\n",
       "<td>---</td>\n",
       "<td>---</td>\n",
       "<td>---</td></tr>\n",
       "<tr><td>PAY_AMT4</td>\n",
       "<td>85.8090744</td>\n",
       "<td>0.0223558</td>\n",
       "<td>0.0106386</td></tr>\n",
       "<tr><td>PAY_AMT6</td>\n",
       "<td>81.0929642</td>\n",
       "<td>0.0211271</td>\n",
       "<td>0.0100539</td></tr>\n",
       "<tr><td>PAY_AMT3</td>\n",
       "<td>72.7764130</td>\n",
       "<td>0.0189604</td>\n",
       "<td>0.0090228</td></tr>\n",
       "<tr><td>MARRIAGE</td>\n",
       "<td>59.9736557</td>\n",
       "<td>0.0156249</td>\n",
       "<td>0.0074355</td></tr>\n",
       "<tr><td>SEX</td>\n",
       "<td>39.5895119</td>\n",
       "<td>0.0103142</td>\n",
       "<td>0.0049083</td></tr></table></div>"
      ],
      "text/plain": [
       "variable    relative_importance    scaled_importance     percentage\n",
       "----------  ---------------------  --------------------  --------------------\n",
       "PAY_0       3838.342529296875      1.0                   0.4758758572725468\n",
       "PAY_2       938.2280883789062      0.24443573787844702   0.11632106631095351\n",
       "LIMIT_BAL   330.9458312988281      0.08622102607383825   0.041030504697806384\n",
       "PAY_3       303.5994873046875      0.07909650714791788   0.03764011814627955\n",
       "AGE         280.29833984375        0.07302587971352736   0.03475125311175672\n",
       "---         ---                    ---                   ---\n",
       "PAY_AMT4    85.80907440185547      0.02235576261026771   0.010638567697142694\n",
       "PAY_AMT6    81.09296417236328      0.021127078564095285  0.01005386662335329\n",
       "PAY_AMT3    72.77641296386719      0.01896037479937954   0.009022784611863531\n",
       "MARRIAGE    59.973655700683594     0.015624883720752727  0.007435504935397065\n",
       "SEX         39.58951187133789      0.010314220674461297  0.004908288605557495"
      ]
     },
     "metadata": {},
     "output_type": "display_data"
    },
    {
     "name": "stdout",
     "output_type": "stream",
     "text": [
      "\n",
      "See the whole table with table.as_data_frame()\n"
     ]
    },
    {
     "data": {
      "text/plain": []
     },
     "execution_count": 55,
     "metadata": {},
     "output_type": "execute_result"
    }
   ],
   "source": [
    "mod   "
   ]
  },
  {
   "cell_type": "code",
   "execution_count": 56,
   "metadata": {},
   "outputs": [
    {
     "data": {
      "text/plain": [
       "[('PAY_0', 3838.342529296875, 1.0, 0.4758758572725468),\n",
       " ('PAY_2', 938.2280883789062, 0.24443573787844702, 0.11632106631095351),\n",
       " ('LIMIT_BAL', 330.9458312988281, 0.08622102607383825, 0.041030504697806384),\n",
       " ('PAY_3', 303.5994873046875, 0.07909650714791788, 0.03764011814627955),\n",
       " ('AGE', 280.29833984375, 0.07302587971352736, 0.03475125311175672),\n",
       " ('BILL_AMT1', 269.59771728515625, 0.07023805593883316, 0.033424595083049326),\n",
       " ('ID', 262.7945251464844, 0.06846562628026433, 0.0325811385998226),\n",
       " ('PAY_4', 183.46783447265625, 0.04779871339577, 0.022746253713736817),\n",
       " ('PAY_6', 173.6841583251953, 0.04524978086231704, 0.021533278259250003),\n",
       " ('BILL_AMT2', 166.3782196044922, 0.0433463710793341, 0.02062749149703205),\n",
       " ('PAY_5', 124.3908462524414, 0.03240743766430556, 0.015421917180508029),\n",
       " ('PAY_AMT1', 119.65201568603516, 0.031172834308759192, 0.01483439925029584),\n",
       " ('PAY_AMT2', 117.95890045166016, 0.030731728487313613, 0.014624487639367512),\n",
       " ('BILL_AMT3', 110.87213897705078, 0.028885420759298636, 0.013745874366509456),\n",
       " ('BILL_AMT4', 108.35685729980469, 0.028230116638301685, 0.013434030956155802),\n",
       " ('BILL_AMT5', 106.93930053710938, 0.027860801822889684, 0.013258282951768162),\n",
       " ('BILL_AMT6', 105.5387191772461, 0.027495909594232894, 0.013084639549644022),\n",
       " ('EDUCATION', 97.1900863647461, 0.02532084763746966, 0.012049580076348414),\n",
       " ('PAY_AMT5', 88.37120056152344, 0.0230232710830296, 0.010956218863854948),\n",
       " ('PAY_AMT4', 85.80907440185547, 0.02235576261026771, 0.010638567697142694),\n",
       " ('PAY_AMT6', 81.09296417236328, 0.021127078564095285, 0.01005386662335329),\n",
       " ('PAY_AMT3', 72.77641296386719, 0.01896037479937954, 0.009022784611863531),\n",
       " ('MARRIAGE', 59.973655700683594, 0.015624883720752727, 0.007435504935397065),\n",
       " ('SEX', 39.58951187133789, 0.010314220674461297, 0.004908288605557495)]"
      ]
     },
     "execution_count": 56,
     "metadata": {},
     "output_type": "execute_result"
    }
   ],
   "source": [
    "mod.varimp()"
   ]
  },
  {
   "cell_type": "code",
   "execution_count": 57,
   "metadata": {},
   "outputs": [
    {
     "data": {
      "image/png": "[encoded data removed]",
      "text/plain": [
       "<Figure size 1008x720 with 1 Axes>"
      ]
     },
     "metadata": {},
     "output_type": "display_data"
    }
   ],
   "source": [
    "mod.varimp_plot()"
   ]
  },
  {
   "cell_type": "code",
   "execution_count": 58,
   "metadata": {},
   "outputs": [
    {
     "name": "stdout",
     "output_type": "stream",
     "text": [
      "H2O session _sid_b2d5 closed.\n"
     ]
    }
   ],
   "source": [
    "h2o.cluster().shutdown()"
   ]
  }
 ],
 "metadata": {
  "kernelspec": {
   "display_name": "Python 3",
   "language": "python",
   "name": "python3"
  },
  "language_info": {
   "codemirror_mode": {
    "name": "ipython",
    "version": 3
   },
   "file_extension": ".py",
   "mimetype": "text/x-python",
   "name": "python",
   "nbconvert_exporter": "python",
   "pygments_lexer": "ipython3",
   "version": "3.6.8"
  }
 },
 "nbformat": 4,
 "nbformat_minor": 2
}
