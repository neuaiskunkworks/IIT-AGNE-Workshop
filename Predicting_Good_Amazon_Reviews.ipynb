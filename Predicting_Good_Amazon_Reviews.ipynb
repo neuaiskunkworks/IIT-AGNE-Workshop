{
 "cells": [
  {
   "cell_type": "markdown",
   "metadata": {},
   "source": []
  },
  {
   "cell_type": "code",
   "execution_count": 1,
   "metadata": {},
   "outputs": [],
   "source": [
    "import h2o\n",
    "from h2o.automl import H2OAutoML\n",
    "import random, os, sys\n",
    "from datetime import datetime\n",
    "import pandas as pd\n",
    "import logging\n",
    "import csv\n",
    "import optparse\n",
    "import time\n",
    "import json\n",
    "from distutils.util import strtobool\n",
    "import psutil\n",
    "import numpy as np\n",
    "from matplotlib import pyplot as plt\n",
    "import warnings\n",
    "warnings.filterwarnings(\"ignore\")"
   ]
  },
  {
   "cell_type": "code",
   "execution_count": 2,
   "metadata": {},
   "outputs": [],
   "source": [
    "min_mem_size=30 \n",
    "run_time=222"
   ]
  },
  {
   "cell_type": "markdown",
   "metadata": {},
   "source": []
  },
  {
   "cell_type": "code",
   "execution_count": 3,
   "metadata": {},
   "outputs": [
    {
     "name": "stdout",
     "output_type": "stream",
     "text": [
      "30\n"
     ]
    }
   ],
   "source": [
    "pct_memory=0.5\n",
    "virtual_memory=psutil.virtual_memory()\n",
    "# min_mem_size=int(round(int(pct_memory*virtual_memory.available)/1073741824,0))\n",
    "print(min_mem_size)"
   ]
  },
  {
   "cell_type": "code",
   "execution_count": 4,
   "metadata": {},
   "outputs": [
    {
     "name": "stdout",
     "output_type": "stream",
     "text": [
      "Checking whether there is an H2O instance running at http://localhost:54321..... not found.\n",
      "Attempting to start a local H2O server...\n",
      "; OpenJDK 64-Bit Server VM (build 25.152-b12, mixed mode)56-b12)\n",
      "  Starting server from C:\\Users\\prabh\\Anaconda3\\lib\\site-packages\\h2o\\backend\\bin\\h2o.jar\n",
      "  Ice root: C:\\Users\\prabh\\AppData\\Local\\Temp\\tmp_gqzx1l6\n",
      "  JVM stdout: C:\\Users\\prabh\\AppData\\Local\\Temp\\tmp_gqzx1l6\\h2o_prabh_started_from_python.out\n",
      "  JVM stderr: C:\\Users\\prabh\\AppData\\Local\\Temp\\tmp_gqzx1l6\\h2o_prabh_started_from_python.err\n",
      "  Server is running at http://127.0.0.1:54321\n",
      "Connecting to H2O server at http://127.0.0.1:54321... successful.\n"
     ]
    },
    {
     "data": {
      "text/html": [
       "<div style=\"overflow:auto\"><table style=\"width:50%\"><tr><td>H2O cluster uptime:</td>\n",
       "<td>06 secs</td></tr>\n",
       "<tr><td>H2O cluster version:</td>\n",
       "<td>3.12.0.1</td></tr>\n",
       "<tr><td>H2O cluster version age:</td>\n",
       "<td>1 year, 9 months and 6 days !!!</td></tr>\n",
       "<tr><td>H2O cluster name:</td>\n",
       "<td>H2O_from_python_prabh_6p4kda</td></tr>\n",
       "<tr><td>H2O cluster total nodes:</td>\n",
       "<td>1</td></tr>\n",
       "<tr><td>H2O cluster free memory:</td>\n",
       "<td>26.67 Gb</td></tr>\n",
       "<tr><td>H2O cluster total cores:</td>\n",
       "<td>12</td></tr>\n",
       "<tr><td>H2O cluster allowed cores:</td>\n",
       "<td>12</td></tr>\n",
       "<tr><td>H2O cluster status:</td>\n",
       "<td>accepting new members, healthy</td></tr>\n",
       "<tr><td>H2O connection url:</td>\n",
       "<td>http://127.0.0.1:54321</td></tr>\n",
       "<tr><td>H2O connection proxy:</td>\n",
       "<td>None</td></tr>\n",
       "<tr><td>H2O internal security:</td>\n",
       "<td>False</td></tr>\n",
       "<tr><td>Python version:</td>\n",
       "<td>3.6.8 final</td></tr></table></div>"
      ],
      "text/plain": [
       "--------------------------  -------------------------------\n",
       "H2O cluster uptime:         06 secs\n",
       "H2O cluster version:        3.12.0.1\n",
       "H2O cluster version age:    1 year, 9 months and 6 days !!!\n",
       "H2O cluster name:           H2O_from_python_prabh_6p4kda\n",
       "H2O cluster total nodes:    1\n",
       "H2O cluster free memory:    26.67 Gb\n",
       "H2O cluster total cores:    12\n",
       "H2O cluster allowed cores:  12\n",
       "H2O cluster status:         accepting new members, healthy\n",
       "H2O connection url:         http://127.0.0.1:54321\n",
       "H2O connection proxy:\n",
       "H2O internal security:      False\n",
       "Python version:             3.6.8 final\n",
       "--------------------------  -------------------------------"
      ]
     },
     "metadata": {},
     "output_type": "display_data"
    }
   ],
   "source": [
    "h2o.init(strict_version_check=False,max_mem_size=min_mem_size)"
   ]
  },
  {
   "cell_type": "markdown",
   "metadata": {},
   "source": []
  },
  {
   "cell_type": "code",
   "execution_count": 5,
   "metadata": {},
   "outputs": [
    {
     "name": "stdout",
     "output_type": "stream",
     "text": [
      "Parse progress: |█████████████████████████████████████████████████████████| 100%\n"
     ]
    }
   ],
   "source": [
    "data_path = \"data/Amazon_review.csv\"\n",
    "\n",
    "# Load data into H2O\n",
    "reviews = h2o.import_file(data_path)"
   ]
  },
  {
   "cell_type": "code",
   "execution_count": 6,
   "metadata": {},
   "outputs": [
    {
     "data": {
      "text/plain": [
       "(48181, 21)"
      ]
     },
     "execution_count": 6,
     "metadata": {},
     "output_type": "execute_result"
    }
   ],
   "source": [
    "reviews.shape"
   ]
  },
  {
   "cell_type": "code",
   "execution_count": 7,
   "metadata": {},
   "outputs": [
    {
     "name": "stdout",
     "output_type": "stream",
     "text": [
      "Rows:48181\n",
      "Cols:21\n",
      "\n",
      "\n"
     ]
    },
    {
     "data": {
      "text/html": [
       "<table>\n",
       "<thead>\n",
       "<tr><th>       </th><th>id                  </th><th>name                                                                                   </th><th>asins     </th><th>brand  </th><th>categories                                                                     </th><th>keys                                                                                                                                                                                                               </th><th>manufacturer  </th><th>reviews.date            </th><th>reviews.dateAdded   </th><th>reviews.dateSeen                                 </th><th>reviews.didPurchase  </th><th>reviews.doRecommend  </th><th>reviews.id        </th><th>reviews.numHelpful  </th><th>reviews.rating    </th><th>reviews.sourceURLs                                                                                                                                       </th><th>reviews.text                                                                                                                                                                                                                                                                                                                                                                                                                                                                                                                                                                                                                         </th><th>reviews.title                          </th><th>reviews.userCity  </th><th>reviews.userProvince  </th><th>reviews.username  </th></tr>\n",
       "</thead>\n",
       "<tbody>\n",
       "<tr><td>type   </td><td>enum                </td><td>enum                                                                                   </td><td>enum      </td><td>enum   </td><td>enum                                                                           </td><td>enum                                                                                                                                                                                                               </td><td>enum          </td><td>enum                    </td><td>enum                </td><td>enum                                             </td><td>enum                 </td><td>enum                 </td><td>int               </td><td>int                 </td><td>int               </td><td>enum                                                                                                                                                     </td><td>string                                                                                                                                                                                                                                                                                                                                                                                                                                                                                                                                                                                                                               </td><td>enum                                   </td><td>enum              </td><td>string                </td><td>enum              </td></tr>\n",
       "<tr><td>mins   </td><td>                    </td><td>                                                                                       </td><td>          </td><td>       </td><td>                                                                               </td><td>                                                                                                                                                                                                                   </td><td>              </td><td>                        </td><td>                    </td><td>                                                 </td><td>                     </td><td>                     </td><td>0.0               </td><td>0.0                 </td><td>0.0               </td><td>                                                                                                                                                         </td><td>NaN                                                                                                                                                                                                                                                                                                                                                                                                                                                                                                                                                                                                                                  </td><td>                                       </td><td>                  </td><td>NaN                   </td><td>                  </td></tr>\n",
       "<tr><td>mean   </td><td>                    </td><td>                                                                                       </td><td>          </td><td>       </td><td>                                                                               </td><td>                                                                                                                                                                                                                   </td><td>              </td><td>                        </td><td>                    </td><td>                                                 </td><td>                     </td><td>                     </td><td>18689.87867091794 </td><td>1.4077145669878584  </td><td>4.565938989855542 </td><td>                                                                                                                                                         </td><td>NaN                                                                                                                                                                                                                                                                                                                                                                                                                                                                                                                                                                                                                                  </td><td>                                       </td><td>                  </td><td>0.0                   </td><td>                  </td></tr>\n",
       "<tr><td>maxs   </td><td>                    </td><td>                                                                                       </td><td>          </td><td>       </td><td>                                                                               </td><td>                                                                                                                                                                                                                   </td><td>              </td><td>                        </td><td>                    </td><td>                                                 </td><td>                     </td><td>                     </td><td>111372787.0       </td><td>814.0               </td><td>19.0              </td><td>                                                                                                                                                         </td><td>NaN                                                                                                                                                                                                                                                                                                                                                                                                                                                                                                                                                                                                                                  </td><td>                                       </td><td>                  </td><td>NaN                   </td><td>                  </td></tr>\n",
       "<tr><td>sigma  </td><td>                    </td><td>                                                                                       </td><td>          </td><td>       </td><td>                                                                               </td><td>                                                                                                                                                                                                                   </td><td>              </td><td>                        </td><td>                    </td><td>                                                 </td><td>                     </td><td>                     </td><td>1442754.3578338078</td><td>12.529322130002884  </td><td>0.7621248960567992</td><td>                                                                                                                                                         </td><td>NaN                                                                                                                                                                                                                                                                                                                                                                                                                                                                                                                                                                                                                                  </td><td>                                       </td><td>                  </td><td>-0.0                  </td><td>                  </td></tr>\n",
       "<tr><td>zeros  </td><td>                    </td><td>                                                                                       </td><td>          </td><td>       </td><td>                                                                               </td><td>                                                                                                                                                                                                                   </td><td>              </td><td>                        </td><td>                    </td><td>                                                 </td><td>                     </td><td>                     </td><td>5858              </td><td>24386               </td><td>20                </td><td>                                                                                                                                                         </td><td>0                                                                                                                                                                                                                                                                                                                                                                                                                                                                                                                                                                                                                                    </td><td>                                       </td><td>                  </td><td>0                     </td><td>                  </td></tr>\n",
       "<tr><td>missing</td><td>0                   </td><td>20137                                                                                  </td><td>13393     </td><td>6777   </td><td>13505                                                                          </td><td>13528                                                                                                                                                                                                              </td><td>13408         </td><td>19490                   </td><td>17441               </td><td>19697                                            </td><td>41820                </td><td>20079                </td><td>42222             </td><td>14660               </td><td>20284             </td><td>13527                                                                                                                                                    </td><td>13537                                                                                                                                                                                                                                                                                                                                                                                                                                                                                                                                                                                                                                </td><td>19683                                  </td><td>47374             </td><td>41844                 </td><td>20080             </td></tr>\n",
       "<tr><td>0      </td><td>AVqkIhwDv8e3D1O-lebb</td><td>All-New Fire HD 8 Tablet, 8 HD Display, Wi-Fi, 16 GB - Includes Special Offers, Magenta</td><td>B01AHB9CN2</td><td>Amazon </td><td>Electronics,iPad & Tablets,All Tablets,Fire Tablets,Tablets,Computers & Tablets</td><td>841667104676,amazon/53004484,amazon/b01ahb9cn2,0841667104676,allnewfirehd8tablet8hddisplaywifi16gbincludesspecialoffersmagenta/5620406,allnewfirehd8tablet8hddisplaywifi16gbincludesspecialoffersmagenta/b01ahb9cn2</td><td>Amazon        </td><td>2017-01-13T00:00:00.000Z</td><td>2017-07-03T23:33:15Z</td><td>2017-06-07T09:04:00.000Z,2017-04-30T00:45:00.000Z</td><td>                     </td><td>TRUE                 </td><td>nan               </td><td>0.0                 </td><td>5.0               </td><td>http://reviews.bestbuy.com/3545/5620406/reviews.htm?format=embedded&page=200,http://reviews.bestbuy.com/3545/5620406/reviews.htm?format=embedded&page=166</td><td>This product so far has not disappointed. My children love to use it and I like the ability to monitor control what content they see with ease.                                                                                                                                                                                                                                                                                                                                                                                                                                                                                      </td><td>Kindle                                 </td><td>                  </td><td>                      </td><td>Adapter           </td></tr>\n",
       "<tr><td>1      </td><td>AVqkIhwDv8e3D1O-lebb</td><td>All-New Fire HD 8 Tablet, 8 HD Display, Wi-Fi, 16 GB - Includes Special Offers, Magenta</td><td>B01AHB9CN2</td><td>Amazon </td><td>Electronics,iPad & Tablets,All Tablets,Fire Tablets,Tablets,Computers & Tablets</td><td>841667104676,amazon/53004484,amazon/b01ahb9cn2,0841667104676,allnewfirehd8tablet8hddisplaywifi16gbincludesspecialoffersmagenta/5620406,allnewfirehd8tablet8hddisplaywifi16gbincludesspecialoffersmagenta/b01ahb9cn2</td><td>Amazon        </td><td>2017-01-13T00:00:00.000Z</td><td>2017-07-03T23:33:15Z</td><td>2017-06-07T09:04:00.000Z,2017-04-30T00:45:00.000Z</td><td>                     </td><td>TRUE                 </td><td>nan               </td><td>0.0                 </td><td>5.0               </td><td>http://reviews.bestbuy.com/3545/5620406/reviews.htm?format=embedded&page=200,http://reviews.bestbuy.com/3545/5620406/reviews.htm?format=embedded&page=167</td><td>great for beginner or experienced person. Bought as a gift and she loves it                                                                                                                                                                                                                                                                                                                                                                                                                                                                                                                                                          </td><td>very fast                              </td><td>                  </td><td>                      </td><td>truman            </td></tr>\n",
       "<tr><td>2      </td><td>AVqkIhwDv8e3D1O-lebb</td><td>All-New Fire HD 8 Tablet, 8 HD Display, Wi-Fi, 16 GB - Includes Special Offers, Magenta</td><td>B01AHB9CN2</td><td>Amazon </td><td>Electronics,iPad & Tablets,All Tablets,Fire Tablets,Tablets,Computers & Tablets</td><td>841667104676,amazon/53004484,amazon/b01ahb9cn2,0841667104676,allnewfirehd8tablet8hddisplaywifi16gbincludesspecialoffersmagenta/5620406,allnewfirehd8tablet8hddisplaywifi16gbincludesspecialoffersmagenta/b01ahb9cn2</td><td>Amazon        </td><td>2017-01-13T00:00:00.000Z</td><td>2017-07-03T23:33:15Z</td><td>2017-06-07T09:04:00.000Z,2017-04-30T00:45:00.000Z</td><td>                     </td><td>TRUE                 </td><td>nan               </td><td>0.0                 </td><td>5.0               </td><td>http://reviews.bestbuy.com/3545/5620406/reviews.htm?format=embedded&page=200,http://reviews.bestbuy.com/3545/5620406/reviews.htm?format=embedded&page=167</td><td>Inexpensive tablet for him to use and learn on, step up from the NABI. He was thrilled with it, learn how to Skype on it already...                                                                                                                                                                                                                                                                                                                                                                                                                                                                                                  </td><td>Beginner tablet for our 9 year old son.</td><td>                  </td><td>                      </td><td>DaveZ             </td></tr>\n",
       "<tr><td>3      </td><td>AVqkIhwDv8e3D1O-lebb</td><td>All-New Fire HD 8 Tablet, 8 HD Display, Wi-Fi, 16 GB - Includes Special Offers, Magenta</td><td>B01AHB9CN2</td><td>Amazon </td><td>Electronics,iPad & Tablets,All Tablets,Fire Tablets,Tablets,Computers & Tablets</td><td>841667104676,amazon/53004484,amazon/b01ahb9cn2,0841667104676,allnewfirehd8tablet8hddisplaywifi16gbincludesspecialoffersmagenta/5620406,allnewfirehd8tablet8hddisplaywifi16gbincludesspecialoffersmagenta/b01ahb9cn2</td><td>Amazon        </td><td>2017-01-13T00:00:00.000Z</td><td>2017-07-03T23:33:15Z</td><td>2017-06-07T09:04:00.000Z,2017-04-30T00:45:00.000Z</td><td>                     </td><td>TRUE                 </td><td>nan               </td><td>0.0                 </td><td>4.0               </td><td>http://reviews.bestbuy.com/3545/5620406/reviews.htm?format=embedded&page=200,http://reviews.bestbuy.com/3545/5620406/reviews.htm?format=embedded&page=167</td><td>I've had my Fire HD 8 two weeks now and I love it. This tablet is a great value.We are Prime Members and that is where this tablet SHINES. I love being able to easily access all of the Prime content as well as movies you can download and watch laterThis has a 1280/800 screen which has some really nice look to it its nice and crisp and very bright infact it is brighter then the ipad pro costing $900 base model. The build on this fire is INSANELY AWESOME running at only 7.7mm thick and the smooth glossy feel on the back it is really amazing to hold its like the futuristic tab in ur hands.                    </td><td>Good!!!                                </td><td>                  </td><td>                      </td><td>Shacks            </td></tr>\n",
       "<tr><td>4      </td><td>AVqkIhwDv8e3D1O-lebb</td><td>All-New Fire HD 8 Tablet, 8 HD Display, Wi-Fi, 16 GB - Includes Special Offers, Magenta</td><td>B01AHB9CN2</td><td>Amazon </td><td>Electronics,iPad & Tablets,All Tablets,Fire Tablets,Tablets,Computers & Tablets</td><td>841667104676,amazon/53004484,amazon/b01ahb9cn2,0841667104676,allnewfirehd8tablet8hddisplaywifi16gbincludesspecialoffersmagenta/5620406,allnewfirehd8tablet8hddisplaywifi16gbincludesspecialoffersmagenta/b01ahb9cn2</td><td>Amazon        </td><td>2017-01-12T00:00:00.000Z</td><td>2017-07-03T23:33:15Z</td><td>2017-06-07T09:04:00.000Z,2017-04-30T00:45:00.000Z</td><td>                     </td><td>TRUE                 </td><td>nan               </td><td>0.0                 </td><td>5.0               </td><td>http://reviews.bestbuy.com/3545/5620406/reviews.htm?format=embedded&page=200,http://reviews.bestbuy.com/3545/5620406/reviews.htm?format=embedded&page=167</td><td>I bought this for my grand daughter when she comes over to visit. I set it up with her as the user, entered her age and name and now Amazon makes sure that she only accesses sites and content that are appropriate to her age. Simple to do and she loves the capabilities. I also bought and installed a 64gig SD card which gives this little tablet plenty of storage. For the price I think this tablet is best one out there. You can spend hundreds of dollars more for additional speed and capacity but when it comes to the basics this tablets does everything that most people will ever need at a fraction of the cost.</td><td>Fantastic Tablet for kids              </td><td>                  </td><td>                      </td><td>explore42         </td></tr>\n",
       "<tr><td>5      </td><td>AVqkIhwDv8e3D1O-lebb</td><td>All-New Fire HD 8 Tablet, 8 HD Display, Wi-Fi, 16 GB - Includes Special Offers, Magenta</td><td>B01AHB9CN2</td><td>Amazon </td><td>Electronics,iPad & Tablets,All Tablets,Fire Tablets,Tablets,Computers & Tablets</td><td>841667104676,amazon/53004484,amazon/b01ahb9cn2,0841667104676,allnewfirehd8tablet8hddisplaywifi16gbincludesspecialoffersmagenta/5620406,allnewfirehd8tablet8hddisplaywifi16gbincludesspecialoffersmagenta/b01ahb9cn2</td><td>Amazon        </td><td>2017-01-12T00:00:00.000Z</td><td>2017-07-03T23:33:15Z</td><td>2017-06-07T09:04:00.000Z,2017-04-30T00:45:00.000Z</td><td>                     </td><td>TRUE                 </td><td>nan               </td><td>0.0                 </td><td>5.0               </td><td>http://reviews.bestbuy.com/3545/5620406/reviews.htm?format=embedded&page=200,http://reviews.bestbuy.com/3545/5620406/reviews.htm?format=embedded&page=167</td><td>This amazon fire 8 inch tablet is the perfect size. I purchased it for my husband so that he has a bigger screen than just his phone. He had gotten me one a few years ago so I knew it would be a good purchase.                                                                                                                                                                                                                                                                                                                                                                                                                    </td><td>Just what we expected                  </td><td>                  </td><td>                      </td><td>tklit             </td></tr>\n",
       "<tr><td>6      </td><td>AVqkIhwDv8e3D1O-lebb</td><td>All-New Fire HD 8 Tablet, 8 HD Display, Wi-Fi, 16 GB - Includes Special Offers, Magenta</td><td>B01AHB9CN2</td><td>Amazon </td><td>Electronics,iPad & Tablets,All Tablets,Fire Tablets,Tablets,Computers & Tablets</td><td>841667104676,amazon/53004484,amazon/b01ahb9cn2,0841667104676,allnewfirehd8tablet8hddisplaywifi16gbincludesspecialoffersmagenta/5620406,allnewfirehd8tablet8hddisplaywifi16gbincludesspecialoffersmagenta/b01ahb9cn2</td><td>Amazon        </td><td>2017-01-12T00:00:00.000Z</td><td>2017-07-03T23:33:15Z</td><td>2017-06-07T09:04:00.000Z,2017-04-30T00:45:00.000Z</td><td>                     </td><td>TRUE                 </td><td>nan               </td><td>0.0                 </td><td>4.0               </td><td>http://reviews.bestbuy.com/3545/5620406/reviews.htm?format=embedded&page=200,http://reviews.bestbuy.com/3545/5620406/reviews.htm?format=embedded&page=167</td><td>Great for e-reading on the go, nice and light weight, and for the price point given, definitely worth the purchase.                                                                                                                                                                                                                                                                                                                                                                                                                                                                                                                  </td><td>great e-reader tablet                  </td><td>                  </td><td>                      </td><td>Droi              </td></tr>\n",
       "<tr><td>7      </td><td>AVqkIhwDv8e3D1O-lebb</td><td>All-New Fire HD 8 Tablet, 8 HD Display, Wi-Fi, 16 GB - Includes Special Offers, Magenta</td><td>B01AHB9CN2</td><td>Amazon </td><td>Electronics,iPad & Tablets,All Tablets,Fire Tablets,Tablets,Computers & Tablets</td><td>841667104676,amazon/53004484,amazon/b01ahb9cn2,0841667104676,allnewfirehd8tablet8hddisplaywifi16gbincludesspecialoffersmagenta/5620406,allnewfirehd8tablet8hddisplaywifi16gbincludesspecialoffersmagenta/b01ahb9cn2</td><td>Amazon        </td><td>2017-01-12T00:00:00.000Z</td><td>2017-07-03T23:33:15Z</td><td>2017-06-07T09:04:00.000Z,2017-04-30T00:45:00.000Z</td><td>                     </td><td>TRUE                 </td><td>nan               </td><td>0.0                 </td><td>5.0               </td><td>http://reviews.bestbuy.com/3545/5620406/reviews.htm?format=embedded&page=200,http://reviews.bestbuy.com/3545/5620406/reviews.htm?format=embedded&page=167</td><td>I gave this as a Christmas gift to my inlaws, husband and uncle. They loved it and how easy they are to use with fantastic features!                                                                                                                                                                                                                                                                                                                                                                                                                                                                                                 </td><td>Great for gifts                        </td><td>                  </td><td>                      </td><td>Kacy              </td></tr>\n",
       "<tr><td>8      </td><td>AVqkIhwDv8e3D1O-lebb</td><td>All-New Fire HD 8 Tablet, 8 HD Display, Wi-Fi, 16 GB - Includes Special Offers, Magenta</td><td>B01AHB9CN2</td><td>Amazon </td><td>Electronics,iPad & Tablets,All Tablets,Fire Tablets,Tablets,Computers & Tablets</td><td>841667104676,amazon/53004484,amazon/b01ahb9cn2,0841667104676,allnewfirehd8tablet8hddisplaywifi16gbincludesspecialoffersmagenta/5620406,allnewfirehd8tablet8hddisplaywifi16gbincludesspecialoffersmagenta/b01ahb9cn2</td><td>Amazon        </td><td>2017-01-23T00:00:00.000Z</td><td>2017-07-03T23:28:24Z</td><td>2017-06-07T09:04:00.000Z,2017-04-30T00:44:00.000Z</td><td>                     </td><td>TRUE                 </td><td>nan               </td><td>0.0                 </td><td>5.0               </td><td>http://reviews.bestbuy.com/3545/5620406/reviews.htm?format=embedded&page=154,http://reviews.bestbuy.com/3545/5620406/reviews.htm?format=embedded&page=120</td><td>Great as a device to read books. I like that it links with my borrowed library e-books. Switched from another popular tablet brand and I am happy with the choice I made. It took some time to get books from my previous non-Kindle reader, but finally figured out a way!                                                                                                                                                                                                                                                                                                                                                          </td><td>Great for reading                      </td><td>                  </td><td>                      </td><td>Weebee            </td></tr>\n",
       "<tr><td>9      </td><td>AVqkIhwDv8e3D1O-lebb</td><td>All-New Fire HD 8 Tablet, 8 HD Display, Wi-Fi, 16 GB - Includes Special Offers, Magenta</td><td>B01AHB9CN2</td><td>Amazon </td><td>Electronics,iPad & Tablets,All Tablets,Fire Tablets,Tablets,Computers & Tablets</td><td>841667104676,amazon/53004484,amazon/b01ahb9cn2,0841667104676,allnewfirehd8tablet8hddisplaywifi16gbincludesspecialoffersmagenta/5620406,allnewfirehd8tablet8hddisplaywifi16gbincludesspecialoffersmagenta/b01ahb9cn2</td><td>Amazon        </td><td>2017-01-23T00:00:00.000Z</td><td>2017-07-03T23:28:24Z</td><td>2017-06-07T09:04:00.000Z,2017-04-30T00:44:00.000Z</td><td>                     </td><td>TRUE                 </td><td>nan               </td><td>0.0                 </td><td>5.0               </td><td>http://reviews.bestbuy.com/3545/5620406/reviews.htm?format=embedded&page=154,http://reviews.bestbuy.com/3545/5620406/reviews.htm?format=embedded&page=121</td><td>I love ordering books and reading them with the reader.                                                                                                                                                                                                                                                                                                                                                                                                                                                                                                                                                                              </td><td>Great and lightweight reader           </td><td>                  </td><td>                      </td><td>RoboBob           </td></tr>\n",
       "</tbody>\n",
       "</table>"
      ]
     },
     "metadata": {},
     "output_type": "display_data"
    }
   ],
   "source": [
    "reviews.describe()"
   ]
  },
  {
   "cell_type": "code",
   "execution_count": 8,
   "metadata": {
    "scrolled": true
   },
   "outputs": [],
   "source": [
    "def get_independent_variables(df, targ):\n",
    "    C = [name for name in df.columns if name != targ]\n",
    "    # determine column types\n",
    "    ints, reals, enums = [], [], []\n",
    "    for key, val in df.types.items():\n",
    "        if key in C:\n",
    "            if val == 'enum':\n",
    "                enums.append(key)\n",
    "            elif val == 'int':\n",
    "                ints.append(key)            \n",
    "            else: \n",
    "                reals.append(key)    \n",
    "    x=ints+enums+reals\n",
    "    return x"
   ]
  },
  {
   "cell_type": "code",
   "execution_count": 9,
   "metadata": {},
   "outputs": [],
   "source": [
    "target='reviews.rating'"
   ]
  },
  {
   "cell_type": "code",
   "execution_count": 10,
   "metadata": {},
   "outputs": [
    {
     "name": "stdout",
     "output_type": "stream",
     "text": [
      "['reviews.id', 'reviews.numHelpful', 'id', 'name', 'asins', 'brand', 'categories', 'keys', 'manufacturer', 'reviews.date', 'reviews.dateAdded', 'reviews.dateSeen', 'reviews.didPurchase', 'reviews.doRecommend', 'reviews.sourceURLs', 'reviews.title', 'reviews.userCity', 'reviews.username', 'reviews.text', 'reviews.userProvince']\n"
     ]
    }
   ],
   "source": [
    "X=get_independent_variables(reviews, target) \n",
    "print(X)"
   ]
  },
  {
   "cell_type": "code",
   "execution_count": 11,
   "metadata": {},
   "outputs": [
    {
     "data": {
      "text/plain": [
       "'reviews.rating'"
      ]
     },
     "execution_count": 11,
     "metadata": {},
     "output_type": "execute_result"
    }
   ],
   "source": [
    "# Set target and predictor variables\n",
    "y = target\n",
    "y"
   ]
  },
  {
   "cell_type": "code",
   "execution_count": 12,
   "metadata": {},
   "outputs": [],
   "source": [
    "# Set up AutoML\n",
    "aml = H2OAutoML(max_runtime_secs=run_time)"
   ]
  },
  {
   "cell_type": "code",
   "execution_count": 13,
   "metadata": {},
   "outputs": [
    {
     "name": "stdout",
     "output_type": "stream",
     "text": [
      "AutoML progress: |████████████████████████████████████████████████████████| 100%\n",
      "Parse progress: |█████████████████████████████████████████████████████████| 100%\n"
     ]
    }
   ],
   "source": [
    "model_start_time = time.time()\n",
    "aml.train(x=X,y=y,training_frame=reviews)"
   ]
  },
  {
   "cell_type": "markdown",
   "metadata": {},
   "source": []
  },
  {
   "cell_type": "code",
   "execution_count": 14,
   "metadata": {},
   "outputs": [
    {
     "data": {
      "text/html": [
       "<table>\n",
       "<thead>\n",
       "<tr><th>model_id                                </th><th style=\"text-align: right;\">  mean_residual_deviance</th><th style=\"text-align: right;\">    rmse</th><th style=\"text-align: right;\">     mae</th><th style=\"text-align: right;\">   rmsle</th></tr>\n",
       "</thead>\n",
       "<tbody>\n",
       "<tr><td>StackedEnsemble_0_AutoML_20190313_150235</td><td style=\"text-align: right;\">                0.440194</td><td style=\"text-align: right;\">0.663471</td><td style=\"text-align: right;\">0.483206</td><td style=\"text-align: right;\">0.139399</td></tr>\n",
       "<tr><td>DRF_0_AutoML_20190313_150235            </td><td style=\"text-align: right;\">                0.472075</td><td style=\"text-align: right;\">0.687077</td><td style=\"text-align: right;\">0.44734 </td><td style=\"text-align: right;\">0.144749</td></tr>\n",
       "<tr><td>XRT_0_AutoML_20190313_150235            </td><td style=\"text-align: right;\">                1.04506 </td><td style=\"text-align: right;\">1.02228 </td><td style=\"text-align: right;\">0.876421</td><td style=\"text-align: right;\">0.198397</td></tr>\n",
       "</tbody>\n",
       "</table>"
      ]
     },
     "metadata": {},
     "output_type": "display_data"
    },
    {
     "name": "stdout",
     "output_type": "stream",
     "text": [
      "\n"
     ]
    }
   ],
   "source": [
    "print(aml.leaderboard)"
   ]
  },
  {
   "cell_type": "code",
   "execution_count": 15,
   "metadata": {},
   "outputs": [],
   "source": [
    "best_model = h2o.get_model(aml.leaderboard[1,'model_id'])"
   ]
  },
  {
   "cell_type": "code",
   "execution_count": 16,
   "metadata": {},
   "outputs": [
    {
     "data": {
      "text/plain": [
       "'drf'"
      ]
     },
     "execution_count": 16,
     "metadata": {},
     "output_type": "execute_result"
    }
   ],
   "source": [
    "best_model.algo"
   ]
  },
  {
   "cell_type": "code",
   "execution_count": 17,
   "metadata": {},
   "outputs": [],
   "source": [
    "best_model_param = h2o.get_model(aml.leaderboard[1,'model_id'])"
   ]
  },
  {
   "cell_type": "markdown",
   "metadata": {},
   "source": []
  },
  {
   "cell_type": "code",
   "execution_count": 18,
   "metadata": {
    "scrolled": false
   },
   "outputs": [
    {
     "data": {
      "text/plain": [
       "{'model_id': {'default': None,\n",
       "  'actual': {'__meta': {'schema_version': 3,\n",
       "    'schema_name': 'ModelKeyV3',\n",
       "    'schema_type': 'Key<Model>'},\n",
       "   'name': 'DRF_0_AutoML_20190313_150235',\n",
       "   'type': 'Key<Model>',\n",
       "   'URL': '/3/Models/DRF_0_AutoML_20190313_150235'}},\n",
       " 'training_frame': {'default': None,\n",
       "  'actual': {'__meta': {'schema_version': 3,\n",
       "    'schema_name': 'FrameKeyV3',\n",
       "    'schema_type': 'Key<Frame>'},\n",
       "   'name': 'automl_training_Amazon_review.hex',\n",
       "   'type': 'Key<Frame>',\n",
       "   'URL': '/3/Frames/automl_training_Amazon_review.hex'}},\n",
       " 'validation_frame': {'default': None,\n",
       "  'actual': {'__meta': {'schema_version': 3,\n",
       "    'schema_name': 'FrameKeyV3',\n",
       "    'schema_type': 'Key<Frame>'},\n",
       "   'name': 'automl_validation_Amazon_review.hex',\n",
       "   'type': 'Key<Frame>',\n",
       "   'URL': '/3/Frames/automl_validation_Amazon_review.hex'}},\n",
       " 'nfolds': {'default': 0, 'actual': 5},\n",
       " 'keep_cross_validation_predictions': {'default': False, 'actual': True},\n",
       " 'keep_cross_validation_fold_assignment': {'default': False, 'actual': False},\n",
       " 'score_each_iteration': {'default': False, 'actual': False},\n",
       " 'score_tree_interval': {'default': 0, 'actual': 0},\n",
       " 'fold_assignment': {'default': 'AUTO', 'actual': 'Modulo'},\n",
       " 'fold_column': {'default': None, 'actual': None},\n",
       " 'response_column': {'default': None,\n",
       "  'actual': {'__meta': {'schema_version': 3,\n",
       "    'schema_name': 'ColSpecifierV3',\n",
       "    'schema_type': 'VecSpecifier'},\n",
       "   'column_name': 'reviews.rating',\n",
       "   'is_member_of_frames': None}},\n",
       " 'ignored_columns': {'default': None, 'actual': []},\n",
       " 'ignore_const_cols': {'default': True, 'actual': True},\n",
       " 'offset_column': {'default': None, 'actual': None},\n",
       " 'weights_column': {'default': None, 'actual': None},\n",
       " 'balance_classes': {'default': False, 'actual': False},\n",
       " 'class_sampling_factors': {'default': None, 'actual': None},\n",
       " 'max_after_balance_size': {'default': 5.0, 'actual': 5.0},\n",
       " 'max_confusion_matrix_size': {'default': 20, 'actual': 20},\n",
       " 'max_hit_ratio_k': {'default': 0, 'actual': 0},\n",
       " 'ntrees': {'default': 50, 'actual': 50},\n",
       " 'max_depth': {'default': 20, 'actual': 20},\n",
       " 'min_rows': {'default': 1.0, 'actual': 1.0},\n",
       " 'nbins': {'default': 20, 'actual': 20},\n",
       " 'nbins_top_level': {'default': 1024, 'actual': 1024},\n",
       " 'nbins_cats': {'default': 1024, 'actual': 1024},\n",
       " 'r2_stopping': {'default': 1.7976931348623157e+308,\n",
       "  'actual': 1.7976931348623157e+308},\n",
       " 'stopping_rounds': {'default': 0, 'actual': 0},\n",
       " 'stopping_metric': {'default': 'AUTO', 'actual': 'AUTO'},\n",
       " 'stopping_tolerance': {'default': 0.001, 'actual': 0.001},\n",
       " 'max_runtime_secs': {'default': 0.0, 'actual': 0.0},\n",
       " 'seed': {'default': -1, 'actual': 8605862058437109944},\n",
       " 'build_tree_one_node': {'default': False, 'actual': False},\n",
       " 'mtries': {'default': -1, 'actual': -1},\n",
       " 'sample_rate': {'default': 0.6320000290870667, 'actual': 0.6320000290870667},\n",
       " 'sample_rate_per_class': {'default': None, 'actual': None},\n",
       " 'binomial_double_trees': {'default': False, 'actual': False},\n",
       " 'checkpoint': {'default': None, 'actual': None},\n",
       " 'col_sample_rate_change_per_level': {'default': 1.0, 'actual': 1.0},\n",
       " 'col_sample_rate_per_tree': {'default': 1.0, 'actual': 1.0},\n",
       " 'min_split_improvement': {'default': 1e-05, 'actual': 1e-05},\n",
       " 'histogram_type': {'default': 'AUTO', 'actual': 'AUTO'},\n",
       " 'categorical_encoding': {'default': 'AUTO', 'actual': 'AUTO'},\n",
       " 'calibrate_model': {'default': False, 'actual': False},\n",
       " 'calibration_frame': {'default': None, 'actual': None}}"
      ]
     },
     "execution_count": 18,
     "metadata": {},
     "output_type": "execute_result"
    }
   ],
   "source": [
    "best_model_param.params"
   ]
  },
  {
   "cell_type": "code",
   "execution_count": 19,
   "metadata": {},
   "outputs": [],
   "source": [
    "import pandas as pd"
   ]
  },
  {
   "cell_type": "code",
   "execution_count": 20,
   "metadata": {},
   "outputs": [],
   "source": [
    "reviews_=pd.read_csv(\"data/Amazon_review.csv\")"
   ]
  },
  {
   "cell_type": "markdown",
   "metadata": {},
   "source": []
  },
  {
   "cell_type": "code",
   "execution_count": 21,
   "metadata": {},
   "outputs": [
    {
     "data": {
      "image/png": "[encoded data removed]",
      "text/plain": [
       "<Figure size 864x1296 with 1 Axes>"
      ]
     },
     "metadata": {
      "needs_background": "light"
     },
     "output_type": "display_data"
    }
   ],
   "source": [
    "# define the properties missing value variable\n",
    "properties_missing_df = reviews_.isnull().sum(axis=0).reset_index()\n",
    "properties_missing_df.columns = ['column_name', 'missing_count']\n",
    "properties_missing_df = properties_missing_df.ix[properties_missing_df['missing_count']>=0]\n",
    "properties_missing_df = properties_missing_df.sort_values(by='missing_count')\n",
    "\n",
    "# set the size and shape of the grapgh\n",
    "ind = np.arange(properties_missing_df.shape[0])\n",
    "width = 0.9\n",
    "fig, ax = plt.subplots(figsize=(12,18))\n",
    "rects = ax.barh(ind, properties_missing_df.missing_count.values, color='blue')\n",
    "ax.set_yticks(ind)\n",
    "ax.set_yticklabels(properties_missing_df.column_name.values, rotation='horizontal')\n",
    "ax.set_xlabel(\"Count of missing values\")\n",
    "ax.set_title(\"Number of missing values in each column\")\n",
    "\n",
    "# show the graph\n",
    "plt.show()"
   ]
  },
  {
   "cell_type": "code",
   "execution_count": 22,
   "metadata": {},
   "outputs": [],
   "source": [
    "import matplotlib.pyplot as plt\n",
    "%matplotlib inline\n",
    "\n",
    "import warnings\n",
    "import matplotlib.cbook\n",
    "warnings.filterwarnings(\"ignore\", category = matplotlib.cbook.mplDeprecation)"
   ]
  },
  {
   "cell_type": "markdown",
   "metadata": {},
   "source": []
  },
  {
   "cell_type": "code",
   "execution_count": 23,
   "metadata": {},
   "outputs": [
    {
     "data": {
      "image/png": "[encoded data removed]",
      "text/plain": [
       "<Figure size 1008x720 with 1 Axes>"
      ]
     },
     "metadata": {
      "needs_background": "light"
     },
     "output_type": "display_data"
    }
   ],
   "source": [
    "best_model.varimp_plot()"
   ]
  },
  {
   "cell_type": "code",
   "execution_count": 24,
   "metadata": {},
   "outputs": [],
   "source": [
    "reviews[\"PositiveReview\"] = (reviews[\"reviews.rating\"] >= 4.5).ifelse(\"1\", \"0\")"
   ]
  },
  {
   "cell_type": "code",
   "execution_count": 25,
   "metadata": {},
   "outputs": [
    {
     "data": {
      "text/html": [
       "<table>\n",
       "<thead>\n",
       "<tr><th>id                  </th><th>name                                                                                   </th><th>asins     </th><th>brand  </th><th>categories                                                                     </th><th>keys                                                                                                                                                                                                               </th><th>manufacturer  </th><th>reviews.date            </th><th>reviews.dateAdded   </th><th>reviews.dateSeen                                 </th><th>reviews.didPurchase  </th><th>reviews.doRecommend  </th><th style=\"text-align: right;\">  reviews.id</th><th style=\"text-align: right;\">  reviews.numHelpful</th><th style=\"text-align: right;\">  reviews.rating</th><th>reviews.sourceURLs                                                                                                                                       </th><th>reviews.text                                                                                                                                                                                                                                                                                                                                                                                                                                                                                                                                                                                                                         </th><th>reviews.title                          </th><th>reviews.userCity  </th><th>reviews.userProvince  </th><th>reviews.username  </th><th style=\"text-align: right;\">  PositiveReview</th></tr>\n",
       "</thead>\n",
       "<tbody>\n",
       "<tr><td>AVqkIhwDv8e3D1O-lebb</td><td>All-New Fire HD 8 Tablet, 8 HD Display, Wi-Fi, 16 GB - Includes Special Offers, Magenta</td><td>B01AHB9CN2</td><td>Amazon </td><td>Electronics,iPad & Tablets,All Tablets,Fire Tablets,Tablets,Computers & Tablets</td><td>841667104676,amazon/53004484,amazon/b01ahb9cn2,0841667104676,allnewfirehd8tablet8hddisplaywifi16gbincludesspecialoffersmagenta/5620406,allnewfirehd8tablet8hddisplaywifi16gbincludesspecialoffersmagenta/b01ahb9cn2</td><td>Amazon        </td><td>2017-01-13T00:00:00.000Z</td><td>2017-07-03T23:33:15Z</td><td>2017-06-07T09:04:00.000Z,2017-04-30T00:45:00.000Z</td><td>                     </td><td>TRUE                 </td><td style=\"text-align: right;\">         nan</td><td style=\"text-align: right;\">                   0</td><td style=\"text-align: right;\">               5</td><td>http://reviews.bestbuy.com/3545/5620406/reviews.htm?format=embedded&page=200,http://reviews.bestbuy.com/3545/5620406/reviews.htm?format=embedded&page=166</td><td>This product so far has not disappointed. My children love to use it and I like the ability to monitor control what content they see with ease.                                                                                                                                                                                                                                                                                                                                                                                                                                                                                      </td><td>Kindle                                 </td><td>                  </td><td>                      </td><td>Adapter           </td><td style=\"text-align: right;\">               1</td></tr>\n",
       "<tr><td>AVqkIhwDv8e3D1O-lebb</td><td>All-New Fire HD 8 Tablet, 8 HD Display, Wi-Fi, 16 GB - Includes Special Offers, Magenta</td><td>B01AHB9CN2</td><td>Amazon </td><td>Electronics,iPad & Tablets,All Tablets,Fire Tablets,Tablets,Computers & Tablets</td><td>841667104676,amazon/53004484,amazon/b01ahb9cn2,0841667104676,allnewfirehd8tablet8hddisplaywifi16gbincludesspecialoffersmagenta/5620406,allnewfirehd8tablet8hddisplaywifi16gbincludesspecialoffersmagenta/b01ahb9cn2</td><td>Amazon        </td><td>2017-01-13T00:00:00.000Z</td><td>2017-07-03T23:33:15Z</td><td>2017-06-07T09:04:00.000Z,2017-04-30T00:45:00.000Z</td><td>                     </td><td>TRUE                 </td><td style=\"text-align: right;\">         nan</td><td style=\"text-align: right;\">                   0</td><td style=\"text-align: right;\">               5</td><td>http://reviews.bestbuy.com/3545/5620406/reviews.htm?format=embedded&page=200,http://reviews.bestbuy.com/3545/5620406/reviews.htm?format=embedded&page=167</td><td>great for beginner or experienced person. Bought as a gift and she loves it                                                                                                                                                                                                                                                                                                                                                                                                                                                                                                                                                          </td><td>very fast                              </td><td>                  </td><td>                      </td><td>truman            </td><td style=\"text-align: right;\">               1</td></tr>\n",
       "<tr><td>AVqkIhwDv8e3D1O-lebb</td><td>All-New Fire HD 8 Tablet, 8 HD Display, Wi-Fi, 16 GB - Includes Special Offers, Magenta</td><td>B01AHB9CN2</td><td>Amazon </td><td>Electronics,iPad & Tablets,All Tablets,Fire Tablets,Tablets,Computers & Tablets</td><td>841667104676,amazon/53004484,amazon/b01ahb9cn2,0841667104676,allnewfirehd8tablet8hddisplaywifi16gbincludesspecialoffersmagenta/5620406,allnewfirehd8tablet8hddisplaywifi16gbincludesspecialoffersmagenta/b01ahb9cn2</td><td>Amazon        </td><td>2017-01-13T00:00:00.000Z</td><td>2017-07-03T23:33:15Z</td><td>2017-06-07T09:04:00.000Z,2017-04-30T00:45:00.000Z</td><td>                     </td><td>TRUE                 </td><td style=\"text-align: right;\">         nan</td><td style=\"text-align: right;\">                   0</td><td style=\"text-align: right;\">               5</td><td>http://reviews.bestbuy.com/3545/5620406/reviews.htm?format=embedded&page=200,http://reviews.bestbuy.com/3545/5620406/reviews.htm?format=embedded&page=167</td><td>Inexpensive tablet for him to use and learn on, step up from the NABI. He was thrilled with it, learn how to Skype on it already...                                                                                                                                                                                                                                                                                                                                                                                                                                                                                                  </td><td>Beginner tablet for our 9 year old son.</td><td>                  </td><td>                      </td><td>DaveZ             </td><td style=\"text-align: right;\">               1</td></tr>\n",
       "<tr><td>AVqkIhwDv8e3D1O-lebb</td><td>All-New Fire HD 8 Tablet, 8 HD Display, Wi-Fi, 16 GB - Includes Special Offers, Magenta</td><td>B01AHB9CN2</td><td>Amazon </td><td>Electronics,iPad & Tablets,All Tablets,Fire Tablets,Tablets,Computers & Tablets</td><td>841667104676,amazon/53004484,amazon/b01ahb9cn2,0841667104676,allnewfirehd8tablet8hddisplaywifi16gbincludesspecialoffersmagenta/5620406,allnewfirehd8tablet8hddisplaywifi16gbincludesspecialoffersmagenta/b01ahb9cn2</td><td>Amazon        </td><td>2017-01-13T00:00:00.000Z</td><td>2017-07-03T23:33:15Z</td><td>2017-06-07T09:04:00.000Z,2017-04-30T00:45:00.000Z</td><td>                     </td><td>TRUE                 </td><td style=\"text-align: right;\">         nan</td><td style=\"text-align: right;\">                   0</td><td style=\"text-align: right;\">               4</td><td>http://reviews.bestbuy.com/3545/5620406/reviews.htm?format=embedded&page=200,http://reviews.bestbuy.com/3545/5620406/reviews.htm?format=embedded&page=167</td><td>I've had my Fire HD 8 two weeks now and I love it. This tablet is a great value.We are Prime Members and that is where this tablet SHINES. I love being able to easily access all of the Prime content as well as movies you can download and watch laterThis has a 1280/800 screen which has some really nice look to it its nice and crisp and very bright infact it is brighter then the ipad pro costing $900 base model. The build on this fire is INSANELY AWESOME running at only 7.7mm thick and the smooth glossy feel on the back it is really amazing to hold its like the futuristic tab in ur hands.                    </td><td>Good!!!                                </td><td>                  </td><td>                      </td><td>Shacks            </td><td style=\"text-align: right;\">               0</td></tr>\n",
       "<tr><td>AVqkIhwDv8e3D1O-lebb</td><td>All-New Fire HD 8 Tablet, 8 HD Display, Wi-Fi, 16 GB - Includes Special Offers, Magenta</td><td>B01AHB9CN2</td><td>Amazon </td><td>Electronics,iPad & Tablets,All Tablets,Fire Tablets,Tablets,Computers & Tablets</td><td>841667104676,amazon/53004484,amazon/b01ahb9cn2,0841667104676,allnewfirehd8tablet8hddisplaywifi16gbincludesspecialoffersmagenta/5620406,allnewfirehd8tablet8hddisplaywifi16gbincludesspecialoffersmagenta/b01ahb9cn2</td><td>Amazon        </td><td>2017-01-12T00:00:00.000Z</td><td>2017-07-03T23:33:15Z</td><td>2017-06-07T09:04:00.000Z,2017-04-30T00:45:00.000Z</td><td>                     </td><td>TRUE                 </td><td style=\"text-align: right;\">         nan</td><td style=\"text-align: right;\">                   0</td><td style=\"text-align: right;\">               5</td><td>http://reviews.bestbuy.com/3545/5620406/reviews.htm?format=embedded&page=200,http://reviews.bestbuy.com/3545/5620406/reviews.htm?format=embedded&page=167</td><td>I bought this for my grand daughter when she comes over to visit. I set it up with her as the user, entered her age and name and now Amazon makes sure that she only accesses sites and content that are appropriate to her age. Simple to do and she loves the capabilities. I also bought and installed a 64gig SD card which gives this little tablet plenty of storage. For the price I think this tablet is best one out there. You can spend hundreds of dollars more for additional speed and capacity but when it comes to the basics this tablets does everything that most people will ever need at a fraction of the cost.</td><td>Fantastic Tablet for kids              </td><td>                  </td><td>                      </td><td>explore42         </td><td style=\"text-align: right;\">               1</td></tr>\n",
       "<tr><td>AVqkIhwDv8e3D1O-lebb</td><td>All-New Fire HD 8 Tablet, 8 HD Display, Wi-Fi, 16 GB - Includes Special Offers, Magenta</td><td>B01AHB9CN2</td><td>Amazon </td><td>Electronics,iPad & Tablets,All Tablets,Fire Tablets,Tablets,Computers & Tablets</td><td>841667104676,amazon/53004484,amazon/b01ahb9cn2,0841667104676,allnewfirehd8tablet8hddisplaywifi16gbincludesspecialoffersmagenta/5620406,allnewfirehd8tablet8hddisplaywifi16gbincludesspecialoffersmagenta/b01ahb9cn2</td><td>Amazon        </td><td>2017-01-12T00:00:00.000Z</td><td>2017-07-03T23:33:15Z</td><td>2017-06-07T09:04:00.000Z,2017-04-30T00:45:00.000Z</td><td>                     </td><td>TRUE                 </td><td style=\"text-align: right;\">         nan</td><td style=\"text-align: right;\">                   0</td><td style=\"text-align: right;\">               5</td><td>http://reviews.bestbuy.com/3545/5620406/reviews.htm?format=embedded&page=200,http://reviews.bestbuy.com/3545/5620406/reviews.htm?format=embedded&page=167</td><td>This amazon fire 8 inch tablet is the perfect size. I purchased it for my husband so that he has a bigger screen than just his phone. He had gotten me one a few years ago so I knew it would be a good purchase.                                                                                                                                                                                                                                                                                                                                                                                                                    </td><td>Just what we expected                  </td><td>                  </td><td>                      </td><td>tklit             </td><td style=\"text-align: right;\">               1</td></tr>\n",
       "<tr><td>AVqkIhwDv8e3D1O-lebb</td><td>All-New Fire HD 8 Tablet, 8 HD Display, Wi-Fi, 16 GB - Includes Special Offers, Magenta</td><td>B01AHB9CN2</td><td>Amazon </td><td>Electronics,iPad & Tablets,All Tablets,Fire Tablets,Tablets,Computers & Tablets</td><td>841667104676,amazon/53004484,amazon/b01ahb9cn2,0841667104676,allnewfirehd8tablet8hddisplaywifi16gbincludesspecialoffersmagenta/5620406,allnewfirehd8tablet8hddisplaywifi16gbincludesspecialoffersmagenta/b01ahb9cn2</td><td>Amazon        </td><td>2017-01-12T00:00:00.000Z</td><td>2017-07-03T23:33:15Z</td><td>2017-06-07T09:04:00.000Z,2017-04-30T00:45:00.000Z</td><td>                     </td><td>TRUE                 </td><td style=\"text-align: right;\">         nan</td><td style=\"text-align: right;\">                   0</td><td style=\"text-align: right;\">               4</td><td>http://reviews.bestbuy.com/3545/5620406/reviews.htm?format=embedded&page=200,http://reviews.bestbuy.com/3545/5620406/reviews.htm?format=embedded&page=167</td><td>Great for e-reading on the go, nice and light weight, and for the price point given, definitely worth the purchase.                                                                                                                                                                                                                                                                                                                                                                                                                                                                                                                  </td><td>great e-reader tablet                  </td><td>                  </td><td>                      </td><td>Droi              </td><td style=\"text-align: right;\">               0</td></tr>\n",
       "<tr><td>AVqkIhwDv8e3D1O-lebb</td><td>All-New Fire HD 8 Tablet, 8 HD Display, Wi-Fi, 16 GB - Includes Special Offers, Magenta</td><td>B01AHB9CN2</td><td>Amazon </td><td>Electronics,iPad & Tablets,All Tablets,Fire Tablets,Tablets,Computers & Tablets</td><td>841667104676,amazon/53004484,amazon/b01ahb9cn2,0841667104676,allnewfirehd8tablet8hddisplaywifi16gbincludesspecialoffersmagenta/5620406,allnewfirehd8tablet8hddisplaywifi16gbincludesspecialoffersmagenta/b01ahb9cn2</td><td>Amazon        </td><td>2017-01-12T00:00:00.000Z</td><td>2017-07-03T23:33:15Z</td><td>2017-06-07T09:04:00.000Z,2017-04-30T00:45:00.000Z</td><td>                     </td><td>TRUE                 </td><td style=\"text-align: right;\">         nan</td><td style=\"text-align: right;\">                   0</td><td style=\"text-align: right;\">               5</td><td>http://reviews.bestbuy.com/3545/5620406/reviews.htm?format=embedded&page=200,http://reviews.bestbuy.com/3545/5620406/reviews.htm?format=embedded&page=167</td><td>I gave this as a Christmas gift to my inlaws, husband and uncle. They loved it and how easy they are to use with fantastic features!                                                                                                                                                                                                                                                                                                                                                                                                                                                                                                 </td><td>Great for gifts                        </td><td>                  </td><td>                      </td><td>Kacy              </td><td style=\"text-align: right;\">               1</td></tr>\n",
       "<tr><td>AVqkIhwDv8e3D1O-lebb</td><td>All-New Fire HD 8 Tablet, 8 HD Display, Wi-Fi, 16 GB - Includes Special Offers, Magenta</td><td>B01AHB9CN2</td><td>Amazon </td><td>Electronics,iPad & Tablets,All Tablets,Fire Tablets,Tablets,Computers & Tablets</td><td>841667104676,amazon/53004484,amazon/b01ahb9cn2,0841667104676,allnewfirehd8tablet8hddisplaywifi16gbincludesspecialoffersmagenta/5620406,allnewfirehd8tablet8hddisplaywifi16gbincludesspecialoffersmagenta/b01ahb9cn2</td><td>Amazon        </td><td>2017-01-23T00:00:00.000Z</td><td>2017-07-03T23:28:24Z</td><td>2017-06-07T09:04:00.000Z,2017-04-30T00:44:00.000Z</td><td>                     </td><td>TRUE                 </td><td style=\"text-align: right;\">         nan</td><td style=\"text-align: right;\">                   0</td><td style=\"text-align: right;\">               5</td><td>http://reviews.bestbuy.com/3545/5620406/reviews.htm?format=embedded&page=154,http://reviews.bestbuy.com/3545/5620406/reviews.htm?format=embedded&page=120</td><td>Great as a device to read books. I like that it links with my borrowed library e-books. Switched from another popular tablet brand and I am happy with the choice I made. It took some time to get books from my previous non-Kindle reader, but finally figured out a way!                                                                                                                                                                                                                                                                                                                                                          </td><td>Great for reading                      </td><td>                  </td><td>                      </td><td>Weebee            </td><td style=\"text-align: right;\">               1</td></tr>\n",
       "<tr><td>AVqkIhwDv8e3D1O-lebb</td><td>All-New Fire HD 8 Tablet, 8 HD Display, Wi-Fi, 16 GB - Includes Special Offers, Magenta</td><td>B01AHB9CN2</td><td>Amazon </td><td>Electronics,iPad & Tablets,All Tablets,Fire Tablets,Tablets,Computers & Tablets</td><td>841667104676,amazon/53004484,amazon/b01ahb9cn2,0841667104676,allnewfirehd8tablet8hddisplaywifi16gbincludesspecialoffersmagenta/5620406,allnewfirehd8tablet8hddisplaywifi16gbincludesspecialoffersmagenta/b01ahb9cn2</td><td>Amazon        </td><td>2017-01-23T00:00:00.000Z</td><td>2017-07-03T23:28:24Z</td><td>2017-06-07T09:04:00.000Z,2017-04-30T00:44:00.000Z</td><td>                     </td><td>TRUE                 </td><td style=\"text-align: right;\">         nan</td><td style=\"text-align: right;\">                   0</td><td style=\"text-align: right;\">               5</td><td>http://reviews.bestbuy.com/3545/5620406/reviews.htm?format=embedded&page=154,http://reviews.bestbuy.com/3545/5620406/reviews.htm?format=embedded&page=121</td><td>I love ordering books and reading them with the reader.                                                                                                                                                                                                                                                                                                                                                                                                                                                                                                                                                                              </td><td>Great and lightweight reader           </td><td>                  </td><td>                      </td><td>RoboBob           </td><td style=\"text-align: right;\">               1</td></tr>\n",
       "</tbody>\n",
       "</table>"
      ]
     },
     "metadata": {},
     "output_type": "display_data"
    },
    {
     "data": {
      "text/plain": []
     },
     "execution_count": 25,
     "metadata": {},
     "output_type": "execute_result"
    }
   ],
   "source": [
    "reviews.head()"
   ]
  },
  {
   "cell_type": "code",
   "execution_count": 26,
   "metadata": {},
   "outputs": [
    {
     "data": {
      "text/html": [
       "<table>\n",
       "<thead>\n",
       "<tr><th style=\"text-align: right;\">  PositiveReview</th><th style=\"text-align: right;\">  Count</th></tr>\n",
       "</thead>\n",
       "<tbody>\n",
       "<tr><td style=\"text-align: right;\">               0</td><td style=\"text-align: right;\">  29347</td></tr>\n",
       "<tr><td style=\"text-align: right;\">               1</td><td style=\"text-align: right;\">  18834</td></tr>\n",
       "</tbody>\n",
       "</table>"
      ]
     },
     "metadata": {},
     "output_type": "display_data"
    },
    {
     "data": {
      "text/plain": []
     },
     "execution_count": 26,
     "metadata": {},
     "output_type": "execute_result"
    }
   ],
   "source": [
    "reviews[\"PositiveReview\"].table()"
   ]
  },
  {
   "cell_type": "code",
   "execution_count": 46,
   "metadata": {},
   "outputs": [
    {
     "name": "stdout",
     "output_type": "stream",
     "text": [
      "gbm Model Build progress: |███████████████████████████████████████████████| 100%\n"
     ]
    }
   ],
   "source": [
    "from h2o.estimators import H2OGradientBoostingEstimator\n",
    "\n",
    "predictors = ['keys', 'categories', 'manufacturer', 'asins', 'reviews.username', 'brand', 'reviews.doRecommend']\n",
    "response = 'reviews.rating'\n",
    "\n",
    "gbm_baseline = H2OGradientBoostingEstimator()\n",
    "gbm_baseline.train(x = predictors, y = response, training_frame = reviews)"
   ]
  },
  {
   "cell_type": "code",
   "execution_count": 53,
   "metadata": {},
   "outputs": [
    {
     "ename": "KeyError",
     "evalue": "'AUC'",
     "output_type": "error",
     "traceback": [
      "\u001b[1;31m---------------------------------------------------------------------------\u001b[0m",
      "\u001b[1;31mKeyError\u001b[0m                                  Traceback (most recent call last)",
      "\u001b[1;32m<ipython-input-53-4cbef757133f>\u001b[0m in \u001b[0;36m<module>\u001b[1;34m\u001b[0m\n\u001b[1;32m----> 1\u001b[1;33m \u001b[0mprint\u001b[0m\u001b[1;33m(\u001b[0m\u001b[0mstr\u001b[0m\u001b[1;33m(\u001b[0m\u001b[0mgbm_baseline\u001b[0m\u001b[1;33m.\u001b[0m\u001b[0mauc\u001b[0m\u001b[1;33m(\u001b[0m\u001b[0mtrain\u001b[0m\u001b[1;33m=\u001b[0m\u001b[1;32mTrue\u001b[0m\u001b[1;33m)\u001b[0m\u001b[1;33m)\u001b[0m\u001b[1;33m)\u001b[0m\u001b[1;33m\u001b[0m\u001b[1;33m\u001b[0m\u001b[0m\n\u001b[0m",
      "\u001b[1;32m~\\Anaconda3\\lib\\site-packages\\h2o\\model\\model_base.py\u001b[0m in \u001b[0;36mauc\u001b[1;34m(self, train, valid, xval)\u001b[0m\n\u001b[0;32m    636\u001b[0m         \u001b[0mtm\u001b[0m \u001b[1;33m=\u001b[0m \u001b[0mModelBase\u001b[0m\u001b[1;33m.\u001b[0m\u001b[0m_get_metrics\u001b[0m\u001b[1;33m(\u001b[0m\u001b[0mself\u001b[0m\u001b[1;33m,\u001b[0m \u001b[0mtrain\u001b[0m\u001b[1;33m,\u001b[0m \u001b[0mvalid\u001b[0m\u001b[1;33m,\u001b[0m \u001b[0mxval\u001b[0m\u001b[1;33m)\u001b[0m\u001b[1;33m\u001b[0m\u001b[1;33m\u001b[0m\u001b[0m\n\u001b[0;32m    637\u001b[0m         \u001b[0mm\u001b[0m \u001b[1;33m=\u001b[0m \u001b[1;33m{\u001b[0m\u001b[1;33m}\u001b[0m\u001b[1;33m\u001b[0m\u001b[1;33m\u001b[0m\u001b[0m\n\u001b[1;32m--> 638\u001b[1;33m         \u001b[1;32mfor\u001b[0m \u001b[0mk\u001b[0m\u001b[1;33m,\u001b[0m \u001b[0mv\u001b[0m \u001b[1;32min\u001b[0m \u001b[0mviewitems\u001b[0m\u001b[1;33m(\u001b[0m\u001b[0mtm\u001b[0m\u001b[1;33m)\u001b[0m\u001b[1;33m:\u001b[0m \u001b[0mm\u001b[0m\u001b[1;33m[\u001b[0m\u001b[0mk\u001b[0m\u001b[1;33m]\u001b[0m \u001b[1;33m=\u001b[0m \u001b[1;32mNone\u001b[0m \u001b[1;32mif\u001b[0m \u001b[0mv\u001b[0m \u001b[1;32mis\u001b[0m \u001b[1;32mNone\u001b[0m \u001b[1;32melse\u001b[0m \u001b[0mv\u001b[0m\u001b[1;33m.\u001b[0m\u001b[0mauc\u001b[0m\u001b[1;33m(\u001b[0m\u001b[1;33m)\u001b[0m\u001b[1;33m\u001b[0m\u001b[1;33m\u001b[0m\u001b[0m\n\u001b[0m\u001b[0;32m    639\u001b[0m         \u001b[1;32mreturn\u001b[0m \u001b[0mlist\u001b[0m\u001b[1;33m(\u001b[0m\u001b[0mm\u001b[0m\u001b[1;33m.\u001b[0m\u001b[0mvalues\u001b[0m\u001b[1;33m(\u001b[0m\u001b[1;33m)\u001b[0m\u001b[1;33m)\u001b[0m\u001b[1;33m[\u001b[0m\u001b[1;36m0\u001b[0m\u001b[1;33m]\u001b[0m \u001b[1;32mif\u001b[0m \u001b[0mlen\u001b[0m\u001b[1;33m(\u001b[0m\u001b[0mm\u001b[0m\u001b[1;33m)\u001b[0m \u001b[1;33m==\u001b[0m \u001b[1;36m1\u001b[0m \u001b[1;32melse\u001b[0m \u001b[0mm\u001b[0m\u001b[1;33m\u001b[0m\u001b[1;33m\u001b[0m\u001b[0m\n\u001b[0;32m    640\u001b[0m \u001b[1;33m\u001b[0m\u001b[0m\n",
      "\u001b[1;32m~\\Anaconda3\\lib\\site-packages\\h2o\\model\\metrics_base.py\u001b[0m in \u001b[0;36mauc\u001b[1;34m(self)\u001b[0m\n\u001b[0;32m    154\u001b[0m     \u001b[1;32mdef\u001b[0m \u001b[0mauc\u001b[0m\u001b[1;33m(\u001b[0m\u001b[0mself\u001b[0m\u001b[1;33m)\u001b[0m\u001b[1;33m:\u001b[0m\u001b[1;33m\u001b[0m\u001b[1;33m\u001b[0m\u001b[0m\n\u001b[0;32m    155\u001b[0m         \u001b[1;34m\"\"\"The AUC for this set of metrics.\"\"\"\u001b[0m\u001b[1;33m\u001b[0m\u001b[1;33m\u001b[0m\u001b[0m\n\u001b[1;32m--> 156\u001b[1;33m         \u001b[1;32mreturn\u001b[0m \u001b[0mself\u001b[0m\u001b[1;33m.\u001b[0m\u001b[0m_metric_json\u001b[0m\u001b[1;33m[\u001b[0m\u001b[1;34m'AUC'\u001b[0m\u001b[1;33m]\u001b[0m\u001b[1;33m\u001b[0m\u001b[1;33m\u001b[0m\u001b[0m\n\u001b[0m\u001b[0;32m    157\u001b[0m \u001b[1;33m\u001b[0m\u001b[0m\n\u001b[0;32m    158\u001b[0m \u001b[1;33m\u001b[0m\u001b[0m\n",
      "\u001b[1;31mKeyError\u001b[0m: 'AUC'"
     ]
    }
   ],
   "source": [
    "print(str(gbm_baseline.auc(train=True)))"
   ]
  },
  {
   "cell_type": "code",
   "execution_count": 40,
   "metadata": {},
   "outputs": [
    {
     "data": {
      "text/html": [
       "<table>\n",
       "<thead>\n",
       "<tr><th style=\"text-align: right;\">  reviews.rating</th></tr>\n",
       "</thead>\n",
       "<tbody>\n",
       "<tr><td style=\"text-align: right;\">               1</td></tr>\n",
       "<tr><td style=\"text-align: right;\">               1</td></tr>\n",
       "<tr><td style=\"text-align: right;\">               1</td></tr>\n",
       "<tr><td style=\"text-align: right;\">               1</td></tr>\n",
       "<tr><td style=\"text-align: right;\">               1</td></tr>\n",
       "<tr><td style=\"text-align: right;\">               1</td></tr>\n",
       "<tr><td style=\"text-align: right;\">               1</td></tr>\n",
       "<tr><td style=\"text-align: right;\">               1</td></tr>\n",
       "<tr><td style=\"text-align: right;\">               1</td></tr>\n",
       "<tr><td style=\"text-align: right;\">               1</td></tr>\n",
       "</tbody>\n",
       "</table>"
      ]
     },
     "metadata": {},
     "output_type": "display_data"
    },
    {
     "data": {
      "text/plain": []
     },
     "execution_count": 40,
     "metadata": {},
     "output_type": "execute_result"
    }
   ],
   "source": [
    "reviews['reviews.rating']<=5"
   ]
  },
  {
   "cell_type": "code",
   "execution_count": 34,
   "metadata": {},
   "outputs": [
    {
     "name": "stdout",
     "output_type": "stream",
     "text": [
      "PartialDependencePlot progress: |█████████████████████████████████████████| 100%\n"
     ]
    },
    {
     "data": {
      "image/png": "[encoded data removed]",
      "text/plain": [
       "<Figure size 504x720 with 1 Axes>"
      ]
     },
     "metadata": {
      "needs_background": "light"
     },
     "output_type": "display_data"
    }
   ],
   "source": [
    "%matplotlib inline  \n",
    "pdp_helpfulness = gbm_baseline.partial_plot(reviews, cols = [\"reviews.rating\"])"
   ]
  },
  {
   "cell_type": "code",
   "execution_count": 36,
   "metadata": {},
   "outputs": [
    {
     "name": "stdout",
     "output_type": "stream",
     "text": [
      "PartialDependencePlot progress: |█████████████████████████████████████████| 100%\n"
     ]
    },
    {
     "data": {
      "image/png": "[encoded data removed]",
      "text/plain": [
       "<Figure size 504x720 with 1 Axes>"
      ]
     },
     "metadata": {
      "needs_background": "light"
     },
     "output_type": "display_data"
    }
   ],
   "source": [
    "%matplotlib inline  \n",
    "pdp_helpfulness = gbm_baseline.partial_plot(reviews, cols = [\"reviews.numHelpful\"])"
   ]
  },
  {
   "cell_type": "code",
   "execution_count": 41,
   "metadata": {},
   "outputs": [
    {
     "name": "stdout",
     "output_type": "stream",
     "text": [
      "PartialDependencePlot progress: |█████████████████████████████████████████| 100%\n"
     ]
    },
    {
     "data": {
      "image/png": "[encoded data removed]",
      "text/plain": [
       "<Figure size 504x720 with 1 Axes>"
      ]
     },
     "metadata": {
      "needs_background": "light"
     },
     "output_type": "display_data"
    }
   ],
   "source": [
    "%matplotlib inline  \n",
    "pdp_helpfulness = gbm_baseline.partial_plot(reviews, cols = [\"PositiveReview\"])"
   ]
  },
  {
   "cell_type": "code",
   "execution_count": null,
   "metadata": {},
   "outputs": [],
   "source": [
    "reviews[\"reviews.date\"]\n",
    "# reviews.head()"
   ]
  },
  {
   "cell_type": "code",
   "execution_count": null,
   "metadata": {},
   "outputs": [],
   "source": [
    "# train = reviews[reviews[\"Train\"] == \"Yes\"]\n",
    "# test = reviews[reviews[\"Train\"] == \"No\"]"
   ]
  },
  {
   "cell_type": "code",
   "execution_count": null,
   "metadata": {},
   "outputs": [],
   "source": [
    "# h2o.cluster().shutdown()"
   ]
  },
  {
   "cell_type": "code",
   "execution_count": null,
   "metadata": {},
   "outputs": [],
   "source": []
  }
 ],
 "metadata": {
  "kernelspec": {
   "display_name": "Python 3",
   "language": "python",
   "name": "python3"
  },
  "language_info": {
   "codemirror_mode": {
    "name": "ipython",
    "version": 3
   },
   "file_extension": ".py",
   "mimetype": "text/x-python",
   "name": "python",
   "nbconvert_exporter": "python",
   "pygments_lexer": "ipython3",
   "version": "3.6.8"
  }
 },
 "nbformat": 4,
 "nbformat_minor": 2
}
