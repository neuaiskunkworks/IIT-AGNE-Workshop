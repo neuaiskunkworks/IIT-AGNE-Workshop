{
 "cells": [
  {
   "cell_type": "code",
   "execution_count": 1,
   "metadata": {},
   "outputs": [],
   "source": [
    "import h2o\n",
    "from h2o.automl import H2OAutoML\n",
    "import random, os, sys\n",
    "from datetime import datetime\n",
    "import pandas as pd\n",
    "import logging\n",
    "import csv\n",
    "import optparse\n",
    "import time\n",
    "import json\n",
    "from distutils.util import strtobool\n",
    "import psutil\n",
    "import numpy as np\n",
    "\n",
    "import warnings\n",
    "warnings.filterwarnings(\"ignore\")"
   ]
  },
  {
   "cell_type": "code",
   "execution_count": 2,
   "metadata": {},
   "outputs": [],
   "source": [
    "min_mem_size=20 \n",
    "run_time=222"
   ]
  },
  {
   "cell_type": "code",
   "execution_count": 3,
   "metadata": {},
   "outputs": [
    {
     "name": "stdout",
     "output_type": "stream",
     "text": [
      "20\n"
     ]
    }
   ],
   "source": [
    "pct_memory=0.5\n",
    "virtual_memory=psutil.virtual_memory()\n",
    "# min_mem_size=int(round(int(pct_memory*virtual_memory.available)/1073741824,0))\n",
    "print(min_mem_size)"
   ]
  },
  {
   "cell_type": "code",
   "execution_count": 4,
   "metadata": {},
   "outputs": [
    {
     "name": "stdout",
     "output_type": "stream",
     "text": [
      "Checking whether there is an H2O instance running at http://localhost:54321. connected.\n"
     ]
    },
    {
     "data": {
      "text/html": [
       "<div style=\"overflow:auto\"><table style=\"width:50%\"><tr><td>H2O cluster uptime:</td>\n",
       "<td>1 hour 4 mins</td></tr>\n",
       "<tr><td>H2O cluster version:</td>\n",
       "<td>3.12.0.1</td></tr>\n",
       "<tr><td>H2O cluster version age:</td>\n",
       "<td>1 year, 9 months and 4 days !!!</td></tr>\n",
       "<tr><td>H2O cluster name:</td>\n",
       "<td>H2O_from_python_prabh_xeria3</td></tr>\n",
       "<tr><td>H2O cluster total nodes:</td>\n",
       "<td>1</td></tr>\n",
       "<tr><td>H2O cluster free memory:</td>\n",
       "<td>3.400 Gb</td></tr>\n",
       "<tr><td>H2O cluster total cores:</td>\n",
       "<td>12</td></tr>\n",
       "<tr><td>H2O cluster allowed cores:</td>\n",
       "<td>12</td></tr>\n",
       "<tr><td>H2O cluster status:</td>\n",
       "<td>locked, healthy</td></tr>\n",
       "<tr><td>H2O connection url:</td>\n",
       "<td>http://localhost:54321</td></tr>\n",
       "<tr><td>H2O connection proxy:</td>\n",
       "<td>None</td></tr>\n",
       "<tr><td>H2O internal security:</td>\n",
       "<td>False</td></tr>\n",
       "<tr><td>Python version:</td>\n",
       "<td>3.6.8 final</td></tr></table></div>"
      ],
      "text/plain": [
       "--------------------------  -------------------------------\n",
       "H2O cluster uptime:         1 hour 4 mins\n",
       "H2O cluster version:        3.12.0.1\n",
       "H2O cluster version age:    1 year, 9 months and 4 days !!!\n",
       "H2O cluster name:           H2O_from_python_prabh_xeria3\n",
       "H2O cluster total nodes:    1\n",
       "H2O cluster free memory:    3.400 Gb\n",
       "H2O cluster total cores:    12\n",
       "H2O cluster allowed cores:  12\n",
       "H2O cluster status:         locked, healthy\n",
       "H2O connection url:         http://localhost:54321\n",
       "H2O connection proxy:\n",
       "H2O internal security:      False\n",
       "Python version:             3.6.8 final\n",
       "--------------------------  -------------------------------"
      ]
     },
     "metadata": {},
     "output_type": "display_data"
    }
   ],
   "source": [
    "h2o.init(strict_version_check=False,max_mem_size=min_mem_size)"
   ]
  },
  {
   "cell_type": "code",
   "execution_count": 5,
   "metadata": {},
   "outputs": [
    {
     "name": "stdout",
     "output_type": "stream",
     "text": [
      "Parse progress: |█████████████████████████████████████████████████████████| 100%\n"
     ]
    }
   ],
   "source": [
    "data_path = \"data/Amazon_review.csv\"\n",
    "\n",
    "# Load data into H2O\n",
    "reviews = h2o.import_file(data_path)"
   ]
  },
  {
   "cell_type": "code",
   "execution_count": 6,
   "metadata": {},
   "outputs": [
    {
     "data": {
      "text/plain": [
       "(48181, 21)"
      ]
     },
     "execution_count": 6,
     "metadata": {},
     "output_type": "execute_result"
    }
   ],
   "source": [
    "reviews.shape"
   ]
  },
  {
   "cell_type": "code",
   "execution_count": 7,
   "metadata": {},
   "outputs": [
    {
     "name": "stdout",
     "output_type": "stream",
     "text": [
      "Rows:48181\n",
      "Cols:21\n",
      "\n",
      "\n"
     ]
    },
    {
     "data": {
      "text/html": [
       "<table>\n",
       "<thead>\n",
       "<tr><th>       </th><th>id                  </th><th>name                                                                                   </th><th>asins     </th><th>brand  </th><th>categories                                                                     </th><th>keys                                                                                                                                                                                                               </th><th>manufacturer  </th><th>reviews.date            </th><th>reviews.dateAdded   </th><th>reviews.dateSeen                                 </th><th>reviews.didPurchase  </th><th>reviews.doRecommend  </th><th>reviews.id        </th><th>reviews.numHelpful  </th><th>reviews.rating    </th><th>reviews.sourceURLs                                                                                                                                       </th><th>reviews.text                                                                                                                                                                                                                                                                                                                                                                                                                                                                                                                                                                                                                         </th><th>reviews.title                          </th><th>reviews.userCity  </th><th>reviews.userProvince  </th><th>reviews.username  </th></tr>\n",
       "</thead>\n",
       "<tbody>\n",
       "<tr><td>type   </td><td>enum                </td><td>enum                                                                                   </td><td>enum      </td><td>enum   </td><td>enum                                                                           </td><td>enum                                                                                                                                                                                                               </td><td>enum          </td><td>enum                    </td><td>enum                </td><td>enum                                             </td><td>enum                 </td><td>enum                 </td><td>int               </td><td>int                 </td><td>int               </td><td>enum                                                                                                                                                     </td><td>string                                                                                                                                                                                                                                                                                                                                                                                                                                                                                                                                                                                                                               </td><td>enum                                   </td><td>enum              </td><td>string                </td><td>enum              </td></tr>\n",
       "<tr><td>mins   </td><td>                    </td><td>                                                                                       </td><td>          </td><td>       </td><td>                                                                               </td><td>                                                                                                                                                                                                                   </td><td>              </td><td>                        </td><td>                    </td><td>                                                 </td><td>                     </td><td>                     </td><td>0.0               </td><td>0.0                 </td><td>0.0               </td><td>                                                                                                                                                         </td><td>NaN                                                                                                                                                                                                                                                                                                                                                                                                                                                                                                                                                                                                                                  </td><td>                                       </td><td>                  </td><td>NaN                   </td><td>                  </td></tr>\n",
       "<tr><td>mean   </td><td>                    </td><td>                                                                                       </td><td>          </td><td>       </td><td>                                                                               </td><td>                                                                                                                                                                                                                   </td><td>              </td><td>                        </td><td>                    </td><td>                                                 </td><td>                     </td><td>                     </td><td>18689.87867091794 </td><td>1.4077145669878584  </td><td>4.565938989855542 </td><td>                                                                                                                                                         </td><td>NaN                                                                                                                                                                                                                                                                                                                                                                                                                                                                                                                                                                                                                                  </td><td>                                       </td><td>                  </td><td>0.0                   </td><td>                  </td></tr>\n",
       "<tr><td>maxs   </td><td>                    </td><td>                                                                                       </td><td>          </td><td>       </td><td>                                                                               </td><td>                                                                                                                                                                                                                   </td><td>              </td><td>                        </td><td>                    </td><td>                                                 </td><td>                     </td><td>                     </td><td>111372787.0       </td><td>814.0               </td><td>19.0              </td><td>                                                                                                                                                         </td><td>NaN                                                                                                                                                                                                                                                                                                                                                                                                                                                                                                                                                                                                                                  </td><td>                                       </td><td>                  </td><td>NaN                   </td><td>                  </td></tr>\n",
       "<tr><td>sigma  </td><td>                    </td><td>                                                                                       </td><td>          </td><td>       </td><td>                                                                               </td><td>                                                                                                                                                                                                                   </td><td>              </td><td>                        </td><td>                    </td><td>                                                 </td><td>                     </td><td>                     </td><td>1442754.3578338078</td><td>12.529322130002884  </td><td>0.7621248960567992</td><td>                                                                                                                                                         </td><td>NaN                                                                                                                                                                                                                                                                                                                                                                                                                                                                                                                                                                                                                                  </td><td>                                       </td><td>                  </td><td>-0.0                  </td><td>                  </td></tr>\n",
       "<tr><td>zeros  </td><td>                    </td><td>                                                                                       </td><td>          </td><td>       </td><td>                                                                               </td><td>                                                                                                                                                                                                                   </td><td>              </td><td>                        </td><td>                    </td><td>                                                 </td><td>                     </td><td>                     </td><td>5858              </td><td>24386               </td><td>20                </td><td>                                                                                                                                                         </td><td>0                                                                                                                                                                                                                                                                                                                                                                                                                                                                                                                                                                                                                                    </td><td>                                       </td><td>                  </td><td>0                     </td><td>                  </td></tr>\n",
       "<tr><td>missing</td><td>0                   </td><td>20137                                                                                  </td><td>13393     </td><td>6777   </td><td>13505                                                                          </td><td>13528                                                                                                                                                                                                              </td><td>13408         </td><td>19490                   </td><td>17441               </td><td>19697                                            </td><td>41820                </td><td>20079                </td><td>42222             </td><td>14660               </td><td>20284             </td><td>13527                                                                                                                                                    </td><td>13537                                                                                                                                                                                                                                                                                                                                                                                                                                                                                                                                                                                                                                </td><td>19683                                  </td><td>47374             </td><td>41844                 </td><td>20080             </td></tr>\n",
       "<tr><td>0      </td><td>AVqkIhwDv8e3D1O-lebb</td><td>All-New Fire HD 8 Tablet, 8 HD Display, Wi-Fi, 16 GB - Includes Special Offers, Magenta</td><td>B01AHB9CN2</td><td>Amazon </td><td>Electronics,iPad & Tablets,All Tablets,Fire Tablets,Tablets,Computers & Tablets</td><td>841667104676,amazon/53004484,amazon/b01ahb9cn2,0841667104676,allnewfirehd8tablet8hddisplaywifi16gbincludesspecialoffersmagenta/5620406,allnewfirehd8tablet8hddisplaywifi16gbincludesspecialoffersmagenta/b01ahb9cn2</td><td>Amazon        </td><td>2017-01-13T00:00:00.000Z</td><td>2017-07-03T23:33:15Z</td><td>2017-06-07T09:04:00.000Z,2017-04-30T00:45:00.000Z</td><td>                     </td><td>TRUE                 </td><td>nan               </td><td>0.0                 </td><td>5.0               </td><td>http://reviews.bestbuy.com/3545/5620406/reviews.htm?format=embedded&page=200,http://reviews.bestbuy.com/3545/5620406/reviews.htm?format=embedded&page=166</td><td>This product so far has not disappointed. My children love to use it and I like the ability to monitor control what content they see with ease.                                                                                                                                                                                                                                                                                                                                                                                                                                                                                      </td><td>Kindle                                 </td><td>                  </td><td>                      </td><td>Adapter           </td></tr>\n",
       "<tr><td>1      </td><td>AVqkIhwDv8e3D1O-lebb</td><td>All-New Fire HD 8 Tablet, 8 HD Display, Wi-Fi, 16 GB - Includes Special Offers, Magenta</td><td>B01AHB9CN2</td><td>Amazon </td><td>Electronics,iPad & Tablets,All Tablets,Fire Tablets,Tablets,Computers & Tablets</td><td>841667104676,amazon/53004484,amazon/b01ahb9cn2,0841667104676,allnewfirehd8tablet8hddisplaywifi16gbincludesspecialoffersmagenta/5620406,allnewfirehd8tablet8hddisplaywifi16gbincludesspecialoffersmagenta/b01ahb9cn2</td><td>Amazon        </td><td>2017-01-13T00:00:00.000Z</td><td>2017-07-03T23:33:15Z</td><td>2017-06-07T09:04:00.000Z,2017-04-30T00:45:00.000Z</td><td>                     </td><td>TRUE                 </td><td>nan               </td><td>0.0                 </td><td>5.0               </td><td>http://reviews.bestbuy.com/3545/5620406/reviews.htm?format=embedded&page=200,http://reviews.bestbuy.com/3545/5620406/reviews.htm?format=embedded&page=167</td><td>great for beginner or experienced person. Bought as a gift and she loves it                                                                                                                                                                                                                                                                                                                                                                                                                                                                                                                                                          </td><td>very fast                              </td><td>                  </td><td>                      </td><td>truman            </td></tr>\n",
       "<tr><td>2      </td><td>AVqkIhwDv8e3D1O-lebb</td><td>All-New Fire HD 8 Tablet, 8 HD Display, Wi-Fi, 16 GB - Includes Special Offers, Magenta</td><td>B01AHB9CN2</td><td>Amazon </td><td>Electronics,iPad & Tablets,All Tablets,Fire Tablets,Tablets,Computers & Tablets</td><td>841667104676,amazon/53004484,amazon/b01ahb9cn2,0841667104676,allnewfirehd8tablet8hddisplaywifi16gbincludesspecialoffersmagenta/5620406,allnewfirehd8tablet8hddisplaywifi16gbincludesspecialoffersmagenta/b01ahb9cn2</td><td>Amazon        </td><td>2017-01-13T00:00:00.000Z</td><td>2017-07-03T23:33:15Z</td><td>2017-06-07T09:04:00.000Z,2017-04-30T00:45:00.000Z</td><td>                     </td><td>TRUE                 </td><td>nan               </td><td>0.0                 </td><td>5.0               </td><td>http://reviews.bestbuy.com/3545/5620406/reviews.htm?format=embedded&page=200,http://reviews.bestbuy.com/3545/5620406/reviews.htm?format=embedded&page=167</td><td>Inexpensive tablet for him to use and learn on, step up from the NABI. He was thrilled with it, learn how to Skype on it already...                                                                                                                                                                                                                                                                                                                                                                                                                                                                                                  </td><td>Beginner tablet for our 9 year old son.</td><td>                  </td><td>                      </td><td>DaveZ             </td></tr>\n",
       "<tr><td>3      </td><td>AVqkIhwDv8e3D1O-lebb</td><td>All-New Fire HD 8 Tablet, 8 HD Display, Wi-Fi, 16 GB - Includes Special Offers, Magenta</td><td>B01AHB9CN2</td><td>Amazon </td><td>Electronics,iPad & Tablets,All Tablets,Fire Tablets,Tablets,Computers & Tablets</td><td>841667104676,amazon/53004484,amazon/b01ahb9cn2,0841667104676,allnewfirehd8tablet8hddisplaywifi16gbincludesspecialoffersmagenta/5620406,allnewfirehd8tablet8hddisplaywifi16gbincludesspecialoffersmagenta/b01ahb9cn2</td><td>Amazon        </td><td>2017-01-13T00:00:00.000Z</td><td>2017-07-03T23:33:15Z</td><td>2017-06-07T09:04:00.000Z,2017-04-30T00:45:00.000Z</td><td>                     </td><td>TRUE                 </td><td>nan               </td><td>0.0                 </td><td>4.0               </td><td>http://reviews.bestbuy.com/3545/5620406/reviews.htm?format=embedded&page=200,http://reviews.bestbuy.com/3545/5620406/reviews.htm?format=embedded&page=167</td><td>I've had my Fire HD 8 two weeks now and I love it. This tablet is a great value.We are Prime Members and that is where this tablet SHINES. I love being able to easily access all of the Prime content as well as movies you can download and watch laterThis has a 1280/800 screen which has some really nice look to it its nice and crisp and very bright infact it is brighter then the ipad pro costing $900 base model. The build on this fire is INSANELY AWESOME running at only 7.7mm thick and the smooth glossy feel on the back it is really amazing to hold its like the futuristic tab in ur hands.                    </td><td>Good!!!                                </td><td>                  </td><td>                      </td><td>Shacks            </td></tr>\n",
       "<tr><td>4      </td><td>AVqkIhwDv8e3D1O-lebb</td><td>All-New Fire HD 8 Tablet, 8 HD Display, Wi-Fi, 16 GB - Includes Special Offers, Magenta</td><td>B01AHB9CN2</td><td>Amazon </td><td>Electronics,iPad & Tablets,All Tablets,Fire Tablets,Tablets,Computers & Tablets</td><td>841667104676,amazon/53004484,amazon/b01ahb9cn2,0841667104676,allnewfirehd8tablet8hddisplaywifi16gbincludesspecialoffersmagenta/5620406,allnewfirehd8tablet8hddisplaywifi16gbincludesspecialoffersmagenta/b01ahb9cn2</td><td>Amazon        </td><td>2017-01-12T00:00:00.000Z</td><td>2017-07-03T23:33:15Z</td><td>2017-06-07T09:04:00.000Z,2017-04-30T00:45:00.000Z</td><td>                     </td><td>TRUE                 </td><td>nan               </td><td>0.0                 </td><td>5.0               </td><td>http://reviews.bestbuy.com/3545/5620406/reviews.htm?format=embedded&page=200,http://reviews.bestbuy.com/3545/5620406/reviews.htm?format=embedded&page=167</td><td>I bought this for my grand daughter when she comes over to visit. I set it up with her as the user, entered her age and name and now Amazon makes sure that she only accesses sites and content that are appropriate to her age. Simple to do and she loves the capabilities. I also bought and installed a 64gig SD card which gives this little tablet plenty of storage. For the price I think this tablet is best one out there. You can spend hundreds of dollars more for additional speed and capacity but when it comes to the basics this tablets does everything that most people will ever need at a fraction of the cost.</td><td>Fantastic Tablet for kids              </td><td>                  </td><td>                      </td><td>explore42         </td></tr>\n",
       "<tr><td>5      </td><td>AVqkIhwDv8e3D1O-lebb</td><td>All-New Fire HD 8 Tablet, 8 HD Display, Wi-Fi, 16 GB - Includes Special Offers, Magenta</td><td>B01AHB9CN2</td><td>Amazon </td><td>Electronics,iPad & Tablets,All Tablets,Fire Tablets,Tablets,Computers & Tablets</td><td>841667104676,amazon/53004484,amazon/b01ahb9cn2,0841667104676,allnewfirehd8tablet8hddisplaywifi16gbincludesspecialoffersmagenta/5620406,allnewfirehd8tablet8hddisplaywifi16gbincludesspecialoffersmagenta/b01ahb9cn2</td><td>Amazon        </td><td>2017-01-12T00:00:00.000Z</td><td>2017-07-03T23:33:15Z</td><td>2017-06-07T09:04:00.000Z,2017-04-30T00:45:00.000Z</td><td>                     </td><td>TRUE                 </td><td>nan               </td><td>0.0                 </td><td>5.0               </td><td>http://reviews.bestbuy.com/3545/5620406/reviews.htm?format=embedded&page=200,http://reviews.bestbuy.com/3545/5620406/reviews.htm?format=embedded&page=167</td><td>This amazon fire 8 inch tablet is the perfect size. I purchased it for my husband so that he has a bigger screen than just his phone. He had gotten me one a few years ago so I knew it would be a good purchase.                                                                                                                                                                                                                                                                                                                                                                                                                    </td><td>Just what we expected                  </td><td>                  </td><td>                      </td><td>tklit             </td></tr>\n",
       "<tr><td>6      </td><td>AVqkIhwDv8e3D1O-lebb</td><td>All-New Fire HD 8 Tablet, 8 HD Display, Wi-Fi, 16 GB - Includes Special Offers, Magenta</td><td>B01AHB9CN2</td><td>Amazon </td><td>Electronics,iPad & Tablets,All Tablets,Fire Tablets,Tablets,Computers & Tablets</td><td>841667104676,amazon/53004484,amazon/b01ahb9cn2,0841667104676,allnewfirehd8tablet8hddisplaywifi16gbincludesspecialoffersmagenta/5620406,allnewfirehd8tablet8hddisplaywifi16gbincludesspecialoffersmagenta/b01ahb9cn2</td><td>Amazon        </td><td>2017-01-12T00:00:00.000Z</td><td>2017-07-03T23:33:15Z</td><td>2017-06-07T09:04:00.000Z,2017-04-30T00:45:00.000Z</td><td>                     </td><td>TRUE                 </td><td>nan               </td><td>0.0                 </td><td>4.0               </td><td>http://reviews.bestbuy.com/3545/5620406/reviews.htm?format=embedded&page=200,http://reviews.bestbuy.com/3545/5620406/reviews.htm?format=embedded&page=167</td><td>Great for e-reading on the go, nice and light weight, and for the price point given, definitely worth the purchase.                                                                                                                                                                                                                                                                                                                                                                                                                                                                                                                  </td><td>great e-reader tablet                  </td><td>                  </td><td>                      </td><td>Droi              </td></tr>\n",
       "<tr><td>7      </td><td>AVqkIhwDv8e3D1O-lebb</td><td>All-New Fire HD 8 Tablet, 8 HD Display, Wi-Fi, 16 GB - Includes Special Offers, Magenta</td><td>B01AHB9CN2</td><td>Amazon </td><td>Electronics,iPad & Tablets,All Tablets,Fire Tablets,Tablets,Computers & Tablets</td><td>841667104676,amazon/53004484,amazon/b01ahb9cn2,0841667104676,allnewfirehd8tablet8hddisplaywifi16gbincludesspecialoffersmagenta/5620406,allnewfirehd8tablet8hddisplaywifi16gbincludesspecialoffersmagenta/b01ahb9cn2</td><td>Amazon        </td><td>2017-01-12T00:00:00.000Z</td><td>2017-07-03T23:33:15Z</td><td>2017-06-07T09:04:00.000Z,2017-04-30T00:45:00.000Z</td><td>                     </td><td>TRUE                 </td><td>nan               </td><td>0.0                 </td><td>5.0               </td><td>http://reviews.bestbuy.com/3545/5620406/reviews.htm?format=embedded&page=200,http://reviews.bestbuy.com/3545/5620406/reviews.htm?format=embedded&page=167</td><td>I gave this as a Christmas gift to my inlaws, husband and uncle. They loved it and how easy they are to use with fantastic features!                                                                                                                                                                                                                                                                                                                                                                                                                                                                                                 </td><td>Great for gifts                        </td><td>                  </td><td>                      </td><td>Kacy              </td></tr>\n",
       "<tr><td>8      </td><td>AVqkIhwDv8e3D1O-lebb</td><td>All-New Fire HD 8 Tablet, 8 HD Display, Wi-Fi, 16 GB - Includes Special Offers, Magenta</td><td>B01AHB9CN2</td><td>Amazon </td><td>Electronics,iPad & Tablets,All Tablets,Fire Tablets,Tablets,Computers & Tablets</td><td>841667104676,amazon/53004484,amazon/b01ahb9cn2,0841667104676,allnewfirehd8tablet8hddisplaywifi16gbincludesspecialoffersmagenta/5620406,allnewfirehd8tablet8hddisplaywifi16gbincludesspecialoffersmagenta/b01ahb9cn2</td><td>Amazon        </td><td>2017-01-23T00:00:00.000Z</td><td>2017-07-03T23:28:24Z</td><td>2017-06-07T09:04:00.000Z,2017-04-30T00:44:00.000Z</td><td>                     </td><td>TRUE                 </td><td>nan               </td><td>0.0                 </td><td>5.0               </td><td>http://reviews.bestbuy.com/3545/5620406/reviews.htm?format=embedded&page=154,http://reviews.bestbuy.com/3545/5620406/reviews.htm?format=embedded&page=120</td><td>Great as a device to read books. I like that it links with my borrowed library e-books. Switched from another popular tablet brand and I am happy with the choice I made. It took some time to get books from my previous non-Kindle reader, but finally figured out a way!                                                                                                                                                                                                                                                                                                                                                          </td><td>Great for reading                      </td><td>                  </td><td>                      </td><td>Weebee            </td></tr>\n",
       "<tr><td>9      </td><td>AVqkIhwDv8e3D1O-lebb</td><td>All-New Fire HD 8 Tablet, 8 HD Display, Wi-Fi, 16 GB - Includes Special Offers, Magenta</td><td>B01AHB9CN2</td><td>Amazon </td><td>Electronics,iPad & Tablets,All Tablets,Fire Tablets,Tablets,Computers & Tablets</td><td>841667104676,amazon/53004484,amazon/b01ahb9cn2,0841667104676,allnewfirehd8tablet8hddisplaywifi16gbincludesspecialoffersmagenta/5620406,allnewfirehd8tablet8hddisplaywifi16gbincludesspecialoffersmagenta/b01ahb9cn2</td><td>Amazon        </td><td>2017-01-23T00:00:00.000Z</td><td>2017-07-03T23:28:24Z</td><td>2017-06-07T09:04:00.000Z,2017-04-30T00:44:00.000Z</td><td>                     </td><td>TRUE                 </td><td>nan               </td><td>0.0                 </td><td>5.0               </td><td>http://reviews.bestbuy.com/3545/5620406/reviews.htm?format=embedded&page=154,http://reviews.bestbuy.com/3545/5620406/reviews.htm?format=embedded&page=121</td><td>I love ordering books and reading them with the reader.                                                                                                                                                                                                                                                                                                                                                                                                                                                                                                                                                                              </td><td>Great and lightweight reader           </td><td>                  </td><td>                      </td><td>RoboBob           </td></tr>\n",
       "</tbody>\n",
       "</table>"
      ]
     },
     "metadata": {},
     "output_type": "display_data"
    }
   ],
   "source": [
    "reviews.describe()"
   ]
  },
  {
   "cell_type": "code",
   "execution_count": 8,
   "metadata": {
    "scrolled": true
   },
   "outputs": [],
   "source": [
    "def get_independent_variables(df, targ):\n",
    "    C = [name for name in df.columns if name != targ]\n",
    "    # determine column types\n",
    "    ints, reals, enums = [], [], []\n",
    "    for key, val in df.types.items():\n",
    "        if key in C:\n",
    "            if val == 'enum':\n",
    "                enums.append(key)\n",
    "            elif val == 'int':\n",
    "                ints.append(key)            \n",
    "            else: \n",
    "                reals.append(key)    \n",
    "    x=ints+enums+reals\n",
    "    return x"
   ]
  },
  {
   "cell_type": "code",
   "execution_count": 9,
   "metadata": {},
   "outputs": [],
   "source": [
    "target='reviews.rating'"
   ]
  },
  {
   "cell_type": "code",
   "execution_count": 10,
   "metadata": {},
   "outputs": [
    {
     "name": "stdout",
     "output_type": "stream",
     "text": [
      "['reviews.id', 'reviews.numHelpful', 'id', 'name', 'asins', 'brand', 'categories', 'keys', 'manufacturer', 'reviews.date', 'reviews.dateAdded', 'reviews.dateSeen', 'reviews.didPurchase', 'reviews.doRecommend', 'reviews.sourceURLs', 'reviews.title', 'reviews.userCity', 'reviews.username', 'reviews.text', 'reviews.userProvince']\n"
     ]
    }
   ],
   "source": [
    "X=get_independent_variables(reviews, target) \n",
    "print(X)"
   ]
  },
  {
   "cell_type": "code",
   "execution_count": 11,
   "metadata": {},
   "outputs": [
    {
     "data": {
      "text/plain": [
       "'reviews.rating'"
      ]
     },
     "execution_count": 11,
     "metadata": {},
     "output_type": "execute_result"
    }
   ],
   "source": [
    "# Set target and predictor variables\n",
    "y = target\n",
    "y"
   ]
  },
  {
   "cell_type": "code",
   "execution_count": 12,
   "metadata": {},
   "outputs": [],
   "source": [
    "# Set up AutoML\n",
    "aml = H2OAutoML(max_runtime_secs=run_time)"
   ]
  },
  {
   "cell_type": "code",
   "execution_count": 13,
   "metadata": {},
   "outputs": [
    {
     "name": "stdout",
     "output_type": "stream",
     "text": [
      "AutoML progress: |████████████████████████████████████████████████████████| 100%\n"
     ]
    },
    {
     "ename": "H2OResponseError",
     "evalue": "Server error java.lang.IllegalArgumentException:\n  Error: Total input file size of  249  B is much larger than total cluster memory of Zero  , please use either a larger cluster or smaller data.\n  Request: POST /3/Parse\n    data: {'destination_frame': 'Key_Frame__upload_b1b15fa0966befbdf27c6d3f4bdf419f.hex', 'parse_type': 'CSV', 'separator': '44', 'single_quotes': 'False', 'check_header': '1', 'number_columns': '6', 'chunk_size': '4194304', 'delete_on_done': 'True', 'blocking': 'False', 'column_types': '[\"Numeric\",\"String\",\"Numeric\",\"Numeric\",\"Numeric\",\"Numeric\"]', 'column_names': '[\"\",\"model_id\",\"mean_residual_deviance\",\"rmse\",\"mae\",\"rmsle\"]', 'source_frames': '[\"upload_b1b15fa0966befbdf27c6d3f4bdf419f\"]'}\n",
     "output_type": "error",
     "traceback": [
      "\u001b[1;31m---------------------------------------------------------------------------\u001b[0m",
      "\u001b[1;31mH2OResponseError\u001b[0m                          Traceback (most recent call last)",
      "\u001b[1;32m<ipython-input-13-d66cbd8541b4>\u001b[0m in \u001b[0;36m<module>\u001b[1;34m\u001b[0m\n\u001b[0;32m      1\u001b[0m \u001b[0mmodel_start_time\u001b[0m \u001b[1;33m=\u001b[0m \u001b[0mtime\u001b[0m\u001b[1;33m.\u001b[0m\u001b[0mtime\u001b[0m\u001b[1;33m(\u001b[0m\u001b[1;33m)\u001b[0m\u001b[1;33m\u001b[0m\u001b[1;33m\u001b[0m\u001b[0m\n\u001b[1;32m----> 2\u001b[1;33m \u001b[0maml\u001b[0m\u001b[1;33m.\u001b[0m\u001b[0mtrain\u001b[0m\u001b[1;33m(\u001b[0m\u001b[0mx\u001b[0m\u001b[1;33m=\u001b[0m\u001b[0mX\u001b[0m\u001b[1;33m,\u001b[0m\u001b[0my\u001b[0m\u001b[1;33m=\u001b[0m\u001b[0my\u001b[0m\u001b[1;33m,\u001b[0m\u001b[0mtraining_frame\u001b[0m\u001b[1;33m=\u001b[0m\u001b[0mreviews\u001b[0m\u001b[1;33m)\u001b[0m\u001b[1;33m\u001b[0m\u001b[1;33m\u001b[0m\u001b[0m\n\u001b[0m",
      "\u001b[1;32m~\\Anaconda3\\lib\\site-packages\\h2o\\automl\\autoh2o.py\u001b[0m in \u001b[0;36mtrain\u001b[1;34m(self, x, y, training_frame, fold_column, weights_column, validation_frame, leaderboard_frame)\u001b[0m\n\u001b[0;32m    279\u001b[0m         \u001b[0mself\u001b[0m\u001b[1;33m.\u001b[0m\u001b[0m_automl_key\u001b[0m \u001b[1;33m=\u001b[0m \u001b[0mself\u001b[0m\u001b[1;33m.\u001b[0m\u001b[0m_job\u001b[0m\u001b[1;33m.\u001b[0m\u001b[0mdest_key\u001b[0m\u001b[1;33m\u001b[0m\u001b[1;33m\u001b[0m\u001b[0m\n\u001b[0;32m    280\u001b[0m         \u001b[0mself\u001b[0m\u001b[1;33m.\u001b[0m\u001b[0m_job\u001b[0m\u001b[1;33m.\u001b[0m\u001b[0mpoll\u001b[0m\u001b[1;33m(\u001b[0m\u001b[1;33m)\u001b[0m\u001b[1;33m\u001b[0m\u001b[1;33m\u001b[0m\u001b[0m\n\u001b[1;32m--> 281\u001b[1;33m         \u001b[0mself\u001b[0m\u001b[1;33m.\u001b[0m\u001b[0m_fetch\u001b[0m\u001b[1;33m(\u001b[0m\u001b[1;33m)\u001b[0m\u001b[1;33m\u001b[0m\u001b[1;33m\u001b[0m\u001b[0m\n\u001b[0m\u001b[0;32m    282\u001b[0m         \u001b[1;32mif\u001b[0m \u001b[0mself\u001b[0m\u001b[1;33m.\u001b[0m\u001b[0mproject_name\u001b[0m \u001b[1;32mis\u001b[0m \u001b[1;32mNone\u001b[0m\u001b[1;33m:\u001b[0m\u001b[1;33m\u001b[0m\u001b[1;33m\u001b[0m\u001b[0m\n\u001b[0;32m    283\u001b[0m             \u001b[0mself\u001b[0m\u001b[1;33m.\u001b[0m\u001b[0mproject_name\u001b[0m \u001b[1;33m=\u001b[0m \u001b[1;34m\"automl_\"\u001b[0m \u001b[1;33m+\u001b[0m \u001b[0mtraining_frame\u001b[0m\u001b[1;33m.\u001b[0m\u001b[0mframe_id\u001b[0m\u001b[1;33m\u001b[0m\u001b[1;33m\u001b[0m\u001b[0m\n",
      "\u001b[1;32m~\\Anaconda3\\lib\\site-packages\\h2o\\automl\\autoh2o.py\u001b[0m in \u001b[0;36m_fetch\u001b[1;34m(self)\u001b[0m\n\u001b[0;32m    319\u001b[0m         \u001b[1;32melse\u001b[0m\u001b[1;33m:\u001b[0m\u001b[1;33m\u001b[0m\u001b[1;33m\u001b[0m\u001b[0m\n\u001b[0;32m    320\u001b[0m             \u001b[0mself\u001b[0m\u001b[1;33m.\u001b[0m\u001b[0m_leader_id\u001b[0m \u001b[1;33m=\u001b[0m \u001b[1;32mNone\u001b[0m\u001b[1;33m\u001b[0m\u001b[1;33m\u001b[0m\u001b[0m\n\u001b[1;32m--> 321\u001b[1;33m         \u001b[0mself\u001b[0m\u001b[1;33m.\u001b[0m\u001b[0m_leaderboard\u001b[0m \u001b[1;33m=\u001b[0m \u001b[0mh2o\u001b[0m\u001b[1;33m.\u001b[0m\u001b[0mH2OFrame\u001b[0m\u001b[1;33m(\u001b[0m\u001b[0mres\u001b[0m\u001b[1;33m[\u001b[0m\u001b[1;34m\"leaderboard_table\"\u001b[0m\u001b[1;33m]\u001b[0m\u001b[1;33m.\u001b[0m\u001b[0mas_data_frame\u001b[0m\u001b[1;33m(\u001b[0m\u001b[1;33m)\u001b[0m\u001b[1;33m)\u001b[0m\u001b[1;33m[\u001b[0m\u001b[1;36m1\u001b[0m\u001b[1;33m:\u001b[0m\u001b[1;33m]\u001b[0m\u001b[1;33m\u001b[0m\u001b[1;33m\u001b[0m\u001b[0m\n\u001b[0m\u001b[0;32m    322\u001b[0m         \u001b[1;32mreturn\u001b[0m \u001b[0mself\u001b[0m\u001b[1;33m.\u001b[0m\u001b[0m_leader_id\u001b[0m \u001b[1;32mis\u001b[0m \u001b[1;32mnot\u001b[0m \u001b[1;32mNone\u001b[0m\u001b[1;33m\u001b[0m\u001b[1;33m\u001b[0m\u001b[0m\n\u001b[0;32m    323\u001b[0m \u001b[1;33m\u001b[0m\u001b[0m\n",
      "\u001b[1;32m~\\Anaconda3\\lib\\site-packages\\h2o\\frame.py\u001b[0m in \u001b[0;36m__init__\u001b[1;34m(self, python_obj, destination_frame, header, separator, column_names, column_types, na_strings)\u001b[0m\n\u001b[0;32m    102\u001b[0m         \u001b[1;32mif\u001b[0m \u001b[0mpython_obj\u001b[0m \u001b[1;32mis\u001b[0m \u001b[1;32mnot\u001b[0m \u001b[1;32mNone\u001b[0m\u001b[1;33m:\u001b[0m\u001b[1;33m\u001b[0m\u001b[1;33m\u001b[0m\u001b[0m\n\u001b[0;32m    103\u001b[0m             self._upload_python_object(python_obj, destination_frame, header, separator,\n\u001b[1;32m--> 104\u001b[1;33m                                        column_names, column_types, na_strings)\n\u001b[0m\u001b[0;32m    105\u001b[0m \u001b[1;33m\u001b[0m\u001b[0m\n\u001b[0;32m    106\u001b[0m     \u001b[1;33m@\u001b[0m\u001b[0mstaticmethod\u001b[0m\u001b[1;33m\u001b[0m\u001b[1;33m\u001b[0m\u001b[0m\n",
      "\u001b[1;32m~\\Anaconda3\\lib\\site-packages\\h2o\\frame.py\u001b[0m in \u001b[0;36m_upload_python_object\u001b[1;34m(self, python_obj, destination_frame, header, separator, column_names, column_types, na_strings)\u001b[0m\n\u001b[0;32m    143\u001b[0m             \u001b[0mcsv_writer\u001b[0m\u001b[1;33m.\u001b[0m\u001b[0mwriterows\u001b[0m\u001b[1;33m(\u001b[0m\u001b[0mdata_to_write\u001b[0m\u001b[1;33m)\u001b[0m\u001b[1;33m\u001b[0m\u001b[1;33m\u001b[0m\u001b[0m\n\u001b[0;32m    144\u001b[0m         \u001b[0mtmp_file\u001b[0m\u001b[1;33m.\u001b[0m\u001b[0mclose\u001b[0m\u001b[1;33m(\u001b[0m\u001b[1;33m)\u001b[0m  \u001b[1;31m# close the streams\u001b[0m\u001b[1;33m\u001b[0m\u001b[1;33m\u001b[0m\u001b[0m\n\u001b[1;32m--> 145\u001b[1;33m         \u001b[0mself\u001b[0m\u001b[1;33m.\u001b[0m\u001b[0m_upload_parse\u001b[0m\u001b[1;33m(\u001b[0m\u001b[0mtmp_path\u001b[0m\u001b[1;33m,\u001b[0m \u001b[0mdestination_frame\u001b[0m\u001b[1;33m,\u001b[0m \u001b[1;36m1\u001b[0m\u001b[1;33m,\u001b[0m \u001b[0mseparator\u001b[0m\u001b[1;33m,\u001b[0m \u001b[0mcolumn_names\u001b[0m\u001b[1;33m,\u001b[0m \u001b[0mcolumn_types\u001b[0m\u001b[1;33m,\u001b[0m \u001b[0mna_strings\u001b[0m\u001b[1;33m)\u001b[0m\u001b[1;33m\u001b[0m\u001b[1;33m\u001b[0m\u001b[0m\n\u001b[0m\u001b[0;32m    146\u001b[0m         \u001b[0mos\u001b[0m\u001b[1;33m.\u001b[0m\u001b[0mremove\u001b[0m\u001b[1;33m(\u001b[0m\u001b[0mtmp_path\u001b[0m\u001b[1;33m)\u001b[0m  \u001b[1;31m# delete the tmp file\u001b[0m\u001b[1;33m\u001b[0m\u001b[1;33m\u001b[0m\u001b[0m\n\u001b[0;32m    147\u001b[0m \u001b[1;33m\u001b[0m\u001b[0m\n",
      "\u001b[1;32m~\\Anaconda3\\lib\\site-packages\\h2o\\frame.py\u001b[0m in \u001b[0;36m_upload_parse\u001b[1;34m(self, path, destination_frame, header, sep, column_names, column_types, na_strings)\u001b[0m\n\u001b[0;32m    313\u001b[0m         \u001b[0mret\u001b[0m \u001b[1;33m=\u001b[0m \u001b[0mh2o\u001b[0m\u001b[1;33m.\u001b[0m\u001b[0mapi\u001b[0m\u001b[1;33m(\u001b[0m\u001b[1;34m\"POST /3/PostFile\"\u001b[0m\u001b[1;33m,\u001b[0m \u001b[0mfilename\u001b[0m\u001b[1;33m=\u001b[0m\u001b[0mpath\u001b[0m\u001b[1;33m)\u001b[0m\u001b[1;33m\u001b[0m\u001b[1;33m\u001b[0m\u001b[0m\n\u001b[0;32m    314\u001b[0m         \u001b[0mrawkey\u001b[0m \u001b[1;33m=\u001b[0m \u001b[0mret\u001b[0m\u001b[1;33m[\u001b[0m\u001b[1;34m\"destination_frame\"\u001b[0m\u001b[1;33m]\u001b[0m\u001b[1;33m\u001b[0m\u001b[1;33m\u001b[0m\u001b[0m\n\u001b[1;32m--> 315\u001b[1;33m         \u001b[0mself\u001b[0m\u001b[1;33m.\u001b[0m\u001b[0m_parse\u001b[0m\u001b[1;33m(\u001b[0m\u001b[0mrawkey\u001b[0m\u001b[1;33m,\u001b[0m \u001b[0mdestination_frame\u001b[0m\u001b[1;33m,\u001b[0m \u001b[0mheader\u001b[0m\u001b[1;33m,\u001b[0m \u001b[0msep\u001b[0m\u001b[1;33m,\u001b[0m \u001b[0mcolumn_names\u001b[0m\u001b[1;33m,\u001b[0m \u001b[0mcolumn_types\u001b[0m\u001b[1;33m,\u001b[0m \u001b[0mna_strings\u001b[0m\u001b[1;33m)\u001b[0m\u001b[1;33m\u001b[0m\u001b[1;33m\u001b[0m\u001b[0m\n\u001b[0m\u001b[0;32m    316\u001b[0m         \u001b[1;32mreturn\u001b[0m \u001b[0mself\u001b[0m\u001b[1;33m\u001b[0m\u001b[1;33m\u001b[0m\u001b[0m\n\u001b[0;32m    317\u001b[0m \u001b[1;33m\u001b[0m\u001b[0m\n",
      "\u001b[1;32m~\\Anaconda3\\lib\\site-packages\\h2o\\frame.py\u001b[0m in \u001b[0;36m_parse\u001b[1;34m(self, rawkey, destination_frame, header, separator, column_names, column_types, na_strings)\u001b[0m\n\u001b[0;32m    320\u001b[0m                na_strings=None):\n\u001b[0;32m    321\u001b[0m         \u001b[0msetup\u001b[0m \u001b[1;33m=\u001b[0m \u001b[0mh2o\u001b[0m\u001b[1;33m.\u001b[0m\u001b[0mparse_setup\u001b[0m\u001b[1;33m(\u001b[0m\u001b[0mrawkey\u001b[0m\u001b[1;33m,\u001b[0m \u001b[0mdestination_frame\u001b[0m\u001b[1;33m,\u001b[0m \u001b[0mheader\u001b[0m\u001b[1;33m,\u001b[0m \u001b[0mseparator\u001b[0m\u001b[1;33m,\u001b[0m \u001b[0mcolumn_names\u001b[0m\u001b[1;33m,\u001b[0m \u001b[0mcolumn_types\u001b[0m\u001b[1;33m,\u001b[0m \u001b[0mna_strings\u001b[0m\u001b[1;33m)\u001b[0m\u001b[1;33m\u001b[0m\u001b[1;33m\u001b[0m\u001b[0m\n\u001b[1;32m--> 322\u001b[1;33m         \u001b[1;32mreturn\u001b[0m \u001b[0mself\u001b[0m\u001b[1;33m.\u001b[0m\u001b[0m_parse_raw\u001b[0m\u001b[1;33m(\u001b[0m\u001b[0msetup\u001b[0m\u001b[1;33m)\u001b[0m\u001b[1;33m\u001b[0m\u001b[1;33m\u001b[0m\u001b[0m\n\u001b[0m\u001b[0;32m    323\u001b[0m \u001b[1;33m\u001b[0m\u001b[0m\n\u001b[0;32m    324\u001b[0m \u001b[1;33m\u001b[0m\u001b[0m\n",
      "\u001b[1;32m~\\Anaconda3\\lib\\site-packages\\h2o\\frame.py\u001b[0m in \u001b[0;36m_parse_raw\u001b[1;34m(self, setup)\u001b[0m\n\u001b[0;32m    345\u001b[0m         \u001b[0mp\u001b[0m\u001b[1;33m[\u001b[0m\u001b[1;34m'source_frames'\u001b[0m\u001b[1;33m]\u001b[0m \u001b[1;33m=\u001b[0m \u001b[1;33m[\u001b[0m\u001b[0m_quoted\u001b[0m\u001b[1;33m(\u001b[0m\u001b[0msrc\u001b[0m\u001b[1;33m[\u001b[0m\u001b[1;34m'name'\u001b[0m\u001b[1;33m]\u001b[0m\u001b[1;33m)\u001b[0m \u001b[1;32mfor\u001b[0m \u001b[0msrc\u001b[0m \u001b[1;32min\u001b[0m \u001b[0msetup\u001b[0m\u001b[1;33m[\u001b[0m\u001b[1;34m'source_frames'\u001b[0m\u001b[1;33m]\u001b[0m\u001b[1;33m]\u001b[0m\u001b[1;33m\u001b[0m\u001b[1;33m\u001b[0m\u001b[0m\n\u001b[0;32m    346\u001b[0m \u001b[1;33m\u001b[0m\u001b[0m\n\u001b[1;32m--> 347\u001b[1;33m         \u001b[0mH2OJob\u001b[0m\u001b[1;33m(\u001b[0m\u001b[0mh2o\u001b[0m\u001b[1;33m.\u001b[0m\u001b[0mapi\u001b[0m\u001b[1;33m(\u001b[0m\u001b[1;34m\"POST /3/Parse\"\u001b[0m\u001b[1;33m,\u001b[0m \u001b[0mdata\u001b[0m\u001b[1;33m=\u001b[0m\u001b[0mp\u001b[0m\u001b[1;33m)\u001b[0m\u001b[1;33m,\u001b[0m \u001b[1;34m\"Parse\"\u001b[0m\u001b[1;33m)\u001b[0m\u001b[1;33m.\u001b[0m\u001b[0mpoll\u001b[0m\u001b[1;33m(\u001b[0m\u001b[1;33m)\u001b[0m\u001b[1;33m\u001b[0m\u001b[1;33m\u001b[0m\u001b[0m\n\u001b[0m\u001b[0;32m    348\u001b[0m         \u001b[1;31m# Need to return a Frame here for nearly all callers\u001b[0m\u001b[1;33m\u001b[0m\u001b[1;33m\u001b[0m\u001b[1;33m\u001b[0m\u001b[0m\n\u001b[0;32m    349\u001b[0m         \u001b[1;31m# ... but job stats returns only a dest_key, requiring another REST call to get nrow/ncol\u001b[0m\u001b[1;33m\u001b[0m\u001b[1;33m\u001b[0m\u001b[1;33m\u001b[0m\u001b[0m\n",
      "\u001b[1;32m~\\Anaconda3\\lib\\site-packages\\h2o\\h2o.py\u001b[0m in \u001b[0;36mapi\u001b[1;34m(endpoint, data, json, filename, save_to)\u001b[0m\n\u001b[0;32m    100\u001b[0m     \u001b[1;31m# type checks are performed in H2OConnection class\u001b[0m\u001b[1;33m\u001b[0m\u001b[1;33m\u001b[0m\u001b[1;33m\u001b[0m\u001b[0m\n\u001b[0;32m    101\u001b[0m     \u001b[0m_check_connection\u001b[0m\u001b[1;33m(\u001b[0m\u001b[1;33m)\u001b[0m\u001b[1;33m\u001b[0m\u001b[1;33m\u001b[0m\u001b[0m\n\u001b[1;32m--> 102\u001b[1;33m     \u001b[1;32mreturn\u001b[0m \u001b[0mh2oconn\u001b[0m\u001b[1;33m.\u001b[0m\u001b[0mrequest\u001b[0m\u001b[1;33m(\u001b[0m\u001b[0mendpoint\u001b[0m\u001b[1;33m,\u001b[0m \u001b[0mdata\u001b[0m\u001b[1;33m=\u001b[0m\u001b[0mdata\u001b[0m\u001b[1;33m,\u001b[0m \u001b[0mjson\u001b[0m\u001b[1;33m=\u001b[0m\u001b[0mjson\u001b[0m\u001b[1;33m,\u001b[0m \u001b[0mfilename\u001b[0m\u001b[1;33m=\u001b[0m\u001b[0mfilename\u001b[0m\u001b[1;33m,\u001b[0m \u001b[0msave_to\u001b[0m\u001b[1;33m=\u001b[0m\u001b[0msave_to\u001b[0m\u001b[1;33m)\u001b[0m\u001b[1;33m\u001b[0m\u001b[1;33m\u001b[0m\u001b[0m\n\u001b[0m\u001b[0;32m    103\u001b[0m \u001b[1;33m\u001b[0m\u001b[0m\n\u001b[0;32m    104\u001b[0m \u001b[1;33m\u001b[0m\u001b[0m\n",
      "\u001b[1;32m~\\Anaconda3\\lib\\site-packages\\h2o\\backend\\connection.py\u001b[0m in \u001b[0;36mrequest\u001b[1;34m(self, endpoint, data, json, filename, save_to)\u001b[0m\n\u001b[0;32m    400\u001b[0m                                     auth=self._auth, verify=self._verify_ssl_cert, proxies=self._proxies)\n\u001b[0;32m    401\u001b[0m             \u001b[0mself\u001b[0m\u001b[1;33m.\u001b[0m\u001b[0m_log_end_transaction\u001b[0m\u001b[1;33m(\u001b[0m\u001b[0mstart_time\u001b[0m\u001b[1;33m,\u001b[0m \u001b[0mresp\u001b[0m\u001b[1;33m)\u001b[0m\u001b[1;33m\u001b[0m\u001b[1;33m\u001b[0m\u001b[0m\n\u001b[1;32m--> 402\u001b[1;33m             \u001b[1;32mreturn\u001b[0m \u001b[0mself\u001b[0m\u001b[1;33m.\u001b[0m\u001b[0m_process_response\u001b[0m\u001b[1;33m(\u001b[0m\u001b[0mresp\u001b[0m\u001b[1;33m,\u001b[0m \u001b[0msave_to\u001b[0m\u001b[1;33m)\u001b[0m\u001b[1;33m\u001b[0m\u001b[1;33m\u001b[0m\u001b[0m\n\u001b[0m\u001b[0;32m    403\u001b[0m \u001b[1;33m\u001b[0m\u001b[0m\n\u001b[0;32m    404\u001b[0m         \u001b[1;32mexcept\u001b[0m \u001b[1;33m(\u001b[0m\u001b[0mrequests\u001b[0m\u001b[1;33m.\u001b[0m\u001b[0mexceptions\u001b[0m\u001b[1;33m.\u001b[0m\u001b[0mConnectionError\u001b[0m\u001b[1;33m,\u001b[0m \u001b[0mrequests\u001b[0m\u001b[1;33m.\u001b[0m\u001b[0mexceptions\u001b[0m\u001b[1;33m.\u001b[0m\u001b[0mHTTPError\u001b[0m\u001b[1;33m)\u001b[0m \u001b[1;32mas\u001b[0m \u001b[0me\u001b[0m\u001b[1;33m:\u001b[0m\u001b[1;33m\u001b[0m\u001b[1;33m\u001b[0m\u001b[0m\n",
      "\u001b[1;32m~\\Anaconda3\\lib\\site-packages\\h2o\\backend\\connection.py\u001b[0m in \u001b[0;36m_process_response\u001b[1;34m(response, save_to)\u001b[0m\n\u001b[0;32m    723\u001b[0m         \u001b[1;31m# Client errors (400 = \"Bad Request\", 404 = \"Not Found\", 412 = \"Precondition Failed\")\u001b[0m\u001b[1;33m\u001b[0m\u001b[1;33m\u001b[0m\u001b[1;33m\u001b[0m\u001b[0m\n\u001b[0;32m    724\u001b[0m         \u001b[1;32mif\u001b[0m \u001b[0mstatus_code\u001b[0m \u001b[1;32min\u001b[0m \u001b[1;33m{\u001b[0m\u001b[1;36m400\u001b[0m\u001b[1;33m,\u001b[0m \u001b[1;36m404\u001b[0m\u001b[1;33m,\u001b[0m \u001b[1;36m412\u001b[0m\u001b[1;33m}\u001b[0m \u001b[1;32mand\u001b[0m \u001b[0misinstance\u001b[0m\u001b[1;33m(\u001b[0m\u001b[0mdata\u001b[0m\u001b[1;33m,\u001b[0m \u001b[1;33m(\u001b[0m\u001b[0mH2OErrorV3\u001b[0m\u001b[1;33m,\u001b[0m \u001b[0mH2OModelBuilderErrorV3\u001b[0m\u001b[1;33m)\u001b[0m\u001b[1;33m)\u001b[0m\u001b[1;33m:\u001b[0m\u001b[1;33m\u001b[0m\u001b[1;33m\u001b[0m\u001b[0m\n\u001b[1;32m--> 725\u001b[1;33m             \u001b[1;32mraise\u001b[0m \u001b[0mH2OResponseError\u001b[0m\u001b[1;33m(\u001b[0m\u001b[0mdata\u001b[0m\u001b[1;33m)\u001b[0m\u001b[1;33m\u001b[0m\u001b[1;33m\u001b[0m\u001b[0m\n\u001b[0m\u001b[0;32m    726\u001b[0m \u001b[1;33m\u001b[0m\u001b[0m\n\u001b[0;32m    727\u001b[0m         \u001b[1;31m# Server errors (notably 500 = \"Server Error\")\u001b[0m\u001b[1;33m\u001b[0m\u001b[1;33m\u001b[0m\u001b[1;33m\u001b[0m\u001b[0m\n",
      "\u001b[1;31mH2OResponseError\u001b[0m: Server error java.lang.IllegalArgumentException:\n  Error: Total input file size of  249  B is much larger than total cluster memory of Zero  , please use either a larger cluster or smaller data.\n  Request: POST /3/Parse\n    data: {'destination_frame': 'Key_Frame__upload_b1b15fa0966befbdf27c6d3f4bdf419f.hex', 'parse_type': 'CSV', 'separator': '44', 'single_quotes': 'False', 'check_header': '1', 'number_columns': '6', 'chunk_size': '4194304', 'delete_on_done': 'True', 'blocking': 'False', 'column_types': '[\"Numeric\",\"String\",\"Numeric\",\"Numeric\",\"Numeric\",\"Numeric\"]', 'column_names': '[\"\",\"model_id\",\"mean_residual_deviance\",\"rmse\",\"mae\",\"rmsle\"]', 'source_frames': '[\"upload_b1b15fa0966befbdf27c6d3f4bdf419f\"]'}\n"
     ]
    }
   ],
   "source": [
    "model_start_time = time.time()\n",
    "aml.train(x=X,y=y,training_frame=reviews)"
   ]
  },
  {
   "cell_type": "code",
   "execution_count": null,
   "metadata": {},
   "outputs": [],
   "source": [
    "print(aml.leaderboard)"
   ]
  },
  {
   "cell_type": "code",
   "execution_count": null,
   "metadata": {},
   "outputs": [],
   "source": [
    "best_model = h2o.get_model(aml.leaderboard[3,'model_id'])"
   ]
  },
  {
   "cell_type": "code",
   "execution_count": null,
   "metadata": {},
   "outputs": [],
   "source": [
    "best_model.algo"
   ]
  },
  {
   "cell_type": "code",
   "execution_count": null,
   "metadata": {},
   "outputs": [],
   "source": [
    "best_model_param = h2o.get_model(aml.leaderboard[0,'model_id'])"
   ]
  },
  {
   "cell_type": "code",
   "execution_count": null,
   "metadata": {
    "scrolled": true
   },
   "outputs": [],
   "source": [
    "best_model_param.params"
   ]
  },
  {
   "cell_type": "code",
   "execution_count": null,
   "metadata": {},
   "outputs": [],
   "source": [
    "import pandas as pd"
   ]
  },
  {
   "cell_type": "code",
   "execution_count": null,
   "metadata": {},
   "outputs": [],
   "source": [
    "reviews_=pd.read_csv(\"data/Amazon_review.csv\")"
   ]
  },
  {
   "cell_type": "code",
   "execution_count": null,
   "metadata": {},
   "outputs": [],
   "source": [
    "# define the properties missing value variable\n",
    "properties_missing_df = reviews_.isnull().sum(axis=0).reset_index()\n",
    "properties_missing_df.columns = ['column_name', 'missing_count']\n",
    "properties_missing_df = properties_missing_df.ix[properties_missing_df['missing_count']>=0]\n",
    "properties_missing_df = properties_missing_df.sort_values(by='missing_count')\n",
    "\n",
    "# set the size and shape of the grapgh\n",
    "ind = np.arange(properties_missing_df.shape[0])\n",
    "width = 0.9\n",
    "fig, ax = plt.subplots(figsize=(12,18))\n",
    "rects = ax.barh(ind, properties_missing_df.missing_count.values, color='blue')\n",
    "ax.set_yticks(ind)\n",
    "ax.set_yticklabels(properties_missing_df.column_name.values, rotation='horizontal')\n",
    "ax.set_xlabel(\"Count of missing values\")\n",
    "ax.set_title(\"Number of missing values in each column\")\n",
    "\n",
    "# show the graph\n",
    "plt.show()"
   ]
  },
  {
   "cell_type": "code",
   "execution_count": null,
   "metadata": {},
   "outputs": [],
   "source": [
    "import matplotlib.pyplot as plt\n",
    "%matplotlib inline\n",
    "\n",
    "import warnings\n",
    "import matplotlib.cbook\n",
    "warnings.filterwarnings(\"ignore\", category = matplotlib.cbook.mplDeprecation)"
   ]
  },
  {
   "cell_type": "code",
   "execution_count": null,
   "metadata": {},
   "outputs": [],
   "source": [
    "best_model.varimp_plot()"
   ]
  }
 ],
 "metadata": {
  "kernelspec": {
   "display_name": "Python 3",
   "language": "python",
   "name": "python3"
  },
  "language_info": {
   "codemirror_mode": {
    "name": "ipython",
    "version": 3
   },
   "file_extension": ".py",
   "mimetype": "text/x-python",
   "name": "python",
   "nbconvert_exporter": "python",
   "pygments_lexer": "ipython3",
   "version": "3.6.8"
  }
 },
 "nbformat": 4,
 "nbformat_minor": 2
}
