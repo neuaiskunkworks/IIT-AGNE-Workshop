{
 "cells": [
  {
   "cell_type": "markdown",
   "metadata": {},
   "source": [
    "# <center>NEU AI Skunkworks\n",
    "\n",
    "<img src=\"Images/Rikskunk2_Trans.png\" width=\"300\"/>\n",
    "\n",
    "\n",
    "What is NEU AI Skunkworks:\n",
    "\n",
    "Northeastern AI Skunkworks is a group of data enthusiasts who research and explore technology related Artificial Intelligence, Machine Learning primarily for innovation and learning.\n",
    "What we do?\n",
    "\n",
    "Dedicated to: \n",
    "\n",
    "Enlighten & enhance the interests for data enthusiasts by conducting open-mic, mentorship, workshops, seminars, hack-a-thons, and events that assist enthusiasts exploring the cutting edges AI technology.\n",
    "\n",
    "Number we should know about NEU AI Skunkworks, since Feb.2019:\n",
    "\n",
    "    • 380 members, increasing still…\n",
    "    • 7 practical workshops held, get 300+ members involved in. \n",
    "    • 3 projects incubated by AI Skunkworks have been selected in research innovation scholarship entrepreneurship for further rewarding, and 6 projects are being incubated now.\n",
    "\n",
    "Where is our future?\n",
    "\n",
    "    • Strive to be the most solid and strong bridge to connect the campus data enthusiasts and cutting edges AI.\n",
    "    • Incubate innovative projects to solve real problems for world and human.\n",
    "    • Share, contribute all the time.\n",
    "\n",
    "GitHub : https://github.com/skunkworksneu\n",
    "\n",
    "Email ID: skunkworksneu@gmail.com\n",
    "\n",
    "LinkedIn : http://linkedin.com/company/skunkworksneu"
   ]
  },
  {
   "cell_type": "markdown",
   "metadata": {},
   "source": [
    "# Setting up H2O and loading datasets--Prabhu"
   ]
  },
  {
   "cell_type": "markdown",
   "metadata": {},
   "source": [
    "## Predicting Good Amazon Reviews\n",
    "\n",
    "For this demo, we will be using the [Amazon Fine Food Reviews Data](https://www.kaggle.com/snap/amazon-fine-food-reviews).  The Amazon Fine Food Reviews dataset consists of 568,454 food reviews Amazon users left up to October 2012.\n",
    "\n",
    "\n",
    "## Import Data\n",
    "\n",
    "We will begin by importing our review data into our H2O cluster. "
   ]
  },
  {
   "cell_type": "code",
   "execution_count": 5,
   "metadata": {
    "collapsed": true
   },
   "outputs": [],
   "source": [
    "import h2o\n",
    "from h2o.automl import H2OAutoML\n",
    "import random, os, sys\n",
    "from datetime import datetime\n",
    "import pandas as pd\n",
    "import logging\n",
    "import csv\n",
    "import optparse\n",
    "import time\n",
    "import json\n",
    "from distutils.util import strtobool\n",
    "import psutil\n",
    "import numpy as np"
   ]
  },
  {
   "cell_type": "code",
   "execution_count": 6,
   "metadata": {},
   "outputs": [
    {
     "name": "stdout",
     "output_type": "stream",
     "text": [
      "4\n"
     ]
    }
   ],
   "source": [
    "pct_memory=0.5\n",
    "virtual_memory=psutil.virtual_memory()\n",
    "min_mem_size=int(round(int(pct_memory*virtual_memory.available)/1073741824,0))\n",
    "print(min_mem_size)"
   ]
  },
  {
   "cell_type": "markdown",
   "metadata": {},
   "source": [
    "We initialize H2O for our working"
   ]
  },
  {
   "cell_type": "code",
   "execution_count": 7,
   "metadata": {},
   "outputs": [
    {
     "name": "stdout",
     "output_type": "stream",
     "text": [
      "Checking whether there is an H2O instance running at http://localhost:54321. connected.\n"
     ]
    },
    {
     "data": {
      "text/html": [
       "<div style=\"overflow:auto\"><table style=\"width:50%\"><tr><td>H2O cluster uptime:</td>\n",
       "<td>4 mins 07 secs</td></tr>\n",
       "<tr><td>H2O cluster timezone:</td>\n",
       "<td>America/New_York</td></tr>\n",
       "<tr><td>H2O data parsing timezone:</td>\n",
       "<td>UTC</td></tr>\n",
       "<tr><td>H2O cluster version:</td>\n",
       "<td>3.22.1.3</td></tr>\n",
       "<tr><td>H2O cluster version age:</td>\n",
       "<td>1 month and 18 days </td></tr>\n",
       "<tr><td>H2O cluster name:</td>\n",
       "<td>H2O_from_python_bear_ss5vss</td></tr>\n",
       "<tr><td>H2O cluster total nodes:</td>\n",
       "<td>1</td></tr>\n",
       "<tr><td>H2O cluster free memory:</td>\n",
       "<td>3.546 Gb</td></tr>\n",
       "<tr><td>H2O cluster total cores:</td>\n",
       "<td>8</td></tr>\n",
       "<tr><td>H2O cluster allowed cores:</td>\n",
       "<td>8</td></tr>\n",
       "<tr><td>H2O cluster status:</td>\n",
       "<td>locked, healthy</td></tr>\n",
       "<tr><td>H2O connection url:</td>\n",
       "<td>http://localhost:54321</td></tr>\n",
       "<tr><td>H2O connection proxy:</td>\n",
       "<td>None</td></tr>\n",
       "<tr><td>H2O internal security:</td>\n",
       "<td>False</td></tr>\n",
       "<tr><td>H2O API Extensions:</td>\n",
       "<td>XGBoost, Algos, AutoML, Core V3, Core V4</td></tr>\n",
       "<tr><td>Python version:</td>\n",
       "<td>3.6.5 final</td></tr></table></div>"
      ],
      "text/plain": [
       "--------------------------  ----------------------------------------\n",
       "H2O cluster uptime:         4 mins 07 secs\n",
       "H2O cluster timezone:       America/New_York\n",
       "H2O data parsing timezone:  UTC\n",
       "H2O cluster version:        3.22.1.3\n",
       "H2O cluster version age:    1 month and 18 days\n",
       "H2O cluster name:           H2O_from_python_bear_ss5vss\n",
       "H2O cluster total nodes:    1\n",
       "H2O cluster free memory:    3.546 Gb\n",
       "H2O cluster total cores:    8\n",
       "H2O cluster allowed cores:  8\n",
       "H2O cluster status:         locked, healthy\n",
       "H2O connection url:         http://localhost:54321\n",
       "H2O connection proxy:\n",
       "H2O internal security:      False\n",
       "H2O API Extensions:         XGBoost, Algos, AutoML, Core V3, Core V4\n",
       "Python version:             3.6.5 final\n",
       "--------------------------  ----------------------------------------"
      ]
     },
     "metadata": {},
     "output_type": "display_data"
    }
   ],
   "source": [
    "h2o.init(strict_version_check=False,max_mem_size=min_mem_size)"
   ]
  },
  {
   "cell_type": "markdown",
   "metadata": {},
   "source": [
    "We load the data to the H2O local server to start operating with that"
   ]
  },
  {
   "cell_type": "code",
   "execution_count": 8,
   "metadata": {},
   "outputs": [
    {
     "name": "stdout",
     "output_type": "stream",
     "text": [
      "Parse progress: |█████████████████████████████████████████████████████████| 100%\n"
     ]
    }
   ],
   "source": [
    "data_path = \"data/AmazonReviews.Small.csv\"\n",
    "\n",
    "# Load data into H2O\n",
    "reviews = h2o.import_file(data_path)"
   ]
  },
  {
   "cell_type": "markdown",
   "metadata": {},
   "source": [
    "shape gives the row, column specification"
   ]
  },
  {
   "cell_type": "code",
   "execution_count": 9,
   "metadata": {},
   "outputs": [
    {
     "data": {
      "text/plain": [
       "(55554, 10)"
      ]
     },
     "execution_count": 9,
     "metadata": {},
     "output_type": "execute_result"
    }
   ],
   "source": [
    "reviews.shape"
   ]
  },
  {
   "cell_type": "markdown",
   "metadata": {},
   "source": [
    "head by default gives the first 5 rows of the dataset"
   ]
  },
  {
   "cell_type": "code",
   "execution_count": 10,
   "metadata": {},
   "outputs": [
    {
     "data": {
      "text/html": [
       "<table>\n",
       "<thead>\n",
       "<tr><th>ProductId  </th><th>UserId        </th><th>Summary                               </th><th style=\"text-align: right;\">  Score</th><th style=\"text-align: right;\">  HelpfulnessDenominator</th><th style=\"text-align: right;\">    Id</th><th>ProfileName                                     </th><th style=\"text-align: right;\">  HelpfulnessNumerator</th><th style=\"text-align: right;\">       Time</th><th>Text                                                                                                                                                                                                                                                                                                                                                                                                                                                                                                                                                                                                                                                                                                                                                                                                                                                                                                                                                                                                                                                                                                                                                                                                                                                                                                                                                                                                                                                                                                                                                                                                                                                                                                                                                                                                                                                                                                                                                                                                                                                                                                                                                                                                                                                                                                                                                                                                                                                                                                                                                                                                                                                                                                                                                                                                                                                                                                                                                                                                                                                                                                                                                                                                                                                        </th></tr>\n",
       "</thead>\n",
       "<tbody>\n",
       "<tr><td>B00141QYSQ </td><td>A1YS02UZZGRDCT</td><td>Do Not Buy                            </td><td style=\"text-align: right;\">      1</td><td style=\"text-align: right;\">                       2</td><td style=\"text-align: right;\"> 41471</td><td>Evan Eberhardt                                  </td><td style=\"text-align: right;\">                     2</td><td style=\"text-align: right;\">1.34836e+09</td><td>These are made in China (do not buy ANY pet food from China).  Dogswell has been using propylene glycol to soften their treats (what are they thinkng?).  Do not purchase or support this company in any way until they clean up their act.  And for whatever reason Amazon doesn't allow returns of this item, so I had to toss mine out.  Bad business all around on this one.                                                                                                                                                                                                                                                                                                                                                                                                                                                                                                                                                                                                                                                                                                                                                                                                                                                                                                                                                                                                                                                                                                                                                                                                                                                                                                                                                                                                                                                                                                                                                                                                                                                                                                                                                                                                                                                                                                                                                                                                                                                                                                                                                                                                                                                                                                                                                                                                                                                                                                                                                                                                                                                                                                                                                                                                                                                                            </td></tr>\n",
       "<tr><td>B0089SPEO2 </td><td>A3JOYNYL458QHP</td><td>Less lemon and less zing              </td><td style=\"text-align: right;\">      3</td><td style=\"text-align: right;\">                       0</td><td style=\"text-align: right;\"> 28582</td><td>coleridge                                       </td><td style=\"text-align: right;\">                     0</td><td style=\"text-align: right;\">1.32391e+09</td><td>Everything is ok, except it just isn't as good as it is in the bags.  Just considerably more bland -- less lemon and less zing.  Boring.                                                                                                                                                                                                                                                                                                                                                                                                                                                                                                                                                                                                                                                                                                                                                                                                                                                                                                                                                                                                                                                                                                                                                                                                                                                                                                                                                                                                                                                                                                                                                                                                                                                                                                                                                                                                                                                                                                                                                                                                                                                                                                                                                                                                                                                                                                                                                                                                                                                                                                                                                                                                                                                                                                                                                                                                                                                                                                                                                                                                                                                                                                                    </td></tr>\n",
       "<tr><td>B001PMCDK2 </td><td>A14TTMM0Z03Y2W</td><td>my cat goes crazy for these!          </td><td style=\"text-align: right;\">      5</td><td style=\"text-align: right;\">                       0</td><td style=\"text-align: right;\">389965</td><td>Lindsay S. Bradford                             </td><td style=\"text-align: right;\">                     0</td><td style=\"text-align: right;\">1.3106e+09 </td><td>Best cat treat ever. There isn't anything comparable to the love my cat has for these treats, he snubs away any other kind now.<br />I know he likes to manipulate me with his cattiness but these treats are my way of manipulating him to come sit on my lap and have some chill time. :)                                                                                                                                                                                                                                                                                                                                                                                                                                                                                                                                                                                                                                                                                                                                                                                                                                                                                                                                                                                                                                                                                                                                                                                                                                                                                                                                                                                                                                                                                                                                                                                                                                                                                                                                                                                                                                                                                                                                                                                                                                                                                                                                                                                                                                                                                                                                                                                                                                                                                                                                                                                                                                                                                                                                                                                                                                                                                                                                                                 </td></tr>\n",
       "<tr><td>B002Q8JOSI </td><td>A17UQD2RSSQH5X</td><td>My dogs tell me these treats are YUMMY</td><td style=\"text-align: right;\">      5</td><td style=\"text-align: right;\">                       1</td><td style=\"text-align: right;\">212536</td><td>in the dark                                     </td><td style=\"text-align: right;\">                     1</td><td style=\"text-align: right;\">1.31613e+09</td><td>My two Corgis were thoroughly spoiled by my late husband (I spent a year and a half dieting them down a combined total of 25 pounds!)<br /><br />They are accustomed to the finest of fare, and they absolutely love the Wellness brand of treats.                                                                                                                                                                                                                                                                                                                                                                                                                                                                                                                                                                                                                                                                                                                                                                                                                                                                                                                                                                                                                                                                                                                                                                                                                                                                                                                                                                                                                                                                                                                                                                                                                                                                                                                                                                                                                                                                                                                                                                                                                                                                                                                                                                                                                                                                                                                                                                                                                                                                                                                                                                                                                                                                                                                                                                                                                                                                                                                                                                                                          </td></tr>\n",
       "<tr><td>B00176G870 </td><td>A2F2MZW8EOGH5J</td><td>Yummy to the tummy                    </td><td style=\"text-align: right;\">      5</td><td style=\"text-align: right;\">                       0</td><td style=\"text-align: right;\">115971</td><td>daemoncycler \"When you arrive at a fork in th...</td><td style=\"text-align: right;\">                     0</td><td style=\"text-align: right;\">1.33479e+09</td><td>We used to have drive down to the specialty pet food store for this product.  So glad we discovered Amazon.  As far as I can tell it is no more expensive & in some cases less - Prime membership is awesome.  Loving Pets treats are some of the best according to my dog.  They do not develop that nasty smell like some dog treats do.                                                                                                                                                                                                                                                                                                                                                                                                                                                                                                                                                                                                                                                                                                                                                                                                                                                                                                                                                                                                                                                                                                                                                                                                                                                                                                                                                                                                                                                                                                                                                                                                                                                                                                                                                                                                                                                                                                                                                                                                                                                                                                                                                                                                                                                                                                                                                                                                                                                                                                                                                                                                                                                                                                                                                                                                                                                                                                                  </td></tr>\n",
       "<tr><td>B001CHFUGY </td><td>A2M8VROSDPU4JT</td><td>Very good coffee                      </td><td style=\"text-align: right;\">      5</td><td style=\"text-align: right;\">                       1</td><td style=\"text-align: right;\">434484</td><td>Officefan \"Officefankt\"                         </td><td style=\"text-align: right;\">                     1</td><td style=\"text-align: right;\">1.27725e+09</td><td>I really liked this coffee, it was just as good as everyone claimed it was.  Strong, bold and flavorful!  I would recommend!                                                                                                                                                                                                                                                                                                                                                                                                                                                                                                                                                                                                                                                                                                                                                                                                                                                                                                                                                                                                                                                                                                                                                                                                                                                                                                                                                                                                                                                                                                                                                                                                                                                                                                                                                                                                                                                                                                                                                                                                                                                                                                                                                                                                                                                                                                                                                                                                                                                                                                                                                                                                                                                                                                                                                                                                                                                                                                                                                                                                                                                                                                                                </td></tr>\n",
       "<tr><td>B0041CIR62 </td><td>A16I6WJUEBJ1C3</td><td>okay but not as healthy as it appears </td><td style=\"text-align: right;\">      2</td><td style=\"text-align: right;\">                       1</td><td style=\"text-align: right;\">138997</td><td>doctorsirena \"doctorsirena\"                     </td><td style=\"text-align: right;\">                     1</td><td style=\"text-align: right;\">1.34369e+09</td><td>I am always looking for healthier, whole grain versions of foods I enjoy.  Unfortunately, these Peacock brand noodles are yet another food masquerading as healthy.  The product title in big letters on the front says \"Brown Rice Vermicelli\", making the consumer think \"this is made with brown rice, so it should be a healthy choice\".  But the first indication that it is not is when looking at the fiber content on the nutrition facts - only 0.6g per 2oz serving.  Then onto the ingredients list to see why so low... contains brown rice, sago starch and water.  The sago starch comes from palms and must not have much (if any) fiber.<br /><br />The Annie Chun's Maifun Brown Rice Noodles (sold on Amazon and in my local healthy grocer) has become one of my staples and is my frame of reference when comparing to the Peacock brand.  The Annie Chun's product is made with 100% whole grain, with ingredients brown rice flour and water.  Per 2oz serving, it has 4g fiber and pretty much the same calories and other nutrients as the Peacock brand.<br /><br />If you do try this Peacock brand noodles and have not used rice noodles before, you will need to seek guidance elsewhere on preparation.  As others have pointed out, the Peacock package gives almost no directions on how to prepare the product, aside from a brief mention in the recipes (in the header text it does say that they are \"easy-to-cook\" but does not say how).  It also contains a very strange recipe for rice noodles: Aglio Olio style - this is an Italian recipe for noodles with olive oil/garlic/sprinkled with grated cheese that I think would not be very tasty.  The second recipe appears to be for a soup with veggie strips.  Neither recipe gives amounts or much direction.  In comparison, the Annie Chun's package gives clear, specific directions on rice noodle preparation and two recipes.<br /><br />I use rice noodles = maifun = rice sticks = sometimes called vermicelli for making the Vietnamese salad \"bun tofu\", to serve with stir-fried veggies or in lettuce rolls.  They can also be used in spring rolls/egg rolls.  When cooking with thin rice noodles, be careful not to oversoak/overcook/overmix or they tend to disintegrate.  Asian rice noodle vermicelli (maifun) are not the same as Italian vermicelli and are not readily interchangeable.  If making an Italian recipe, the best results would be expected from Italian pasta and not maifun.<br /><br />A few final notes...  Both Peacock and Annie Chun's brown rice noodles are gluten free.  The Peacock is made in Singapore and the Annie Chun's in Thailand.  The Peacock noodles do taste fine (kind of bland), but so do the Annie Chun's.  At this time, they are both approximately the same price.  Peacock come in an plastic bag with some noodle crushage upon shipping; Annie Chun's are perfect upon removal from their cellophane bag in a box.  Overall, I highly recommend the Annie Chun's Maifun as a healthier option over the Peacock brand.  On a related note, the Annie Chun's soba and brown rice pad thai noodles are also excellent.<br /><br />Rating for this product: 2.5 stars rounded down to 2 stars.</td></tr>\n",
       "<tr><td>B001R3BQFW </td><td>AM50E42AFUVNL </td><td>Taste great.                          </td><td style=\"text-align: right;\">      5</td><td style=\"text-align: right;\">                       0</td><td style=\"text-align: right;\">126555</td><td>T. Higley \"Tina\"                                </td><td style=\"text-align: right;\">                     0</td><td style=\"text-align: right;\">1.32356e+09</td><td>I have tried many different drink mix, this is the best tasting by far. It does not have the after taste of the sweetener and I really like it, it is pretty strong, so I use a big water bottle (20 oz) for one tube, it still a little stronger than I like, but it is just my taste.                                                                                                                                                                                                                                                                                                                                                                                                                                                                                                                                                                                                                                                                                                                                                                                                                                                                                                                                                                                                                                                                                                                                                                                                                                                                                                                                                                                                                                                                                                                                                                                                                                                                                                                                                                                                                                                                                                                                                                                                                                                                                                                                                                                                                                                                                                                                                                                                                                                                                                                                                                                                                                                                                                                                                                                                                                                                                                                                                                     </td></tr>\n",
       "<tr><td>B005HGAV8I </td><td>A2I5KDNOESGJ1H</td><td>variety galore                        </td><td style=\"text-align: right;\">      5</td><td style=\"text-align: right;\">                       1</td><td style=\"text-align: right;\">438837</td><td>TJ                                              </td><td style=\"text-align: right;\">                     1</td><td style=\"text-align: right;\">1.33402e+09</td><td>This is my favorite item to order for my Keurig. There are so many flavors, my finicky palate never gets bored!  The only downside is there are probably 5-6 decaf varieties.  I don't drink decaf (I REQUIRE copious amounts of caffeine), so they sit on the shelf...                                                                                                                                                                                                                                                                                                                                                                                                                                                                                                                                                                                                                                                                                                                                                                                                                                                                                                                                                                                                                                                                                                                                                                                                                                                                                                                                                                                                                                                                                                                                                                                                                                                                                                                                                                                                                                                                                                                                                                                                                                                                                                                                                                                                                                                                                                                                                                                                                                                                                                                                                                                                                                                                                                                                                                                                                                                                                                                                                                                     </td></tr>\n",
       "<tr><td>B000GFYRHQ </td><td>A3A7YUR6FS6ZCI</td><td>Bigelow Earl Grey Green Tea           </td><td style=\"text-align: right;\">      5</td><td style=\"text-align: right;\">                       0</td><td style=\"text-align: right;\">245379</td><td>Tea Lover                                       </td><td style=\"text-align: right;\">                     0</td><td style=\"text-align: right;\">1.17841e+09</td><td>Tastes like Earl Grey, but it's green tea so it's healthier.                                                                                                                                                                                                                                                                                                                                                                                                                                                                                                                                                                                                                                                                                                                                                                                                                                                                                                                                                                                                                                                                                                                                                                                                                                                                                                                                                                                                                                                                                                                                                                                                                                                                                                                                                                                                                                                                                                                                                                                                                                                                                                                                                                                                                                                                                                                                                                                                                                                                                                                                                                                                                                                                                                                                                                                                                                                                                                                                                                                                                                                                                                                                                                                                </td></tr>\n",
       "</tbody>\n",
       "</table>"
      ]
     },
     "metadata": {},
     "output_type": "display_data"
    },
    {
     "data": {
      "text/plain": []
     },
     "execution_count": 10,
     "metadata": {},
     "output_type": "execute_result"
    }
   ],
   "source": [
    "reviews.head()"
   ]
  },
  {
   "cell_type": "code",
   "execution_count": 11,
   "metadata": {},
   "outputs": [
    {
     "name": "stdout",
     "output_type": "stream",
     "text": [
      "Rows:55554\n",
      "Cols:10\n",
      "\n",
      "\n"
     ]
    },
    {
     "data": {
      "text/html": [
       "<table>\n",
       "<thead>\n",
       "<tr><th>       </th><th>ProductId  </th><th>UserId        </th><th>Summary                               </th><th>Score             </th><th>HelpfulnessDenominator  </th><th>Id               </th><th>ProfileName                                     </th><th>HelpfulnessNumerator  </th><th>Time              </th><th>Text                                                                                                                                                                                                                                                                                                                                                                                                                                                                                                                                                                                                                                                                                                                                                                                                                                                                                                                                                                                                                                                                                                                                                                                                                                                                                                                                                                                                                                                                                                                                                                                                                                                                                                                                                                                                                                                                                                                                                                                                                                                                                                                                                                                                                                                                                                                                                                                                                                                                                                                                                                                                                                                                                                                                                                                                                                                                                                                                                                                                                                                                                                                                                                                                                                                        </th></tr>\n",
       "</thead>\n",
       "<tbody>\n",
       "<tr><td>type   </td><td>enum       </td><td>enum          </td><td>enum                                  </td><td>int               </td><td>int                     </td><td>int              </td><td>enum                                            </td><td>int                   </td><td>int               </td><td>string                                                                                                                                                                                                                                                                                                                                                                                                                                                                                                                                                                                                                                                                                                                                                                                                                                                                                                                                                                                                                                                                                                                                                                                                                                                                                                                                                                                                                                                                                                                                                                                                                                                                                                                                                                                                                                                                                                                                                                                                                                                                                                                                                                                                                                                                                                                                                                                                                                                                                                                                                                                                                                                                                                                                                                                                                                                                                                                                                                                                                                                                                                                                                                                                                                                      </td></tr>\n",
       "<tr><td>mins   </td><td>           </td><td>              </td><td>                                      </td><td>1.0               </td><td>0.0                     </td><td>3.0              </td><td>                                                </td><td>0.0                   </td><td>944438400.0       </td><td>NaN                                                                                                                                                                                                                                                                                                                                                                                                                                                                                                                                                                                                                                                                                                                                                                                                                                                                                                                                                                                                                                                                                                                                                                                                                                                                                                                                                                                                                                                                                                                                                                                                                                                                                                                                                                                                                                                                                                                                                                                                                                                                                                                                                                                                                                                                                                                                                                                                                                                                                                                                                                                                                                                                                                                                                                                                                                                                                                                                                                                                                                                                                                                                                                                                                                                         </td></tr>\n",
       "<tr><td>mean   </td><td>           </td><td>              </td><td>                                      </td><td>4.185675198905568 </td><td>2.2578032184901184      </td><td>284454.8548979371</td><td>                                                </td><td>1.7664614609209053    </td><td>1296260730.3596506</td><td>NaN                                                                                                                                                                                                                                                                                                                                                                                                                                                                                                                                                                                                                                                                                                                                                                                                                                                                                                                                                                                                                                                                                                                                                                                                                                                                                                                                                                                                                                                                                                                                                                                                                                                                                                                                                                                                                                                                                                                                                                                                                                                                                                                                                                                                                                                                                                                                                                                                                                                                                                                                                                                                                                                                                                                                                                                                                                                                                                                                                                                                                                                                                                                                                                                                                                                         </td></tr>\n",
       "<tr><td>maxs   </td><td>           </td><td>              </td><td>                                      </td><td>5.0               </td><td>878.0                   </td><td>568436.0         </td><td>                                                </td><td>866.0                 </td><td>1351209600.0      </td><td>NaN                                                                                                                                                                                                                                                                                                                                                                                                                                                                                                                                                                                                                                                                                                                                                                                                                                                                                                                                                                                                                                                                                                                                                                                                                                                                                                                                                                                                                                                                                                                                                                                                                                                                                                                                                                                                                                                                                                                                                                                                                                                                                                                                                                                                                                                                                                                                                                                                                                                                                                                                                                                                                                                                                                                                                                                                                                                                                                                                                                                                                                                                                                                                                                                                                                                         </td></tr>\n",
       "<tr><td>sigma  </td><td>           </td><td>              </td><td>                                      </td><td>1.3077531708482195</td><td>9.262838990830508       </td><td>164193.9190660871</td><td>                                                </td><td>8.638742394580309     </td><td>47990174.93641191 </td><td>NaN                                                                                                                                                                                                                                                                                                                                                                                                                                                                                                                                                                                                                                                                                                                                                                                                                                                                                                                                                                                                                                                                                                                                                                                                                                                                                                                                                                                                                                                                                                                                                                                                                                                                                                                                                                                                                                                                                                                                                                                                                                                                                                                                                                                                                                                                                                                                                                                                                                                                                                                                                                                                                                                                                                                                                                                                                                                                                                                                                                                                                                                                                                                                                                                                                                                         </td></tr>\n",
       "<tr><td>zeros  </td><td>           </td><td>              </td><td>                                      </td><td>0                 </td><td>26415                   </td><td>0                </td><td>                                                </td><td>29722                 </td><td>0                 </td><td>0                                                                                                                                                                                                                                                                                                                                                                                                                                                                                                                                                                                                                                                                                                                                                                                                                                                                                                                                                                                                                                                                                                                                                                                                                                                                                                                                                                                                                                                                                                                                                                                                                                                                                                                                                                                                                                                                                                                                                                                                                                                                                                                                                                                                                                                                                                                                                                                                                                                                                                                                                                                                                                                                                                                                                                                                                                                                                                                                                                                                                                                                                                                                                                                                                                                           </td></tr>\n",
       "<tr><td>missing</td><td>0          </td><td>0             </td><td>0                                     </td><td>0                 </td><td>0                       </td><td>0                </td><td>0                                               </td><td>0                     </td><td>0                 </td><td>0                                                                                                                                                                                                                                                                                                                                                                                                                                                                                                                                                                                                                                                                                                                                                                                                                                                                                                                                                                                                                                                                                                                                                                                                                                                                                                                                                                                                                                                                                                                                                                                                                                                                                                                                                                                                                                                                                                                                                                                                                                                                                                                                                                                                                                                                                                                                                                                                                                                                                                                                                                                                                                                                                                                                                                                                                                                                                                                                                                                                                                                                                                                                                                                                                                                           </td></tr>\n",
       "<tr><td>0      </td><td>B00141QYSQ </td><td>A1YS02UZZGRDCT</td><td>Do Not Buy                            </td><td>1.0               </td><td>2.0                     </td><td>41471.0          </td><td>Evan Eberhardt                                  </td><td>2.0                   </td><td>1348358400.0      </td><td>These are made in China (do not buy ANY pet food from China).  Dogswell has been using propylene glycol to soften their treats (what are they thinkng?).  Do not purchase or support this company in any way until they clean up their act.  And for whatever reason Amazon doesn't allow returns of this item, so I had to toss mine out.  Bad business all around on this one.                                                                                                                                                                                                                                                                                                                                                                                                                                                                                                                                                                                                                                                                                                                                                                                                                                                                                                                                                                                                                                                                                                                                                                                                                                                                                                                                                                                                                                                                                                                                                                                                                                                                                                                                                                                                                                                                                                                                                                                                                                                                                                                                                                                                                                                                                                                                                                                                                                                                                                                                                                                                                                                                                                                                                                                                                                                                            </td></tr>\n",
       "<tr><td>1      </td><td>B0089SPEO2 </td><td>A3JOYNYL458QHP</td><td>Less lemon and less zing              </td><td>3.0               </td><td>0.0                     </td><td>28582.0          </td><td>coleridge                                       </td><td>0.0                   </td><td>1323907200.0      </td><td>Everything is ok, except it just isn't as good as it is in the bags.  Just considerably more bland -- less lemon and less zing.  Boring.                                                                                                                                                                                                                                                                                                                                                                                                                                                                                                                                                                                                                                                                                                                                                                                                                                                                                                                                                                                                                                                                                                                                                                                                                                                                                                                                                                                                                                                                                                                                                                                                                                                                                                                                                                                                                                                                                                                                                                                                                                                                                                                                                                                                                                                                                                                                                                                                                                                                                                                                                                                                                                                                                                                                                                                                                                                                                                                                                                                                                                                                                                                    </td></tr>\n",
       "<tr><td>2      </td><td>B001PMCDK2 </td><td>A14TTMM0Z03Y2W</td><td>my cat goes crazy for these!          </td><td>5.0               </td><td>0.0                     </td><td>389965.0         </td><td>Lindsay S. Bradford                             </td><td>0.0                   </td><td>1310601600.0      </td><td>Best cat treat ever. There isn't anything comparable to the love my cat has for these treats, he snubs away any other kind now.<br />I know he likes to manipulate me with his cattiness but these treats are my way of manipulating him to come sit on my lap and have some chill time. :)                                                                                                                                                                                                                                                                                                                                                                                                                                                                                                                                                                                                                                                                                                                                                                                                                                                                                                                                                                                                                                                                                                                                                                                                                                                                                                                                                                                                                                                                                                                                                                                                                                                                                                                                                                                                                                                                                                                                                                                                                                                                                                                                                                                                                                                                                                                                                                                                                                                                                                                                                                                                                                                                                                                                                                                                                                                                                                                                                                 </td></tr>\n",
       "<tr><td>3      </td><td>B002Q8JOSI </td><td>A17UQD2RSSQH5X</td><td>My dogs tell me these treats are YUMMY</td><td>5.0               </td><td>1.0                     </td><td>212536.0         </td><td>in the dark                                     </td><td>1.0                   </td><td>1316131200.0      </td><td>My two Corgis were thoroughly spoiled by my late husband (I spent a year and a half dieting them down a combined total of 25 pounds!)<br /><br />They are accustomed to the finest of fare, and they absolutely love the Wellness brand of treats.                                                                                                                                                                                                                                                                                                                                                                                                                                                                                                                                                                                                                                                                                                                                                                                                                                                                                                                                                                                                                                                                                                                                                                                                                                                                                                                                                                                                                                                                                                                                                                                                                                                                                                                                                                                                                                                                                                                                                                                                                                                                                                                                                                                                                                                                                                                                                                                                                                                                                                                                                                                                                                                                                                                                                                                                                                                                                                                                                                                                          </td></tr>\n",
       "<tr><td>4      </td><td>B00176G870 </td><td>A2F2MZW8EOGH5J</td><td>Yummy to the tummy                    </td><td>5.0               </td><td>0.0                     </td><td>115971.0         </td><td>daemoncycler \"When you arrive at a fork in th...</td><td>0.0                   </td><td>1334793600.0      </td><td>We used to have drive down to the specialty pet food store for this product.  So glad we discovered Amazon.  As far as I can tell it is no more expensive & in some cases less - Prime membership is awesome.  Loving Pets treats are some of the best according to my dog.  They do not develop that nasty smell like some dog treats do.                                                                                                                                                                                                                                                                                                                                                                                                                                                                                                                                                                                                                                                                                                                                                                                                                                                                                                                                                                                                                                                                                                                                                                                                                                                                                                                                                                                                                                                                                                                                                                                                                                                                                                                                                                                                                                                                                                                                                                                                                                                                                                                                                                                                                                                                                                                                                                                                                                                                                                                                                                                                                                                                                                                                                                                                                                                                                                                  </td></tr>\n",
       "<tr><td>5      </td><td>B001CHFUGY </td><td>A2M8VROSDPU4JT</td><td>Very good coffee                      </td><td>5.0               </td><td>1.0                     </td><td>434484.0         </td><td>Officefan \"Officefankt\"                         </td><td>1.0                   </td><td>1277251200.0      </td><td>I really liked this coffee, it was just as good as everyone claimed it was.  Strong, bold and flavorful!  I would recommend!                                                                                                                                                                                                                                                                                                                                                                                                                                                                                                                                                                                                                                                                                                                                                                                                                                                                                                                                                                                                                                                                                                                                                                                                                                                                                                                                                                                                                                                                                                                                                                                                                                                                                                                                                                                                                                                                                                                                                                                                                                                                                                                                                                                                                                                                                                                                                                                                                                                                                                                                                                                                                                                                                                                                                                                                                                                                                                                                                                                                                                                                                                                                </td></tr>\n",
       "<tr><td>6      </td><td>B0041CIR62 </td><td>A16I6WJUEBJ1C3</td><td>okay but not as healthy as it appears </td><td>2.0               </td><td>1.0                     </td><td>138997.0         </td><td>doctorsirena \"doctorsirena\"                     </td><td>1.0                   </td><td>1343692800.0      </td><td>I am always looking for healthier, whole grain versions of foods I enjoy.  Unfortunately, these Peacock brand noodles are yet another food masquerading as healthy.  The product title in big letters on the front says \"Brown Rice Vermicelli\", making the consumer think \"this is made with brown rice, so it should be a healthy choice\".  But the first indication that it is not is when looking at the fiber content on the nutrition facts - only 0.6g per 2oz serving.  Then onto the ingredients list to see why so low... contains brown rice, sago starch and water.  The sago starch comes from palms and must not have much (if any) fiber.<br /><br />The Annie Chun's Maifun Brown Rice Noodles (sold on Amazon and in my local healthy grocer) has become one of my staples and is my frame of reference when comparing to the Peacock brand.  The Annie Chun's product is made with 100% whole grain, with ingredients brown rice flour and water.  Per 2oz serving, it has 4g fiber and pretty much the same calories and other nutrients as the Peacock brand.<br /><br />If you do try this Peacock brand noodles and have not used rice noodles before, you will need to seek guidance elsewhere on preparation.  As others have pointed out, the Peacock package gives almost no directions on how to prepare the product, aside from a brief mention in the recipes (in the header text it does say that they are \"easy-to-cook\" but does not say how).  It also contains a very strange recipe for rice noodles: Aglio Olio style - this is an Italian recipe for noodles with olive oil/garlic/sprinkled with grated cheese that I think would not be very tasty.  The second recipe appears to be for a soup with veggie strips.  Neither recipe gives amounts or much direction.  In comparison, the Annie Chun's package gives clear, specific directions on rice noodle preparation and two recipes.<br /><br />I use rice noodles = maifun = rice sticks = sometimes called vermicelli for making the Vietnamese salad \"bun tofu\", to serve with stir-fried veggies or in lettuce rolls.  They can also be used in spring rolls/egg rolls.  When cooking with thin rice noodles, be careful not to oversoak/overcook/overmix or they tend to disintegrate.  Asian rice noodle vermicelli (maifun) are not the same as Italian vermicelli and are not readily interchangeable.  If making an Italian recipe, the best results would be expected from Italian pasta and not maifun.<br /><br />A few final notes...  Both Peacock and Annie Chun's brown rice noodles are gluten free.  The Peacock is made in Singapore and the Annie Chun's in Thailand.  The Peacock noodles do taste fine (kind of bland), but so do the Annie Chun's.  At this time, they are both approximately the same price.  Peacock come in an plastic bag with some noodle crushage upon shipping; Annie Chun's are perfect upon removal from their cellophane bag in a box.  Overall, I highly recommend the Annie Chun's Maifun as a healthier option over the Peacock brand.  On a related note, the Annie Chun's soba and brown rice pad thai noodles are also excellent.<br /><br />Rating for this product: 2.5 stars rounded down to 2 stars.</td></tr>\n",
       "<tr><td>7      </td><td>B001R3BQFW </td><td>AM50E42AFUVNL </td><td>Taste great.                          </td><td>5.0               </td><td>0.0                     </td><td>126555.0         </td><td>T. Higley \"Tina\"                                </td><td>0.0                   </td><td>1323561600.0      </td><td>I have tried many different drink mix, this is the best tasting by far. It does not have the after taste of the sweetener and I really like it, it is pretty strong, so I use a big water bottle (20 oz) for one tube, it still a little stronger than I like, but it is just my taste.                                                                                                                                                                                                                                                                                                                                                                                                                                                                                                                                                                                                                                                                                                                                                                                                                                                                                                                                                                                                                                                                                                                                                                                                                                                                                                                                                                                                                                                                                                                                                                                                                                                                                                                                                                                                                                                                                                                                                                                                                                                                                                                                                                                                                                                                                                                                                                                                                                                                                                                                                                                                                                                                                                                                                                                                                                                                                                                                                                     </td></tr>\n",
       "<tr><td>8      </td><td>B005HGAV8I </td><td>A2I5KDNOESGJ1H</td><td>variety galore                        </td><td>5.0               </td><td>1.0                     </td><td>438837.0         </td><td>TJ                                              </td><td>1.0                   </td><td>1334016000.0      </td><td>This is my favorite item to order for my Keurig. There are so many flavors, my finicky palate never gets bored!  The only downside is there are probably 5-6 decaf varieties.  I don't drink decaf (I REQUIRE copious amounts of caffeine), so they sit on the shelf...                                                                                                                                                                                                                                                                                                                                                                                                                                                                                                                                                                                                                                                                                                                                                                                                                                                                                                                                                                                                                                                                                                                                                                                                                                                                                                                                                                                                                                                                                                                                                                                                                                                                                                                                                                                                                                                                                                                                                                                                                                                                                                                                                                                                                                                                                                                                                                                                                                                                                                                                                                                                                                                                                                                                                                                                                                                                                                                                                                                     </td></tr>\n",
       "<tr><td>9      </td><td>B000GFYRHQ </td><td>A3A7YUR6FS6ZCI</td><td>Bigelow Earl Grey Green Tea           </td><td>5.0               </td><td>0.0                     </td><td>245379.0         </td><td>Tea Lover                                       </td><td>0.0                   </td><td>1178409600.0      </td><td>Tastes like Earl Grey, but it's green tea so it's healthier.                                                                                                                                                                                                                                                                                                                                                                                                                                                                                                                                                                                                                                                                                                                                                                                                                                                                                                                                                                                                                                                                                                                                                                                                                                                                                                                                                                                                                                                                                                                                                                                                                                                                                                                                                                                                                                                                                                                                                                                                                                                                                                                                                                                                                                                                                                                                                                                                                                                                                                                                                                                                                                                                                                                                                                                                                                                                                                                                                                                                                                                                                                                                                                                                </td></tr>\n",
       "</tbody>\n",
       "</table>"
      ]
     },
     "metadata": {},
     "output_type": "display_data"
    }
   ],
   "source": [
    "reviews.describe()"
   ]
  },
  {
   "cell_type": "markdown",
   "metadata": {},
   "source": [
    "We create a new columns to carry our classification model which is explained in the later stage.\n",
    "\n",
    "The new column getting generated by us is `PositiveReview` which is created on a logic by seperating the rows having the ratings greater or less than the mean = which is 4.2 in out case. We can see this under the `.describe`"
   ]
  },
  {
   "cell_type": "code",
   "execution_count": 12,
   "metadata": {
    "collapsed": true
   },
   "outputs": [],
   "source": [
    "#' Add Target Column: \"PositiveReview\"\n",
    "# Note mean score around 4.2\n",
    "reviews[\"PositiveReview\"] = (reviews[\"Score\"] >= 4.2).ifelse(\"1\", \"0\")"
   ]
  },
  {
   "cell_type": "code",
   "execution_count": 13,
   "metadata": {},
   "outputs": [
    {
     "data": {
      "text/html": [
       "<table>\n",
       "<thead>\n",
       "<tr><th>ProductId  </th><th>UserId        </th><th>Summary                               </th><th style=\"text-align: right;\">  Score</th><th style=\"text-align: right;\">  HelpfulnessDenominator</th><th style=\"text-align: right;\">    Id</th><th>ProfileName                                     </th><th style=\"text-align: right;\">  HelpfulnessNumerator</th><th style=\"text-align: right;\">       Time</th><th>Text                                                                                                                                                                                                                                                                                                                                                                                                                                                                                                                                                                                                                                                                                                                                                                                                                                                                                                                                                                                                                                                                                                                                                                                                                                                                                                                                                                                                                                                                                                                                                                                                                                                                                                                                                                                                                                                                                                                                                                                                                                                                                                                                                                                                                                                                                                                                                                                                                                                                                                                                                                                                                                                                                                                                                                                                                                                                                                                                                                                                                                                                                                                                                                                                                                                        </th><th style=\"text-align: right;\">  PositiveReview</th></tr>\n",
       "</thead>\n",
       "<tbody>\n",
       "<tr><td>B00141QYSQ </td><td>A1YS02UZZGRDCT</td><td>Do Not Buy                            </td><td style=\"text-align: right;\">      1</td><td style=\"text-align: right;\">                       2</td><td style=\"text-align: right;\"> 41471</td><td>Evan Eberhardt                                  </td><td style=\"text-align: right;\">                     2</td><td style=\"text-align: right;\">1.34836e+09</td><td>These are made in China (do not buy ANY pet food from China).  Dogswell has been using propylene glycol to soften their treats (what are they thinkng?).  Do not purchase or support this company in any way until they clean up their act.  And for whatever reason Amazon doesn't allow returns of this item, so I had to toss mine out.  Bad business all around on this one.                                                                                                                                                                                                                                                                                                                                                                                                                                                                                                                                                                                                                                                                                                                                                                                                                                                                                                                                                                                                                                                                                                                                                                                                                                                                                                                                                                                                                                                                                                                                                                                                                                                                                                                                                                                                                                                                                                                                                                                                                                                                                                                                                                                                                                                                                                                                                                                                                                                                                                                                                                                                                                                                                                                                                                                                                                                                            </td><td style=\"text-align: right;\">               0</td></tr>\n",
       "<tr><td>B0089SPEO2 </td><td>A3JOYNYL458QHP</td><td>Less lemon and less zing              </td><td style=\"text-align: right;\">      3</td><td style=\"text-align: right;\">                       0</td><td style=\"text-align: right;\"> 28582</td><td>coleridge                                       </td><td style=\"text-align: right;\">                     0</td><td style=\"text-align: right;\">1.32391e+09</td><td>Everything is ok, except it just isn't as good as it is in the bags.  Just considerably more bland -- less lemon and less zing.  Boring.                                                                                                                                                                                                                                                                                                                                                                                                                                                                                                                                                                                                                                                                                                                                                                                                                                                                                                                                                                                                                                                                                                                                                                                                                                                                                                                                                                                                                                                                                                                                                                                                                                                                                                                                                                                                                                                                                                                                                                                                                                                                                                                                                                                                                                                                                                                                                                                                                                                                                                                                                                                                                                                                                                                                                                                                                                                                                                                                                                                                                                                                                                                    </td><td style=\"text-align: right;\">               0</td></tr>\n",
       "<tr><td>B001PMCDK2 </td><td>A14TTMM0Z03Y2W</td><td>my cat goes crazy for these!          </td><td style=\"text-align: right;\">      5</td><td style=\"text-align: right;\">                       0</td><td style=\"text-align: right;\">389965</td><td>Lindsay S. Bradford                             </td><td style=\"text-align: right;\">                     0</td><td style=\"text-align: right;\">1.3106e+09 </td><td>Best cat treat ever. There isn't anything comparable to the love my cat has for these treats, he snubs away any other kind now.<br />I know he likes to manipulate me with his cattiness but these treats are my way of manipulating him to come sit on my lap and have some chill time. :)                                                                                                                                                                                                                                                                                                                                                                                                                                                                                                                                                                                                                                                                                                                                                                                                                                                                                                                                                                                                                                                                                                                                                                                                                                                                                                                                                                                                                                                                                                                                                                                                                                                                                                                                                                                                                                                                                                                                                                                                                                                                                                                                                                                                                                                                                                                                                                                                                                                                                                                                                                                                                                                                                                                                                                                                                                                                                                                                                                 </td><td style=\"text-align: right;\">               1</td></tr>\n",
       "<tr><td>B002Q8JOSI </td><td>A17UQD2RSSQH5X</td><td>My dogs tell me these treats are YUMMY</td><td style=\"text-align: right;\">      5</td><td style=\"text-align: right;\">                       1</td><td style=\"text-align: right;\">212536</td><td>in the dark                                     </td><td style=\"text-align: right;\">                     1</td><td style=\"text-align: right;\">1.31613e+09</td><td>My two Corgis were thoroughly spoiled by my late husband (I spent a year and a half dieting them down a combined total of 25 pounds!)<br /><br />They are accustomed to the finest of fare, and they absolutely love the Wellness brand of treats.                                                                                                                                                                                                                                                                                                                                                                                                                                                                                                                                                                                                                                                                                                                                                                                                                                                                                                                                                                                                                                                                                                                                                                                                                                                                                                                                                                                                                                                                                                                                                                                                                                                                                                                                                                                                                                                                                                                                                                                                                                                                                                                                                                                                                                                                                                                                                                                                                                                                                                                                                                                                                                                                                                                                                                                                                                                                                                                                                                                                          </td><td style=\"text-align: right;\">               1</td></tr>\n",
       "<tr><td>B00176G870 </td><td>A2F2MZW8EOGH5J</td><td>Yummy to the tummy                    </td><td style=\"text-align: right;\">      5</td><td style=\"text-align: right;\">                       0</td><td style=\"text-align: right;\">115971</td><td>daemoncycler \"When you arrive at a fork in th...</td><td style=\"text-align: right;\">                     0</td><td style=\"text-align: right;\">1.33479e+09</td><td>We used to have drive down to the specialty pet food store for this product.  So glad we discovered Amazon.  As far as I can tell it is no more expensive & in some cases less - Prime membership is awesome.  Loving Pets treats are some of the best according to my dog.  They do not develop that nasty smell like some dog treats do.                                                                                                                                                                                                                                                                                                                                                                                                                                                                                                                                                                                                                                                                                                                                                                                                                                                                                                                                                                                                                                                                                                                                                                                                                                                                                                                                                                                                                                                                                                                                                                                                                                                                                                                                                                                                                                                                                                                                                                                                                                                                                                                                                                                                                                                                                                                                                                                                                                                                                                                                                                                                                                                                                                                                                                                                                                                                                                                  </td><td style=\"text-align: right;\">               1</td></tr>\n",
       "<tr><td>B001CHFUGY </td><td>A2M8VROSDPU4JT</td><td>Very good coffee                      </td><td style=\"text-align: right;\">      5</td><td style=\"text-align: right;\">                       1</td><td style=\"text-align: right;\">434484</td><td>Officefan \"Officefankt\"                         </td><td style=\"text-align: right;\">                     1</td><td style=\"text-align: right;\">1.27725e+09</td><td>I really liked this coffee, it was just as good as everyone claimed it was.  Strong, bold and flavorful!  I would recommend!                                                                                                                                                                                                                                                                                                                                                                                                                                                                                                                                                                                                                                                                                                                                                                                                                                                                                                                                                                                                                                                                                                                                                                                                                                                                                                                                                                                                                                                                                                                                                                                                                                                                                                                                                                                                                                                                                                                                                                                                                                                                                                                                                                                                                                                                                                                                                                                                                                                                                                                                                                                                                                                                                                                                                                                                                                                                                                                                                                                                                                                                                                                                </td><td style=\"text-align: right;\">               1</td></tr>\n",
       "<tr><td>B0041CIR62 </td><td>A16I6WJUEBJ1C3</td><td>okay but not as healthy as it appears </td><td style=\"text-align: right;\">      2</td><td style=\"text-align: right;\">                       1</td><td style=\"text-align: right;\">138997</td><td>doctorsirena \"doctorsirena\"                     </td><td style=\"text-align: right;\">                     1</td><td style=\"text-align: right;\">1.34369e+09</td><td>I am always looking for healthier, whole grain versions of foods I enjoy.  Unfortunately, these Peacock brand noodles are yet another food masquerading as healthy.  The product title in big letters on the front says \"Brown Rice Vermicelli\", making the consumer think \"this is made with brown rice, so it should be a healthy choice\".  But the first indication that it is not is when looking at the fiber content on the nutrition facts - only 0.6g per 2oz serving.  Then onto the ingredients list to see why so low... contains brown rice, sago starch and water.  The sago starch comes from palms and must not have much (if any) fiber.<br /><br />The Annie Chun's Maifun Brown Rice Noodles (sold on Amazon and in my local healthy grocer) has become one of my staples and is my frame of reference when comparing to the Peacock brand.  The Annie Chun's product is made with 100% whole grain, with ingredients brown rice flour and water.  Per 2oz serving, it has 4g fiber and pretty much the same calories and other nutrients as the Peacock brand.<br /><br />If you do try this Peacock brand noodles and have not used rice noodles before, you will need to seek guidance elsewhere on preparation.  As others have pointed out, the Peacock package gives almost no directions on how to prepare the product, aside from a brief mention in the recipes (in the header text it does say that they are \"easy-to-cook\" but does not say how).  It also contains a very strange recipe for rice noodles: Aglio Olio style - this is an Italian recipe for noodles with olive oil/garlic/sprinkled with grated cheese that I think would not be very tasty.  The second recipe appears to be for a soup with veggie strips.  Neither recipe gives amounts or much direction.  In comparison, the Annie Chun's package gives clear, specific directions on rice noodle preparation and two recipes.<br /><br />I use rice noodles = maifun = rice sticks = sometimes called vermicelli for making the Vietnamese salad \"bun tofu\", to serve with stir-fried veggies or in lettuce rolls.  They can also be used in spring rolls/egg rolls.  When cooking with thin rice noodles, be careful not to oversoak/overcook/overmix or they tend to disintegrate.  Asian rice noodle vermicelli (maifun) are not the same as Italian vermicelli and are not readily interchangeable.  If making an Italian recipe, the best results would be expected from Italian pasta and not maifun.<br /><br />A few final notes...  Both Peacock and Annie Chun's brown rice noodles are gluten free.  The Peacock is made in Singapore and the Annie Chun's in Thailand.  The Peacock noodles do taste fine (kind of bland), but so do the Annie Chun's.  At this time, they are both approximately the same price.  Peacock come in an plastic bag with some noodle crushage upon shipping; Annie Chun's are perfect upon removal from their cellophane bag in a box.  Overall, I highly recommend the Annie Chun's Maifun as a healthier option over the Peacock brand.  On a related note, the Annie Chun's soba and brown rice pad thai noodles are also excellent.<br /><br />Rating for this product: 2.5 stars rounded down to 2 stars.</td><td style=\"text-align: right;\">               0</td></tr>\n",
       "<tr><td>B001R3BQFW </td><td>AM50E42AFUVNL </td><td>Taste great.                          </td><td style=\"text-align: right;\">      5</td><td style=\"text-align: right;\">                       0</td><td style=\"text-align: right;\">126555</td><td>T. Higley \"Tina\"                                </td><td style=\"text-align: right;\">                     0</td><td style=\"text-align: right;\">1.32356e+09</td><td>I have tried many different drink mix, this is the best tasting by far. It does not have the after taste of the sweetener and I really like it, it is pretty strong, so I use a big water bottle (20 oz) for one tube, it still a little stronger than I like, but it is just my taste.                                                                                                                                                                                                                                                                                                                                                                                                                                                                                                                                                                                                                                                                                                                                                                                                                                                                                                                                                                                                                                                                                                                                                                                                                                                                                                                                                                                                                                                                                                                                                                                                                                                                                                                                                                                                                                                                                                                                                                                                                                                                                                                                                                                                                                                                                                                                                                                                                                                                                                                                                                                                                                                                                                                                                                                                                                                                                                                                                                     </td><td style=\"text-align: right;\">               1</td></tr>\n",
       "<tr><td>B005HGAV8I </td><td>A2I5KDNOESGJ1H</td><td>variety galore                        </td><td style=\"text-align: right;\">      5</td><td style=\"text-align: right;\">                       1</td><td style=\"text-align: right;\">438837</td><td>TJ                                              </td><td style=\"text-align: right;\">                     1</td><td style=\"text-align: right;\">1.33402e+09</td><td>This is my favorite item to order for my Keurig. There are so many flavors, my finicky palate never gets bored!  The only downside is there are probably 5-6 decaf varieties.  I don't drink decaf (I REQUIRE copious amounts of caffeine), so they sit on the shelf...                                                                                                                                                                                                                                                                                                                                                                                                                                                                                                                                                                                                                                                                                                                                                                                                                                                                                                                                                                                                                                                                                                                                                                                                                                                                                                                                                                                                                                                                                                                                                                                                                                                                                                                                                                                                                                                                                                                                                                                                                                                                                                                                                                                                                                                                                                                                                                                                                                                                                                                                                                                                                                                                                                                                                                                                                                                                                                                                                                                     </td><td style=\"text-align: right;\">               1</td></tr>\n",
       "<tr><td>B000GFYRHQ </td><td>A3A7YUR6FS6ZCI</td><td>Bigelow Earl Grey Green Tea           </td><td style=\"text-align: right;\">      5</td><td style=\"text-align: right;\">                       0</td><td style=\"text-align: right;\">245379</td><td>Tea Lover                                       </td><td style=\"text-align: right;\">                     0</td><td style=\"text-align: right;\">1.17841e+09</td><td>Tastes like Earl Grey, but it's green tea so it's healthier.                                                                                                                                                                                                                                                                                                                                                                                                                                                                                                                                                                                                                                                                                                                                                                                                                                                                                                                                                                                                                                                                                                                                                                                                                                                                                                                                                                                                                                                                                                                                                                                                                                                                                                                                                                                                                                                                                                                                                                                                                                                                                                                                                                                                                                                                                                                                                                                                                                                                                                                                                                                                                                                                                                                                                                                                                                                                                                                                                                                                                                                                                                                                                                                                </td><td style=\"text-align: right;\">               1</td></tr>\n",
       "</tbody>\n",
       "</table>"
      ]
     },
     "metadata": {},
     "output_type": "display_data"
    },
    {
     "data": {
      "text/plain": []
     },
     "execution_count": 13,
     "metadata": {},
     "output_type": "execute_result"
    }
   ],
   "source": [
    "reviews.head()"
   ]
  },
  {
   "cell_type": "code",
   "execution_count": 14,
   "metadata": {},
   "outputs": [
    {
     "data": {
      "text/html": [
       "<table>\n",
       "<thead>\n",
       "<tr><th style=\"text-align: right;\">  PositiveReview</th><th style=\"text-align: right;\">  Count</th></tr>\n",
       "</thead>\n",
       "<tbody>\n",
       "<tr><td style=\"text-align: right;\">               0</td><td style=\"text-align: right;\">  20106</td></tr>\n",
       "<tr><td style=\"text-align: right;\">               1</td><td style=\"text-align: right;\">  35448</td></tr>\n",
       "</tbody>\n",
       "</table>"
      ]
     },
     "metadata": {},
     "output_type": "display_data"
    },
    {
     "data": {
      "text/plain": []
     },
     "execution_count": 14,
     "metadata": {},
     "output_type": "execute_result"
    }
   ],
   "source": [
    "reviews[\"PositiveReview\"].table()"
   ]
  },
  {
   "cell_type": "markdown",
   "metadata": {},
   "source": [
    "# Building regression model"
   ]
  },
  {
   "cell_type": "markdown",
   "metadata": {},
   "source": [
    "## Algorithms(GBM)--Grace"
   ]
  },
  {
   "cell_type": "code",
   "execution_count": 15,
   "metadata": {
    "collapsed": true
   },
   "outputs": [],
   "source": [
    "def get_independent_variables(df, targ):\n",
    "    C = [name for name in df.columns if name != targ]\n",
    "    # determine column types\n",
    "    ints, reals, enums = [], [], []\n",
    "    for key, val in df.types.items():\n",
    "        if key in C:\n",
    "            if val == 'enum':\n",
    "                enums.append(key)\n",
    "            elif val == 'int':\n",
    "                ints.append(key)            \n",
    "            else: \n",
    "                reals.append(key)    \n",
    "    x=ints+enums+reals\n",
    "    return x"
   ]
  },
  {
   "cell_type": "code",
   "execution_count": 16,
   "metadata": {
    "collapsed": true
   },
   "outputs": [],
   "source": [
    "target='Score'\n",
    "y = target"
   ]
  },
  {
   "cell_type": "code",
   "execution_count": 17,
   "metadata": {},
   "outputs": [
    {
     "name": "stdout",
     "output_type": "stream",
     "text": [
      "['HelpfulnessDenominator', 'Id', 'HelpfulnessNumerator', 'Time', 'ProductId', 'UserId', 'Summary', 'ProfileName', 'PositiveReview', 'Text']\n"
     ]
    }
   ],
   "source": [
    "X=get_independent_variables(reviews, target) \n",
    "print(X)"
   ]
  },
  {
   "cell_type": "code",
   "execution_count": 18,
   "metadata": {
    "collapsed": true
   },
   "outputs": [],
   "source": [
    "run_time=500"
   ]
  },
  {
   "cell_type": "code",
   "execution_count": 19,
   "metadata": {},
   "outputs": [
    {
     "data": {
      "text/plain": [
       "(5575, 11)"
      ]
     },
     "execution_count": 19,
     "metadata": {},
     "output_type": "execute_result"
    }
   ],
   "source": [
    "review_train, review_test = reviews.split_frame([0.1])\n",
    "review_train.shape"
   ]
  },
  {
   "cell_type": "code",
   "execution_count": 20,
   "metadata": {
    "collapsed": true
   },
   "outputs": [],
   "source": [
    "# Set up AutoML\n",
    "aml = H2OAutoML(max_runtime_secs=run_time)"
   ]
  },
  {
   "cell_type": "code",
   "execution_count": 21,
   "metadata": {},
   "outputs": [
    {
     "name": "stdout",
     "output_type": "stream",
     "text": [
      "AutoML progress: |████████████████████████████████████████████████████████| 100%\n"
     ]
    }
   ],
   "source": [
    "aml.train(x=X,y=y,training_frame=review_train)"
   ]
  },
  {
   "cell_type": "code",
   "execution_count": 22,
   "metadata": {},
   "outputs": [
    {
     "data": {
      "text/html": [
       "<table>\n",
       "<thead>\n",
       "<tr><th>model_id                                           </th><th style=\"text-align: right;\">  mean_residual_deviance</th><th style=\"text-align: right;\">    rmse</th><th style=\"text-align: right;\">     mse</th><th style=\"text-align: right;\">     mae</th><th style=\"text-align: right;\">   rmsle</th></tr>\n",
       "</thead>\n",
       "<tbody>\n",
       "<tr><td>StackedEnsemble_AllModels_AutoML_20190316_014627   </td><td style=\"text-align: right;\">                0.422273</td><td style=\"text-align: right;\">0.649826</td><td style=\"text-align: right;\">0.422273</td><td style=\"text-align: right;\">0.355163</td><td style=\"text-align: right;\">0.199634</td></tr>\n",
       "<tr><td>StackedEnsemble_BestOfFamily_AutoML_20190316_014627</td><td style=\"text-align: right;\">                0.427416</td><td style=\"text-align: right;\">0.653771</td><td style=\"text-align: right;\">0.427416</td><td style=\"text-align: right;\">0.354096</td><td style=\"text-align: right;\">0.20085 </td></tr>\n",
       "<tr><td>GBM_1_AutoML_20190316_014627                       </td><td style=\"text-align: right;\">                0.430371</td><td style=\"text-align: right;\">0.656027</td><td style=\"text-align: right;\">0.430371</td><td style=\"text-align: right;\">0.353818</td><td style=\"text-align: right;\">0.20179 </td></tr>\n",
       "<tr><td>GBM_5_AutoML_20190316_014627                       </td><td style=\"text-align: right;\">                0.433178</td><td style=\"text-align: right;\">0.658163</td><td style=\"text-align: right;\">0.433178</td><td style=\"text-align: right;\">0.371537</td><td style=\"text-align: right;\">0.202767</td></tr>\n",
       "<tr><td>GBM_2_AutoML_20190316_014627                       </td><td style=\"text-align: right;\">                0.436619</td><td style=\"text-align: right;\">0.660771</td><td style=\"text-align: right;\">0.436619</td><td style=\"text-align: right;\">0.357969</td><td style=\"text-align: right;\">0.203025</td></tr>\n",
       "<tr><td>GBM_3_AutoML_20190316_014627                       </td><td style=\"text-align: right;\">                0.439993</td><td style=\"text-align: right;\">0.66332 </td><td style=\"text-align: right;\">0.439993</td><td style=\"text-align: right;\">0.374597</td><td style=\"text-align: right;\">0.20415 </td></tr>\n",
       "<tr><td>XGBoost_1_AutoML_20190316_014627                   </td><td style=\"text-align: right;\">                0.450477</td><td style=\"text-align: right;\">0.671176</td><td style=\"text-align: right;\">0.450477</td><td style=\"text-align: right;\">0.358079</td><td style=\"text-align: right;\">0.206316</td></tr>\n",
       "<tr><td>GBM_4_AutoML_20190316_014627                       </td><td style=\"text-align: right;\">                0.451152</td><td style=\"text-align: right;\">0.671679</td><td style=\"text-align: right;\">0.451152</td><td style=\"text-align: right;\">0.376072</td><td style=\"text-align: right;\">0.206668</td></tr>\n",
       "<tr><td>XGBoost_2_AutoML_20190316_014627                   </td><td style=\"text-align: right;\">                0.4625  </td><td style=\"text-align: right;\">0.680074</td><td style=\"text-align: right;\">0.4625  </td><td style=\"text-align: right;\">0.370807</td><td style=\"text-align: right;\">0.207574</td></tr>\n",
       "<tr><td>XGBoost_3_AutoML_20190316_014627                   </td><td style=\"text-align: right;\">                0.471715</td><td style=\"text-align: right;\">0.686815</td><td style=\"text-align: right;\">0.471715</td><td style=\"text-align: right;\">0.375948</td><td style=\"text-align: right;\">0.208764</td></tr>\n",
       "</tbody>\n",
       "</table>"
      ]
     },
     "metadata": {},
     "output_type": "display_data"
    },
    {
     "name": "stdout",
     "output_type": "stream",
     "text": [
      "\n"
     ]
    }
   ],
   "source": [
    "print(aml.leaderboard)"
   ]
  },
  {
   "cell_type": "code",
   "execution_count": 23,
   "metadata": {},
   "outputs": [
    {
     "data": {
      "text/plain": [
       "'gbm'"
      ]
     },
     "execution_count": 23,
     "metadata": {},
     "output_type": "execute_result"
    }
   ],
   "source": [
    "model = h2o.get_model(aml.leaderboard[2,'model_id'])\n",
    "model.algo"
   ]
  },
  {
   "cell_type": "markdown",
   "metadata": {},
   "source": [
    "#### Hyperparameter\n",
    "\n",
    "Hyperparameters are parameters that are specified prior to running machine learning algorithms that have a large effect on the predictive power of statistical models."
   ]
  },
  {
   "cell_type": "code",
   "execution_count": 24,
   "metadata": {},
   "outputs": [
    {
     "data": {
      "text/plain": [
       "{'balance_classes': {'actual': False, 'default': False},\n",
       " 'build_tree_one_node': {'actual': False, 'default': False},\n",
       " 'calibrate_model': {'actual': False, 'default': False},\n",
       " 'calibration_frame': {'actual': None, 'default': None},\n",
       " 'categorical_encoding': {'actual': 'AUTO', 'default': 'AUTO'},\n",
       " 'checkpoint': {'actual': None, 'default': None},\n",
       " 'class_sampling_factors': {'actual': None, 'default': None},\n",
       " 'col_sample_rate': {'actual': 0.8, 'default': 1.0},\n",
       " 'col_sample_rate_change_per_level': {'actual': 1.0, 'default': 1.0},\n",
       " 'col_sample_rate_per_tree': {'actual': 0.8, 'default': 1.0},\n",
       " 'custom_metric_func': {'actual': None, 'default': None},\n",
       " 'distribution': {'actual': 'gaussian', 'default': 'AUTO'},\n",
       " 'export_checkpoints_dir': {'actual': None, 'default': None},\n",
       " 'fold_assignment': {'actual': 'Modulo', 'default': 'AUTO'},\n",
       " 'fold_column': {'actual': None, 'default': None},\n",
       " 'histogram_type': {'actual': 'AUTO', 'default': 'AUTO'},\n",
       " 'huber_alpha': {'actual': 0.9, 'default': 0.9},\n",
       " 'ignore_const_cols': {'actual': True, 'default': True},\n",
       " 'ignored_columns': {'actual': [], 'default': None},\n",
       " 'keep_cross_validation_fold_assignment': {'actual': False, 'default': False},\n",
       " 'keep_cross_validation_models': {'actual': False, 'default': True},\n",
       " 'keep_cross_validation_predictions': {'actual': True, 'default': False},\n",
       " 'learn_rate': {'actual': 0.1, 'default': 0.1},\n",
       " 'learn_rate_annealing': {'actual': 1.0, 'default': 1.0},\n",
       " 'max_abs_leafnode_pred': {'actual': 1.7976931348623157e+308,\n",
       "  'default': 1.7976931348623157e+308},\n",
       " 'max_after_balance_size': {'actual': 5.0, 'default': 5.0},\n",
       " 'max_confusion_matrix_size': {'actual': 20, 'default': 20},\n",
       " 'max_depth': {'actual': 15, 'default': 5},\n",
       " 'max_hit_ratio_k': {'actual': 0, 'default': 0},\n",
       " 'max_runtime_secs': {'actual': 0.0, 'default': 0.0},\n",
       " 'min_rows': {'actual': 100.0, 'default': 10.0},\n",
       " 'min_split_improvement': {'actual': 1e-05, 'default': 1e-05},\n",
       " 'model_id': {'actual': {'URL': '/3/Models/GBM_1_AutoML_20190316_014627',\n",
       "   '__meta': {'schema_name': 'ModelKeyV3',\n",
       "    'schema_type': 'Key<Model>',\n",
       "    'schema_version': 3},\n",
       "   'name': 'GBM_1_AutoML_20190316_014627',\n",
       "   'type': 'Key<Model>'},\n",
       "  'default': None},\n",
       " 'monotone_constraints': {'actual': None, 'default': None},\n",
       " 'nbins': {'actual': 20, 'default': 20},\n",
       " 'nbins_cats': {'actual': 1024, 'default': 1024},\n",
       " 'nbins_top_level': {'actual': 1024, 'default': 1024},\n",
       " 'nfolds': {'actual': 5, 'default': 0},\n",
       " 'ntrees': {'actual': 55, 'default': 50},\n",
       " 'offset_column': {'actual': None, 'default': None},\n",
       " 'pred_noise_bandwidth': {'actual': 0.0, 'default': 0.0},\n",
       " 'quantile_alpha': {'actual': 0.5, 'default': 0.5},\n",
       " 'r2_stopping': {'actual': 1.7976931348623157e+308,\n",
       "  'default': 1.7976931348623157e+308},\n",
       " 'response_column': {'actual': {'__meta': {'schema_name': 'ColSpecifierV3',\n",
       "    'schema_type': 'VecSpecifier',\n",
       "    'schema_version': 3},\n",
       "   'column_name': 'Score',\n",
       "   'is_member_of_frames': None},\n",
       "  'default': None},\n",
       " 'sample_rate': {'actual': 0.8, 'default': 1.0},\n",
       " 'sample_rate_per_class': {'actual': None, 'default': None},\n",
       " 'score_each_iteration': {'actual': False, 'default': False},\n",
       " 'score_tree_interval': {'actual': 5, 'default': 0},\n",
       " 'seed': {'actual': 1441471991154303776, 'default': -1},\n",
       " 'stopping_metric': {'actual': 'deviance', 'default': 'AUTO'},\n",
       " 'stopping_rounds': {'actual': 0, 'default': 0},\n",
       " 'stopping_tolerance': {'actual': 0.013392990603648501, 'default': 0.001},\n",
       " 'training_frame': {'actual': {'URL': '/3/Frames/automl_training_py_7_sid_9557',\n",
       "   '__meta': {'schema_name': 'FrameKeyV3',\n",
       "    'schema_type': 'Key<Frame>',\n",
       "    'schema_version': 3},\n",
       "   'name': 'automl_training_py_7_sid_9557',\n",
       "   'type': 'Key<Frame>'},\n",
       "  'default': None},\n",
       " 'tweedie_power': {'actual': 1.5, 'default': 1.5},\n",
       " 'validation_frame': {'actual': None, 'default': None},\n",
       " 'weights_column': {'actual': None, 'default': None}}"
      ]
     },
     "execution_count": 24,
     "metadata": {},
     "output_type": "execute_result"
    }
   ],
   "source": [
    "model.params"
   ]
  },
  {
   "cell_type": "markdown",
   "metadata": {},
   "source": [
    "Hyperparameters are parameters that are specified prior to running machine learning algorithms that have a large effecton the predictive power of statistical models. Hyperparameters are specified for tuning purpose, for examples:\n",
    "\n",
    "    * learningrate - Learning Rate\n",
    "    * n_layers     - Number of layers\n",
    "    * n_neurons    - Number of neurons\n",
    "    * Hidden Layers - Number of layers and size of each layers\n",
    "    \n",
    "    \n",
    "    \n",
    "\n",
    "'ntrees': {'default': 50, <span class=\"mark\">'actual': 33</span>},\n",
    "\n",
    "'max_depth': {'default': 5, <span class=\"mark\">'actual': 4</span>},\n",
    "\n",
    "'learn_rate': {'default': 0.1, <span class=\"mark\">'actual': 0.8</span>}"
   ]
  },
  {
   "cell_type": "markdown",
   "metadata": {},
   "source": [
    "## Model analysis and interpretation--Ziwei"
   ]
  },
  {
   "cell_type": "code",
   "execution_count": 25,
   "metadata": {
    "collapsed": true
   },
   "outputs": [],
   "source": [
    "import matplotlib.pyplot as plt\n",
    "%matplotlib inline\n",
    "\n",
    "import warnings\n",
    "import matplotlib.cbook\n",
    "warnings.filterwarnings(\"ignore\", category = matplotlib.cbook.mplDeprecation)"
   ]
  },
  {
   "cell_type": "code",
   "execution_count": 26,
   "metadata": {},
   "outputs": [
    {
     "data": {
      "image/png": "[encoded data removed]",
      "text/plain": [
       "<Figure size 1008x720 with 1 Axes>"
      ]
     },
     "metadata": {},
     "output_type": "display_data"
    }
   ],
   "source": [
    "model.varimp_plot()"
   ]
  },
  {
   "cell_type": "markdown",
   "metadata": {},
   "source": [
    "## Feature selection--Prabhu"
   ]
  },
  {
   "cell_type": "markdown",
   "metadata": {},
   "source": [
    "Feature Selection is the process where you automatically or manually select those features which contribute most to your prediction variable or output in which you are interested in. Having irrelevant features in your data can decrease the accuracy of the models and make your model learn based on irrelevant features.\n",
    "\n",
    "In machine learning and statistics, feature selection, also known as variable selection, attribute selection or variable subset selection, is the process of selecting a subset of relevant features for use in model construction."
   ]
  },
  {
   "cell_type": "code",
   "execution_count": 27,
   "metadata": {
    "collapsed": true
   },
   "outputs": [],
   "source": [
    "# We convert a AutoML leaderboard into a dataframe\n",
    "aml_leaderboard_df=aml.leaderboard.as_data_frame()"
   ]
  },
  {
   "cell_type": "markdown",
   "metadata": {},
   "source": [
    "We define 2 functions over here to help us further:\n",
    "    \n",
    "* `get_model_by_algo` - used to find the model if present by searching through the leaderboard and fetch the first best out of it\n",
    "\n",
    "* `feature_selection` - used to select the feature above a particular threshold. Which will be explained further."
   ]
  },
  {
   "cell_type": "code",
   "execution_count": 28,
   "metadata": {
    "collapsed": true
   },
   "outputs": [],
   "source": [
    "def get_model_by_algo(algo,models_dict):\n",
    "    mod=None\n",
    "    mod_id=None    \n",
    "    for m in list(models_dict.keys()):\n",
    "        if m[0:3]==algo:\n",
    "            mod_id=m\n",
    "            mod=h2o.get_model(m)\n",
    "            return mod,mod_id\n",
    "    return mod,mod_id \n",
    "\n",
    "def feature_selection(d,l, thresh=0.05):\n",
    "    iv=[]\n",
    "    for key in d.keys():\n",
    "      if d[key]>thresh:\n",
    "        iv.append(key)\n",
    "    for v in iv:\n",
    "        if v not in l:\n",
    "            iv.remove(v)\n",
    "    return iv"
   ]
  },
  {
   "cell_type": "code",
   "execution_count": 29,
   "metadata": {},
   "outputs": [
    {
     "name": "stdout",
     "output_type": "stream",
     "text": [
      "StackedEnsemble_AllModels_AutoML_20190316_014627\n",
      "StackedEnsemble_BestOfFamily_AutoML_20190316_014627\n",
      "GBM_1_AutoML_20190316_014627\n",
      "GBM_5_AutoML_20190316_014627\n",
      "GBM_2_AutoML_20190316_014627\n",
      "GBM_3_AutoML_20190316_014627\n",
      "XGBoost_1_AutoML_20190316_014627\n",
      "GBM_4_AutoML_20190316_014627\n",
      "XGBoost_2_AutoML_20190316_014627\n",
      "XGBoost_3_AutoML_20190316_014627\n",
      "XRT_1_AutoML_20190316_014627\n",
      "DRF_1_AutoML_20190316_014627\n",
      "GLM_grid_1_AutoML_20190316_014627_model_1\n",
      "{'StackedEnsemble_AllModels_AutoML_20190316_014627': None, 'StackedEnsemble_BestOfFamily_AutoML_20190316_014627': None, 'GBM_1_AutoML_20190316_014627': None, 'GBM_5_AutoML_20190316_014627': None, 'GBM_2_AutoML_20190316_014627': None, 'GBM_3_AutoML_20190316_014627': None, 'XGBoost_1_AutoML_20190316_014627': None, 'GBM_4_AutoML_20190316_014627': None, 'XGBoost_2_AutoML_20190316_014627': None, 'XGBoost_3_AutoML_20190316_014627': None, 'XRT_1_AutoML_20190316_014627': None, 'DRF_1_AutoML_20190316_014627': None, 'GLM_grid_1_AutoML_20190316_014627_model_1': None}\n",
      "{'PositiveReview': 1.0, 'Summary': 0.11222657317250828, 'HelpfulnessDenominator': 0.06489543356566126, 'ProductId': 0.054630691997967475, 'Time': 0.048934326834845346, 'ProfileName': 0.0414433717357909, 'UserId': 0.041096825528704306, 'Id': 0.034611777377064425, 'HelpfulnessNumerator': 0.024437084066909077}\n",
      "['HelpfulnessDenominator', 'Id', 'HelpfulnessNumerator', 'Time', 'ProductId', 'UserId', 'Summary', 'ProfileName', 'PositiveReview', 'Text']\n"
     ]
    }
   ],
   "source": [
    "models_dict={}\n",
    "for m in aml_leaderboard_df['model_id']:\n",
    "    print(m)\n",
    "    models_dict[m]=None \n",
    "    \n",
    "    \n",
    "print(models_dict)    \n",
    "    \n",
    "varimp={}    \n",
    "    \n",
    "# To search for the first best DRF model in the leaderboard    \n",
    "mod,mod_id=get_model_by_algo(\"DRF\",models_dict)\n",
    "\n",
    "if mod is not None:\n",
    "    l=mod.varimp()\n",
    "    for v in l:\n",
    "        varimp[v[0]]=v[2]\n",
    "    \n",
    "# To search for the first best XRT model in the leaderboard    \n",
    "mod,mod_id=get_model_by_algo(\"XRT\",models_dict)\n",
    "if mod is not None:    \n",
    "    l=mod.varimp()\n",
    "    for v in l:\n",
    "        if v[0] in varimp:   \n",
    "            varimp[v[0]]=((v[2]+varimp[v[0]])/2)\n",
    "        else:   \n",
    "            varimp[v[0]]=((v[2]+0.0)/3) \n",
    "        \n",
    "# To search for the first best GBM model in the leaderboard    \n",
    "mod,mod_id=get_model_by_algo(\"GBM\",models_dict)\n",
    "if mod is not None:    \n",
    "    l=mod.varimp()\n",
    "    for v in l:\n",
    "        if v[0] in varimp:   \n",
    "            varimp[v[0]]=((v[2]+varimp[v[0]])/2)\n",
    "        else:   \n",
    "            varimp[v[0]]=((v[2]+0.0)/3)         \n",
    "\n",
    "print(varimp)          \n",
    "print(X)\n",
    "X_Orig=X\n",
    "X=feature_selection(varimp,X)\n"
   ]
  },
  {
   "cell_type": "markdown",
   "metadata": {},
   "source": [
    "Below are original and the nest list of features"
   ]
  },
  {
   "cell_type": "code",
   "execution_count": 30,
   "metadata": {},
   "outputs": [
    {
     "name": "stdout",
     "output_type": "stream",
     "text": [
      "['HelpfulnessDenominator', 'Id', 'HelpfulnessNumerator', 'Time', 'ProductId', 'UserId', 'Summary', 'ProfileName', 'PositiveReview', 'Text']\n",
      "10\n",
      "['PositiveReview', 'Summary', 'HelpfulnessDenominator', 'ProductId']\n",
      "4\n"
     ]
    }
   ],
   "source": [
    "print(X_Orig)\n",
    "print(len(X_Orig))\n",
    "print(X)\n",
    "print(len(X))"
   ]
  },
  {
   "cell_type": "markdown",
   "metadata": {},
   "source": [
    "We train the model by just taking the new list of features which is reduced by ignoring few unimportant features based on the standard coefficient"
   ]
  },
  {
   "cell_type": "code",
   "execution_count": 31,
   "metadata": {},
   "outputs": [
    {
     "name": "stdout",
     "output_type": "stream",
     "text": [
      "AutoML progress: |████████████████████████████████████████████████████████| 100%\n"
     ]
    }
   ],
   "source": [
    "aml.train(x=X,y=y,training_frame=review_train)"
   ]
  },
  {
   "cell_type": "code",
   "execution_count": 32,
   "metadata": {},
   "outputs": [
    {
     "data": {
      "text/html": [
       "<table>\n",
       "<thead>\n",
       "<tr><th>model_id                                           </th><th style=\"text-align: right;\">  mean_residual_deviance</th><th style=\"text-align: right;\">    rmse</th><th style=\"text-align: right;\">     mse</th><th style=\"text-align: right;\">     mae</th><th style=\"text-align: right;\">   rmsle</th></tr>\n",
       "</thead>\n",
       "<tbody>\n",
       "<tr><td>StackedEnsemble_AllModels_AutoML_20190316_014627   </td><td style=\"text-align: right;\">                0.422273</td><td style=\"text-align: right;\">0.649826</td><td style=\"text-align: right;\">0.422273</td><td style=\"text-align: right;\">0.355163</td><td style=\"text-align: right;\">0.199634</td></tr>\n",
       "<tr><td>StackedEnsemble_BestOfFamily_AutoML_20190316_014627</td><td style=\"text-align: right;\">                0.427416</td><td style=\"text-align: right;\">0.653771</td><td style=\"text-align: right;\">0.427416</td><td style=\"text-align: right;\">0.354096</td><td style=\"text-align: right;\">0.20085 </td></tr>\n",
       "<tr><td>GBM_1_AutoML_20190316_014627                       </td><td style=\"text-align: right;\">                0.430371</td><td style=\"text-align: right;\">0.656027</td><td style=\"text-align: right;\">0.430371</td><td style=\"text-align: right;\">0.353818</td><td style=\"text-align: right;\">0.20179 </td></tr>\n",
       "<tr><td>GBM_5_AutoML_20190316_014627                       </td><td style=\"text-align: right;\">                0.433178</td><td style=\"text-align: right;\">0.658163</td><td style=\"text-align: right;\">0.433178</td><td style=\"text-align: right;\">0.371537</td><td style=\"text-align: right;\">0.202767</td></tr>\n",
       "<tr><td>GBM_2_AutoML_20190316_014627                       </td><td style=\"text-align: right;\">                0.436619</td><td style=\"text-align: right;\">0.660771</td><td style=\"text-align: right;\">0.436619</td><td style=\"text-align: right;\">0.357969</td><td style=\"text-align: right;\">0.203025</td></tr>\n",
       "<tr><td>GBM_3_AutoML_20190316_014627                       </td><td style=\"text-align: right;\">                0.439993</td><td style=\"text-align: right;\">0.66332 </td><td style=\"text-align: right;\">0.439993</td><td style=\"text-align: right;\">0.374597</td><td style=\"text-align: right;\">0.20415 </td></tr>\n",
       "<tr><td>GBM_1_AutoML_20190316_015451                       </td><td style=\"text-align: right;\">                0.447394</td><td style=\"text-align: right;\">0.668876</td><td style=\"text-align: right;\">0.447394</td><td style=\"text-align: right;\">0.357265</td><td style=\"text-align: right;\">0.206253</td></tr>\n",
       "<tr><td>XGBoost_1_AutoML_20190316_014627                   </td><td style=\"text-align: right;\">                0.450477</td><td style=\"text-align: right;\">0.671176</td><td style=\"text-align: right;\">0.450477</td><td style=\"text-align: right;\">0.358079</td><td style=\"text-align: right;\">0.206316</td></tr>\n",
       "<tr><td>GBM_4_AutoML_20190316_014627                       </td><td style=\"text-align: right;\">                0.451152</td><td style=\"text-align: right;\">0.671679</td><td style=\"text-align: right;\">0.451152</td><td style=\"text-align: right;\">0.376072</td><td style=\"text-align: right;\">0.206668</td></tr>\n",
       "<tr><td>GBM_3_AutoML_20190316_015451                       </td><td style=\"text-align: right;\">                0.453093</td><td style=\"text-align: right;\">0.673121</td><td style=\"text-align: right;\">0.453093</td><td style=\"text-align: right;\">0.36321 </td><td style=\"text-align: right;\">0.207432</td></tr>\n",
       "</tbody>\n",
       "</table>"
      ]
     },
     "metadata": {},
     "output_type": "display_data"
    },
    {
     "name": "stdout",
     "output_type": "stream",
     "text": [
      "\n"
     ]
    }
   ],
   "source": [
    "print(aml.leaderboard)"
   ]
  },
  {
   "cell_type": "markdown",
   "metadata": {},
   "source": [
    "## Summary of feature selection\n",
    "\n",
    "So, as we observe, by removing the unimportant features, doesn't make much of a different, rather NO difference at all to the model. So, this is a win for us, as this can help us use less computing power for our dataset by removing insignificant figuers from the whole bunch of them, and improving our model selection.\n",
    "This is called Feature Selection."
   ]
  },
  {
   "cell_type": "markdown",
   "metadata": {},
   "source": [
    "# Building Classification model"
   ]
  },
  {
   "cell_type": "markdown",
   "metadata": {},
   "source": [
    "## Algorithms(GBM)--Grace"
   ]
  },
  {
   "cell_type": "markdown",
   "metadata": {},
   "source": [
    "We have created categorical column to perform our regression for ease."
   ]
  },
  {
   "cell_type": "code",
   "execution_count": 33,
   "metadata": {
    "collapsed": true
   },
   "outputs": [],
   "source": [
    "# Find the 80th quantile of time in the dataset\n",
    "time_split = reviews[\"Time\"].quantile(prob = [0.8])[1]\n",
    "reviews[\"Train\"] = (reviews[\"Time\"] < time_split).ifelse(\"Yes\", \"No\")"
   ]
  },
  {
   "cell_type": "code",
   "execution_count": 34,
   "metadata": {
    "collapsed": true
   },
   "outputs": [],
   "source": [
    "train = reviews[reviews[\"Train\"] == \"Yes\"]\n",
    "test = reviews[reviews[\"Train\"] == \"No\"]"
   ]
  },
  {
   "cell_type": "code",
   "execution_count": 35,
   "metadata": {},
   "outputs": [
    {
     "name": "stdout",
     "output_type": "stream",
     "text": [
      "gbm Model Build progress: |███████████████████████████████████████████████| 100%\n"
     ]
    }
   ],
   "source": [
    "from h2o.estimators import H2OGradientBoostingEstimator\n",
    "\n",
    "predictors = ['ProductId', 'UserId', 'HelpfulnessNumerator', 'HelpfulnessDenominator', 'Time']\n",
    "response = 'PositiveReview'\n",
    "\n",
    "gbm_baseline = H2OGradientBoostingEstimator(stopping_metric = \"AUC\", stopping_tolerance = 0.001,\n",
    "                                            stopping_rounds = 5, score_tree_interval = 10,\n",
    "                                            model_id = \"gbm_baseline.hex\"\n",
    "                                           )\n",
    "gbm_baseline.train(x = predictors, y = response, \n",
    "                   training_frame = train, validation_frame = test\n",
    "                  )"
   ]
  },
  {
   "cell_type": "code",
   "execution_count": 36,
   "metadata": {},
   "outputs": [
    {
     "name": "stdout",
     "output_type": "stream",
     "text": [
      "AUC on Validation Data: 0.595\n"
     ]
    }
   ],
   "source": [
    "print(\"AUC on Validation Data: \" + str(round(gbm_baseline.auc(valid = True), 3)))"
   ]
  },
  {
   "cell_type": "code",
   "execution_count": 37,
   "metadata": {},
   "outputs": [
    {
     "name": "stdout",
     "output_type": "stream",
     "text": [
      "Confusion Matrix (Act/Pred) for max f1 @ threshold = 0.48181784133938027: \n"
     ]
    },
    {
     "data": {
      "text/html": [
       "<div style=\"overflow:auto\"><table style=\"width:50%\"><tr><td><b></b></td>\n",
       "<td><b>0</b></td>\n",
       "<td><b>1</b></td>\n",
       "<td><b>Error</b></td>\n",
       "<td><b>Rate</b></td></tr>\n",
       "<tr><td>0</td>\n",
       "<td>640.0</td>\n",
       "<td>3572.0</td>\n",
       "<td>0.8481</td>\n",
       "<td> (3572.0/4212.0)</td></tr>\n",
       "<tr><td>1</td>\n",
       "<td>237.0</td>\n",
       "<td>6703.0</td>\n",
       "<td>0.0341</td>\n",
       "<td> (237.0/6940.0)</td></tr>\n",
       "<tr><td>Total</td>\n",
       "<td>877.0</td>\n",
       "<td>10275.0</td>\n",
       "<td>0.3416</td>\n",
       "<td> (3809.0/11152.0)</td></tr></table></div>"
      ],
      "text/plain": [
       "       0    1      Error    Rate\n",
       "-----  ---  -----  -------  ----------------\n",
       "0      640  3572   0.8481   (3572.0/4212.0)\n",
       "1      237  6703   0.0341   (237.0/6940.0)\n",
       "Total  877  10275  0.3416   (3809.0/11152.0)"
      ]
     },
     "metadata": {},
     "output_type": "display_data"
    },
    {
     "data": {
      "text/plain": []
     },
     "execution_count": 37,
     "metadata": {},
     "output_type": "execute_result"
    }
   ],
   "source": [
    "gbm_baseline.confusion_matrix(valid = True)"
   ]
  },
  {
   "cell_type": "markdown",
   "metadata": {},
   "source": [
    "We can see that there is a big room for improvement.  Our error is large.  To improve our model, we will train word embeddings for the review."
   ]
  },
  {
   "cell_type": "markdown",
   "metadata": {
    "collapsed": true
   },
   "source": [
    "## Model analysis and interpretation--Ziwei"
   ]
  },
  {
   "cell_type": "markdown",
   "metadata": {},
   "source": [
    "The variable importance plot below shows us that the most important variable is `HelpfulnessNumerator`.  Looking at the partial dependency plot for that variable, we see that the more people who find the review helpful, the more likely it is a good review."
   ]
  },
  {
   "cell_type": "code",
   "execution_count": 38,
   "metadata": {},
   "outputs": [
    {
     "data": {
      "image/png": "[encoded data removed]",
      "text/plain": [
       "<Figure size 1008x720 with 1 Axes>"
      ]
     },
     "metadata": {},
     "output_type": "display_data"
    }
   ],
   "source": [
    "gbm_baseline.varimp_plot()"
   ]
  },
  {
   "cell_type": "code",
   "execution_count": 39,
   "metadata": {},
   "outputs": [
    {
     "name": "stdout",
     "output_type": "stream",
     "text": [
      "PartialDependencePlot progress: |█████████████████████████████████████████| 100%\n"
     ]
    },
    {
     "data": {
      "image/png": "[encoded data removed]",
      "text/plain": [
       "<Figure size 504x720 with 1 Axes>"
      ]
     },
     "metadata": {},
     "output_type": "display_data"
    }
   ],
   "source": [
    "%matplotlib inline  \n",
    "pdp_helpfulness = gbm_baseline.partial_plot(train, cols = [\"HelpfulnessNumerator\"])"
   ]
  },
  {
   "cell_type": "markdown",
   "metadata": {},
   "source": [
    "## Feature Extraction--Maha"
   ]
  },
  {
   "cell_type": "markdown",
   "metadata": {},
   "source": [
    "### Tokenize Words in Review\n",
    "\n",
    "Our first step will be to tokenize the words in the review column. We will do this by creating a function called `tokenize`.  This will split the reviews into words and remove any stop words, small words, or words with numbers in them."
   ]
  },
  {
   "cell_type": "code",
   "execution_count": 40,
   "metadata": {
    "collapsed": true
   },
   "outputs": [],
   "source": [
    "data_path = \"data/stopwords.csv\"\n",
    "\n",
    "STOP_WORDS = pd.read_csv(data_path, header=0)\n",
    "STOP_WORDS = list(STOP_WORDS['STOP_WORD'])"
   ]
  },
  {
   "cell_type": "code",
   "execution_count": 41,
   "metadata": {
    "collapsed": true
   },
   "outputs": [],
   "source": [
    "def tokenize(sentences, stop_word = STOP_WORDS):\n",
    "    tokenized = sentences.tokenize(\"\\\\W+\")\n",
    "    tokenized_lower = tokenized.tolower()\n",
    "    tokenized_filtered = tokenized_lower[(tokenized_lower.nchar() >= 2) | (tokenized_lower.isna()),:]\n",
    "    tokenized_words = tokenized_filtered[tokenized_filtered.grep(\"[0-9]\",invert=True,output_logical=True),:]\n",
    "    tokenized_words = tokenized_words[(tokenized_words.isna()) | (~ tokenized_words.isin(STOP_WORDS)),:]\n",
    "    return tokenized_words"
   ]
  },
  {
   "cell_type": "code",
   "execution_count": 42,
   "metadata": {
    "collapsed": true
   },
   "outputs": [],
   "source": [
    "# Break reviews into sequence of words\n",
    "words = tokenize(reviews[\"Text\"])"
   ]
  },
  {
   "cell_type": "code",
   "execution_count": 43,
   "metadata": {},
   "outputs": [
    {
     "data": {
      "text/html": [
       "<table>\n",
       "<thead>\n",
       "<tr><th>C1       </th></tr>\n",
       "</thead>\n",
       "<tbody>\n",
       "<tr><td>made     </td></tr>\n",
       "<tr><td>china    </td></tr>\n",
       "<tr><td>buy      </td></tr>\n",
       "<tr><td>pet      </td></tr>\n",
       "<tr><td>food     </td></tr>\n",
       "<tr><td>china    </td></tr>\n",
       "<tr><td>dogswell </td></tr>\n",
       "<tr><td>using    </td></tr>\n",
       "<tr><td>propylene</td></tr>\n",
       "<tr><td>glycol   </td></tr>\n",
       "</tbody>\n",
       "</table>"
      ]
     },
     "metadata": {},
     "output_type": "display_data"
    },
    {
     "data": {
      "text/plain": []
     },
     "execution_count": 43,
     "metadata": {},
     "output_type": "execute_result"
    }
   ],
   "source": [
    "words.head()"
   ]
  },
  {
   "cell_type": "markdown",
   "metadata": {},
   "source": [
    "### Train Word2Vec Model\n",
    "\n",
    "Now that we've tokenized our words, we can train a word2vec model.  We can use the `find_synonms` function to sanity check our word2vec model after training.\n",
    "\n",
    "\n",
    "Word2Vec https://youtu.be/xMwx2A_o5r4 \n"
   ]
  },
  {
   "cell_type": "code",
   "execution_count": 44,
   "metadata": {
    "collapsed": true
   },
   "outputs": [],
   "source": [
    "# Train Word2Vec Model\n",
    "from h2o.estimators.word2vec import H2OWord2vecEstimator\n",
    "\n",
    "\n",
    "w2v_model = H2OWord2vecEstimator(vec_size = 100, model_id = \"w2v.hex\")\n",
    "w2v_model.train(training_frame=words)\n",
    "\n",
    "models_path='data'\n",
    "h2o.save_model(w2v_model, path = models_path, force = True)\n",
    "\n",
    "'''\n",
    "'''\n",
    "# Pre-trained model built with commented out code\n",
    "# w2v_model = h2o.load_model('data/w2v.hex')"
   ]
  },
  {
   "cell_type": "code",
   "execution_count": 45,
   "metadata": {},
   "outputs": [
    {
     "data": {
      "text/plain": [
       "OrderedDict([('coffe', 0.7926084995269775),\n",
       "             ('coffees', 0.7841256856918335),\n",
       "             ('java', 0.765233039855957),\n",
       "             ('starbucks', 0.7604166865348816),\n",
       "             ('espresso', 0.7589645981788635)])"
      ]
     },
     "execution_count": 45,
     "metadata": {},
     "output_type": "execute_result"
    }
   ],
   "source": [
    "# Sanity check - find synonyms for the word 'coffee'\n",
    "w2v_model.find_synonyms(\"coffee\", count = 5)"
   ]
  },
  {
   "cell_type": "code",
   "execution_count": 46,
   "metadata": {},
   "outputs": [
    {
     "data": {
      "text/plain": [
       "OrderedDict([('unedible', 0.656590461730957),\n",
       "             ('rancid', 0.6289927363395691),\n",
       "             ('tastless', 0.6259819269180298),\n",
       "             ('expired', 0.620013952255249),\n",
       "             ('tasteless', 0.6100489497184753)])"
      ]
     },
     "execution_count": 46,
     "metadata": {},
     "output_type": "execute_result"
    }
   ],
   "source": [
    "# Sanity check - find synonyms for the word 'stale'\n",
    "w2v_model.find_synonyms(\"stale\", count = 5)"
   ]
  },
  {
   "cell_type": "markdown",
   "metadata": {},
   "source": [
    "Now that we have a word embedding for each word in our vocabulary, we will aggregate the words for each review using the `transform` function.  This will give us one aggregated word embedding for each review."
   ]
  },
  {
   "cell_type": "code",
   "execution_count": 47,
   "metadata": {
    "collapsed": true
   },
   "outputs": [],
   "source": [
    "# Calculate a vector for each review\n",
    "review_vecs = w2v_model.transform(words, aggregate_method = \"AVERAGE\")"
   ]
  },
  {
   "cell_type": "code",
   "execution_count": 48,
   "metadata": {},
   "outputs": [
    {
     "data": {
      "text/html": [
       "<table>\n",
       "<thead>\n",
       "<tr><th style=\"text-align: right;\">        C1</th><th style=\"text-align: right;\">         C2</th><th style=\"text-align: right;\">        C3</th><th style=\"text-align: right;\">         C4</th><th style=\"text-align: right;\">        C5</th><th style=\"text-align: right;\">        C6</th><th style=\"text-align: right;\">        C7</th><th style=\"text-align: right;\">         C8</th><th style=\"text-align: right;\">        C9</th><th style=\"text-align: right;\">      C10</th><th style=\"text-align: right;\">         C11</th><th style=\"text-align: right;\">      C12</th><th style=\"text-align: right;\">        C13</th><th style=\"text-align: right;\">       C14</th><th style=\"text-align: right;\">       C15</th><th style=\"text-align: right;\">        C16</th><th style=\"text-align: right;\">      C17</th><th style=\"text-align: right;\">       C18</th><th style=\"text-align: right;\">       C19</th><th style=\"text-align: right;\">        C20</th><th style=\"text-align: right;\">        C21</th><th style=\"text-align: right;\">         C22</th><th style=\"text-align: right;\">         C23</th><th style=\"text-align: right;\">        C24</th><th style=\"text-align: right;\">      C25</th><th style=\"text-align: right;\">        C26</th><th style=\"text-align: right;\">       C27</th><th style=\"text-align: right;\">        C28</th><th style=\"text-align: right;\">       C29</th><th style=\"text-align: right;\">       C30</th><th style=\"text-align: right;\">        C31</th><th style=\"text-align: right;\">        C32</th><th style=\"text-align: right;\">       C33</th><th style=\"text-align: right;\">       C34</th><th style=\"text-align: right;\">       C35</th><th style=\"text-align: right;\">       C36</th><th style=\"text-align: right;\">       C37</th><th style=\"text-align: right;\">      C38</th><th style=\"text-align: right;\">        C39</th><th style=\"text-align: right;\">       C40</th><th style=\"text-align: right;\">       C41</th><th style=\"text-align: right;\">       C42</th><th style=\"text-align: right;\">      C43</th><th style=\"text-align: right;\">       C44</th><th style=\"text-align: right;\">       C45</th><th style=\"text-align: right;\">      C46</th><th style=\"text-align: right;\">       C47</th><th style=\"text-align: right;\">        C48</th><th style=\"text-align: right;\">        C49</th><th style=\"text-align: right;\">       C50</th><th style=\"text-align: right;\">      C51</th><th style=\"text-align: right;\">       C52</th><th style=\"text-align: right;\">       C53</th><th style=\"text-align: right;\">       C54</th><th style=\"text-align: right;\">       C55</th><th style=\"text-align: right;\">        C56</th><th style=\"text-align: right;\">       C57</th><th style=\"text-align: right;\">       C58</th><th style=\"text-align: right;\">      C59</th><th style=\"text-align: right;\">       C60</th><th style=\"text-align: right;\">        C61</th><th style=\"text-align: right;\">        C62</th><th style=\"text-align: right;\">      C63</th><th style=\"text-align: right;\">       C64</th><th style=\"text-align: right;\">       C65</th><th style=\"text-align: right;\">       C66</th><th style=\"text-align: right;\">       C67</th><th style=\"text-align: right;\">       C68</th><th style=\"text-align: right;\">        C69</th><th style=\"text-align: right;\">         C70</th><th style=\"text-align: right;\">       C71</th><th style=\"text-align: right;\">       C72</th><th style=\"text-align: right;\">         C73</th><th style=\"text-align: right;\">         C74</th><th style=\"text-align: right;\">        C75</th><th style=\"text-align: right;\">        C76</th><th style=\"text-align: right;\">       C77</th><th style=\"text-align: right;\">        C78</th><th style=\"text-align: right;\">        C79</th><th style=\"text-align: right;\">       C80</th><th style=\"text-align: right;\">       C81</th><th style=\"text-align: right;\">        C82</th><th style=\"text-align: right;\">       C83</th><th style=\"text-align: right;\">        C84</th><th style=\"text-align: right;\">      C85</th><th style=\"text-align: right;\">       C86</th><th style=\"text-align: right;\">       C87</th><th style=\"text-align: right;\">      C88</th><th style=\"text-align: right;\">         C89</th><th style=\"text-align: right;\">        C90</th><th style=\"text-align: right;\">       C91</th><th style=\"text-align: right;\">       C92</th><th style=\"text-align: right;\">       C93</th><th style=\"text-align: right;\">       C94</th><th style=\"text-align: right;\">        C95</th><th style=\"text-align: right;\">        C96</th><th style=\"text-align: right;\">       C97</th><th style=\"text-align: right;\">       C98</th><th style=\"text-align: right;\">       C99</th><th style=\"text-align: right;\">      C100</th></tr>\n",
       "</thead>\n",
       "<tbody>\n",
       "<tr><td style=\"text-align: right;\"> 0.062347 </td><td style=\"text-align: right;\">-0.0588258 </td><td style=\"text-align: right;\">-0.0835967</td><td style=\"text-align: right;\">-0.00559373</td><td style=\"text-align: right;\"> 0.0428912</td><td style=\"text-align: right;\">-0.0267936</td><td style=\"text-align: right;\"> 0.104931 </td><td style=\"text-align: right;\"> 0.00967785</td><td style=\"text-align: right;\">-0.0529858</td><td style=\"text-align: right;\">0.0221866</td><td style=\"text-align: right;\">-0.0290056  </td><td style=\"text-align: right;\">0.227888 </td><td style=\"text-align: right;\"> 0.0922556 </td><td style=\"text-align: right;\">-0.0360627</td><td style=\"text-align: right;\">-0.0384852</td><td style=\"text-align: right;\">-0.0666051 </td><td style=\"text-align: right;\">0.105657 </td><td style=\"text-align: right;\">-0.0100025</td><td style=\"text-align: right;\">-0.160406 </td><td style=\"text-align: right;\">-0.0103023 </td><td style=\"text-align: right;\"> 0.00163029</td><td style=\"text-align: right;\"> 0.131221   </td><td style=\"text-align: right;\"> 0.114855   </td><td style=\"text-align: right;\">-0.0459233 </td><td style=\"text-align: right;\">0.198304 </td><td style=\"text-align: right;\">-0.0337662 </td><td style=\"text-align: right;\"> 0.0374565</td><td style=\"text-align: right;\"> 0.0502606 </td><td style=\"text-align: right;\"> 0.113678 </td><td style=\"text-align: right;\">-0.164801 </td><td style=\"text-align: right;\"> 0.157526  </td><td style=\"text-align: right;\"> 0.097311  </td><td style=\"text-align: right;\"> 0.0691677</td><td style=\"text-align: right;\">-0.0121418</td><td style=\"text-align: right;\">-0.045456 </td><td style=\"text-align: right;\">-0.0459862</td><td style=\"text-align: right;\">-0.132748 </td><td style=\"text-align: right;\">0.0597048</td><td style=\"text-align: right;\">-0.312681  </td><td style=\"text-align: right;\">-0.151295 </td><td style=\"text-align: right;\">-0.0823302</td><td style=\"text-align: right;\">-0.0596924</td><td style=\"text-align: right;\">0.194041 </td><td style=\"text-align: right;\">-0.0844054</td><td style=\"text-align: right;\">-0.154761 </td><td style=\"text-align: right;\">0.0260935</td><td style=\"text-align: right;\">-0.130939 </td><td style=\"text-align: right;\"> 0.0727831 </td><td style=\"text-align: right;\">-0.077613  </td><td style=\"text-align: right;\">-0.0962459</td><td style=\"text-align: right;\">0.12029  </td><td style=\"text-align: right;\"> 0.011807 </td><td style=\"text-align: right;\">-0.0895779</td><td style=\"text-align: right;\"> 0.0793395</td><td style=\"text-align: right;\">-0.311407 </td><td style=\"text-align: right;\"> 0.035423  </td><td style=\"text-align: right;\">-0.11998  </td><td style=\"text-align: right;\">0.25417   </td><td style=\"text-align: right;\">0.173696 </td><td style=\"text-align: right;\">-0.0246004</td><td style=\"text-align: right;\">-0.0366733 </td><td style=\"text-align: right;\"> 0.187235  </td><td style=\"text-align: right;\">0.0389387</td><td style=\"text-align: right;\">-0.198011 </td><td style=\"text-align: right;\"> 0.0147267</td><td style=\"text-align: right;\">-0.0968508</td><td style=\"text-align: right;\"> 0.0283926</td><td style=\"text-align: right;\">-0.0117295</td><td style=\"text-align: right;\"> 0.0154175 </td><td style=\"text-align: right;\">-0.123969   </td><td style=\"text-align: right;\"> 0.0128401</td><td style=\"text-align: right;\"> 0.0147304</td><td style=\"text-align: right;\"> 0.000496513</td><td style=\"text-align: right;\"> 0.0299696  </td><td style=\"text-align: right;\"> 0.103827  </td><td style=\"text-align: right;\"> 0.062661  </td><td style=\"text-align: right;\">-0.0745495</td><td style=\"text-align: right;\"> 0.0750781 </td><td style=\"text-align: right;\">-0.0752526 </td><td style=\"text-align: right;\">-0.115472 </td><td style=\"text-align: right;\">-0.0763027</td><td style=\"text-align: right;\"> 0.0558412 </td><td style=\"text-align: right;\"> 0.0974219</td><td style=\"text-align: right;\"> 0.00763419</td><td style=\"text-align: right;\">0.184565 </td><td style=\"text-align: right;\">-0.0102613</td><td style=\"text-align: right;\"> 0.108633 </td><td style=\"text-align: right;\">0.0474608</td><td style=\"text-align: right;\"> 0.0371521  </td><td style=\"text-align: right;\"> 0.0667414 </td><td style=\"text-align: right;\"> 0.0984622</td><td style=\"text-align: right;\"> 0.106706 </td><td style=\"text-align: right;\">-0.0185399</td><td style=\"text-align: right;\">-0.0634558</td><td style=\"text-align: right;\"> 0.130598  </td><td style=\"text-align: right;\"> 0.080479  </td><td style=\"text-align: right;\"> 0.0179517</td><td style=\"text-align: right;\">-0.217013 </td><td style=\"text-align: right;\">0.237813  </td><td style=\"text-align: right;\">-0.0111079</td></tr>\n",
       "<tr><td style=\"text-align: right;\">-0.0291201</td><td style=\"text-align: right;\"> 0.03508   </td><td style=\"text-align: right;\"> 0.0743475</td><td style=\"text-align: right;\"> 0.0975453 </td><td style=\"text-align: right;\">-0.156627 </td><td style=\"text-align: right;\">-0.0729098</td><td style=\"text-align: right;\">-0.0684344</td><td style=\"text-align: right;\">-0.064415  </td><td style=\"text-align: right;\"> 0.0300497</td><td style=\"text-align: right;\">0.101563 </td><td style=\"text-align: right;\"> 0.0235929  </td><td style=\"text-align: right;\">0.191391 </td><td style=\"text-align: right;\"> 0.0924027 </td><td style=\"text-align: right;\"> 0.127659 </td><td style=\"text-align: right;\">-0.0637069</td><td style=\"text-align: right;\">-0.0498886 </td><td style=\"text-align: right;\">0.260305 </td><td style=\"text-align: right;\"> 0.0562298</td><td style=\"text-align: right;\">-0.0842424</td><td style=\"text-align: right;\">-0.0996491 </td><td style=\"text-align: right;\">-0.0710535 </td><td style=\"text-align: right;\"> 0.100052   </td><td style=\"text-align: right;\">-0.232848   </td><td style=\"text-align: right;\"> 0.0694554 </td><td style=\"text-align: right;\">0.117242 </td><td style=\"text-align: right;\">-0.172564  </td><td style=\"text-align: right;\"> 0.0272743</td><td style=\"text-align: right;\"> 0.102175  </td><td style=\"text-align: right;\"> 0.0944083</td><td style=\"text-align: right;\">-0.188306 </td><td style=\"text-align: right;\"> 0.133227  </td><td style=\"text-align: right;\">-0.0652834 </td><td style=\"text-align: right;\"> 0.0345311</td><td style=\"text-align: right;\">-0.069944 </td><td style=\"text-align: right;\">-0.0755667</td><td style=\"text-align: right;\"> 0.128042 </td><td style=\"text-align: right;\">-0.166085 </td><td style=\"text-align: right;\">0.17398  </td><td style=\"text-align: right;\"> 0.00921495</td><td style=\"text-align: right;\">-0.126404 </td><td style=\"text-align: right;\">-0.155631 </td><td style=\"text-align: right;\"> 0.130049 </td><td style=\"text-align: right;\">0.0219046</td><td style=\"text-align: right;\">-0.0941863</td><td style=\"text-align: right;\">-0.0948931</td><td style=\"text-align: right;\">0.0626827</td><td style=\"text-align: right;\">-0.246493 </td><td style=\"text-align: right;\"> 0.151052  </td><td style=\"text-align: right;\"> 0.00136315</td><td style=\"text-align: right;\">-0.238074 </td><td style=\"text-align: right;\">0.13723  </td><td style=\"text-align: right;\"> 0.0560593</td><td style=\"text-align: right;\">-0.182075 </td><td style=\"text-align: right;\"> 0.135135 </td><td style=\"text-align: right;\">-0.106698 </td><td style=\"text-align: right;\"> 0.0176883 </td><td style=\"text-align: right;\"> 0.029718 </td><td style=\"text-align: right;\">0.00498645</td><td style=\"text-align: right;\">0.0937753</td><td style=\"text-align: right;\">-0.0307687</td><td style=\"text-align: right;\"> 0.0249517 </td><td style=\"text-align: right;\"> 0.0538717 </td><td style=\"text-align: right;\">0.0894675</td><td style=\"text-align: right;\">-0.0577808</td><td style=\"text-align: right;\">-0.0961138</td><td style=\"text-align: right;\">-0.104694 </td><td style=\"text-align: right;\"> 0.05885  </td><td style=\"text-align: right;\">-0.0800442</td><td style=\"text-align: right;\"> 0.143277  </td><td style=\"text-align: right;\">-0.00171285 </td><td style=\"text-align: right;\">-0.0111464</td><td style=\"text-align: right;\"> 0.0510947</td><td style=\"text-align: right;\">-0.0942846  </td><td style=\"text-align: right;\">-0.027282   </td><td style=\"text-align: right;\"> 0.161175  </td><td style=\"text-align: right;\"> 0.0322681 </td><td style=\"text-align: right;\">-0.111653 </td><td style=\"text-align: right;\"> 0.00676722</td><td style=\"text-align: right;\"> 0.0507423 </td><td style=\"text-align: right;\"> 0.0794982</td><td style=\"text-align: right;\">-0.0614712</td><td style=\"text-align: right;\"> 0.0520543 </td><td style=\"text-align: right;\">-0.076837 </td><td style=\"text-align: right;\"> 0.111434  </td><td style=\"text-align: right;\">0.148585 </td><td style=\"text-align: right;\">-0.0579389</td><td style=\"text-align: right;\">-0.133021 </td><td style=\"text-align: right;\">0.169889 </td><td style=\"text-align: right;\">-0.0127883  </td><td style=\"text-align: right;\"> 0.120348  </td><td style=\"text-align: right;\">-0.144453 </td><td style=\"text-align: right;\">-0.0184458</td><td style=\"text-align: right;\"> 0.0855538</td><td style=\"text-align: right;\">-0.0944833</td><td style=\"text-align: right;\"> 0.172324  </td><td style=\"text-align: right;\">-0.0477156 </td><td style=\"text-align: right;\">-0.0315344</td><td style=\"text-align: right;\">-0.0947723</td><td style=\"text-align: right;\">0.132675  </td><td style=\"text-align: right;\"> 0.183698 </td></tr>\n",
       "<tr><td style=\"text-align: right;\"> 0.20158  </td><td style=\"text-align: right;\"> 0.0757392 </td><td style=\"text-align: right;\">-0.1075   </td><td style=\"text-align: right;\"> 0.0274616 </td><td style=\"text-align: right;\">-0.0602973</td><td style=\"text-align: right;\">-0.0983174</td><td style=\"text-align: right;\">-0.103327 </td><td style=\"text-align: right;\">-0.0406128 </td><td style=\"text-align: right;\">-0.0720542</td><td style=\"text-align: right;\">0.140224 </td><td style=\"text-align: right;\">-0.0760421  </td><td style=\"text-align: right;\">0.0646709</td><td style=\"text-align: right;\"> 0.0333022 </td><td style=\"text-align: right;\"> 0.103238 </td><td style=\"text-align: right;\">-0.047884 </td><td style=\"text-align: right;\">-0.0560934 </td><td style=\"text-align: right;\">0.134182 </td><td style=\"text-align: right;\">-0.0841167</td><td style=\"text-align: right;\">-0.243051 </td><td style=\"text-align: right;\">-0.00598843</td><td style=\"text-align: right;\"> 0.0672796 </td><td style=\"text-align: right;\"> 0.0781987  </td><td style=\"text-align: right;\"> 0.000123294</td><td style=\"text-align: right;\"> 0.00846471</td><td style=\"text-align: right;\">0.289807 </td><td style=\"text-align: right;\">-0.0735025 </td><td style=\"text-align: right;\"> 0.0777899</td><td style=\"text-align: right;\">-0.0640771 </td><td style=\"text-align: right;\"> 0.0138925</td><td style=\"text-align: right;\">-0.114167 </td><td style=\"text-align: right;\">-0.00873751</td><td style=\"text-align: right;\"> 0.0112622 </td><td style=\"text-align: right;\"> 0.0783861</td><td style=\"text-align: right;\">-0.0140924</td><td style=\"text-align: right;\">-0.118953 </td><td style=\"text-align: right;\"> 0.0207363</td><td style=\"text-align: right;\">-0.168171 </td><td style=\"text-align: right;\">0.166451 </td><td style=\"text-align: right;\">-0.10894   </td><td style=\"text-align: right;\">-0.0989548</td><td style=\"text-align: right;\">-0.0343468</td><td style=\"text-align: right;\">-0.0498982</td><td style=\"text-align: right;\">0.171022 </td><td style=\"text-align: right;\">-0.0473003</td><td style=\"text-align: right;\">-0.201851 </td><td style=\"text-align: right;\">0.0679345</td><td style=\"text-align: right;\">-0.11753  </td><td style=\"text-align: right;\"> 0.21084   </td><td style=\"text-align: right;\">-0.112225  </td><td style=\"text-align: right;\">-0.134878 </td><td style=\"text-align: right;\">0.168106 </td><td style=\"text-align: right;\"> 0.106973 </td><td style=\"text-align: right;\">-0.172291 </td><td style=\"text-align: right;\"> 0.0799008</td><td style=\"text-align: right;\">-0.18875  </td><td style=\"text-align: right;\"> 0.111581  </td><td style=\"text-align: right;\">-0.196475 </td><td style=\"text-align: right;\">0.0500731 </td><td style=\"text-align: right;\">0.146754 </td><td style=\"text-align: right;\">-0.0266385</td><td style=\"text-align: right;\"> 0.0141109 </td><td style=\"text-align: right;\"> 0.0727238 </td><td style=\"text-align: right;\">0.111566 </td><td style=\"text-align: right;\">-0.0547416</td><td style=\"text-align: right;\">-0.133026 </td><td style=\"text-align: right;\">-0.158616 </td><td style=\"text-align: right;\">-0.0329496</td><td style=\"text-align: right;\">-0.0735852</td><td style=\"text-align: right;\"> 0.0586285 </td><td style=\"text-align: right;\">-0.131054   </td><td style=\"text-align: right;\">-0.0453415</td><td style=\"text-align: right;\">-0.0569075</td><td style=\"text-align: right;\"> 0.106008   </td><td style=\"text-align: right;\"> 0.0174936  </td><td style=\"text-align: right;\"> 0.0814462 </td><td style=\"text-align: right;\">-0.00919243</td><td style=\"text-align: right;\">-0.0944906</td><td style=\"text-align: right;\">-0.0454448 </td><td style=\"text-align: right;\">-0.0433555 </td><td style=\"text-align: right;\">-0.0108229</td><td style=\"text-align: right;\">-0.187281 </td><td style=\"text-align: right;\"> 0.0240431 </td><td style=\"text-align: right;\">-0.0381509</td><td style=\"text-align: right;\"> 0.0116868 </td><td style=\"text-align: right;\">0.0725238</td><td style=\"text-align: right;\">-0.0629517</td><td style=\"text-align: right;\"> 0.182982 </td><td style=\"text-align: right;\">0.0428117</td><td style=\"text-align: right;\"> 0.0249535  </td><td style=\"text-align: right;\">-0.0316951 </td><td style=\"text-align: right;\"> 0.0353554</td><td style=\"text-align: right;\"> 0.0507892</td><td style=\"text-align: right;\"> 0.0149563</td><td style=\"text-align: right;\">-0.0553076</td><td style=\"text-align: right;\"> 0.0404572 </td><td style=\"text-align: right;\"> 0.0863875 </td><td style=\"text-align: right;\">-0.012817 </td><td style=\"text-align: right;\">-0.156136 </td><td style=\"text-align: right;\">0.128299  </td><td style=\"text-align: right;\"> 0.093169 </td></tr>\n",
       "<tr><td style=\"text-align: right;\"> 0.15494  </td><td style=\"text-align: right;\">-0.058325  </td><td style=\"text-align: right;\">-0.0505579</td><td style=\"text-align: right;\">-0.0127078 </td><td style=\"text-align: right;\">-0.020053 </td><td style=\"text-align: right;\">-0.0544669</td><td style=\"text-align: right;\"> 0.102969 </td><td style=\"text-align: right;\"> 0.0446047 </td><td style=\"text-align: right;\">-0.0656972</td><td style=\"text-align: right;\">0.165941 </td><td style=\"text-align: right;\">-0.0870836  </td><td style=\"text-align: right;\">0.0595144</td><td style=\"text-align: right;\"> 0.0049028 </td><td style=\"text-align: right;\"> 0.0384678</td><td style=\"text-align: right;\"> 0.0323977</td><td style=\"text-align: right;\">-0.0509703 </td><td style=\"text-align: right;\">0.214737 </td><td style=\"text-align: right;\"> 0.13022  </td><td style=\"text-align: right;\">-0.219269 </td><td style=\"text-align: right;\"> 0.0312443 </td><td style=\"text-align: right;\"> 0.0577133 </td><td style=\"text-align: right;\">-0.0506474  </td><td style=\"text-align: right;\"> 0.00608543 </td><td style=\"text-align: right;\"> 0.0537934 </td><td style=\"text-align: right;\">0.221017 </td><td style=\"text-align: right;\">-0.0737898 </td><td style=\"text-align: right;\">-0.0305086</td><td style=\"text-align: right;\"> 0.00464593</td><td style=\"text-align: right;\">-0.0390277</td><td style=\"text-align: right;\">-0.0808416</td><td style=\"text-align: right;\"> 0.0560095 </td><td style=\"text-align: right;\"> 0.00605736</td><td style=\"text-align: right;\"> 0.0590364</td><td style=\"text-align: right;\">-0.0598305</td><td style=\"text-align: right;\">-0.195192 </td><td style=\"text-align: right;\">-0.0476939</td><td style=\"text-align: right;\">-0.192066 </td><td style=\"text-align: right;\">0.157251 </td><td style=\"text-align: right;\">-0.109833  </td><td style=\"text-align: right;\">-0.125871 </td><td style=\"text-align: right;\">-0.22468  </td><td style=\"text-align: right;\">-0.0560023</td><td style=\"text-align: right;\">0.081846 </td><td style=\"text-align: right;\">-0.0587174</td><td style=\"text-align: right;\">-0.180034 </td><td style=\"text-align: right;\">0.0689271</td><td style=\"text-align: right;\">-0.153752 </td><td style=\"text-align: right;\"> 0.0900661 </td><td style=\"text-align: right;\">-0.00811271</td><td style=\"text-align: right;\">-0.113594 </td><td style=\"text-align: right;\">0.24367  </td><td style=\"text-align: right;\"> 0.0768665</td><td style=\"text-align: right;\">-0.130382 </td><td style=\"text-align: right;\"> 0.0990646</td><td style=\"text-align: right;\">-0.142108 </td><td style=\"text-align: right;\">-0.0343476 </td><td style=\"text-align: right;\">-0.0743844</td><td style=\"text-align: right;\">0.0266128 </td><td style=\"text-align: right;\">0.12002  </td><td style=\"text-align: right;\">-0.0570589</td><td style=\"text-align: right;\">-0.0108644 </td><td style=\"text-align: right;\"> 0.0275819 </td><td style=\"text-align: right;\">0.12706  </td><td style=\"text-align: right;\">-0.0675118</td><td style=\"text-align: right;\">-0.105956 </td><td style=\"text-align: right;\">-0.140861 </td><td style=\"text-align: right;\">-0.0264228</td><td style=\"text-align: right;\">-0.0583719</td><td style=\"text-align: right;\"> 0.08899   </td><td style=\"text-align: right;\">-0.0895879  </td><td style=\"text-align: right;\"> 0.0193247</td><td style=\"text-align: right;\">-0.111481 </td><td style=\"text-align: right;\"> 0.0717807  </td><td style=\"text-align: right;\">-0.0465211  </td><td style=\"text-align: right;\"> 0.0337943 </td><td style=\"text-align: right;\">-0.0365296 </td><td style=\"text-align: right;\">-0.0216645</td><td style=\"text-align: right;\">-0.068214  </td><td style=\"text-align: right;\"> 0.0155084 </td><td style=\"text-align: right;\">-0.0321095</td><td style=\"text-align: right;\">-0.0766669</td><td style=\"text-align: right;\"> 0.055234  </td><td style=\"text-align: right;\">-0.0762007</td><td style=\"text-align: right;\"> 0.0358873 </td><td style=\"text-align: right;\">0.118656 </td><td style=\"text-align: right;\">-0.113209 </td><td style=\"text-align: right;\"> 0.059934 </td><td style=\"text-align: right;\">0.103235 </td><td style=\"text-align: right;\">-0.157873   </td><td style=\"text-align: right;\">-0.00377078</td><td style=\"text-align: right;\"> 0.128692 </td><td style=\"text-align: right;\">-0.0502832</td><td style=\"text-align: right;\"> 0.138044 </td><td style=\"text-align: right;\">-0.0165158</td><td style=\"text-align: right;\"> 0.0362249 </td><td style=\"text-align: right;\"> 0.00806364</td><td style=\"text-align: right;\">-0.0563019</td><td style=\"text-align: right;\">-0.136704 </td><td style=\"text-align: right;\">0.221837  </td><td style=\"text-align: right;\"> 0.127376 </td></tr>\n",
       "<tr><td style=\"text-align: right;\"> 0.158308 </td><td style=\"text-align: right;\">-0.0107493 </td><td style=\"text-align: right;\">-0.110904 </td><td style=\"text-align: right;\"> 0.0207661 </td><td style=\"text-align: right;\"> 0.0538527</td><td style=\"text-align: right;\">-0.149784 </td><td style=\"text-align: right;\"> 0.0387074</td><td style=\"text-align: right;\"> 0.00194969</td><td style=\"text-align: right;\">-0.105162 </td><td style=\"text-align: right;\">0.0976886</td><td style=\"text-align: right;\">-0.0649236  </td><td style=\"text-align: right;\">0.0267475</td><td style=\"text-align: right;\"> 0.0925698 </td><td style=\"text-align: right;\"> 0.0575353</td><td style=\"text-align: right;\">-0.0424917</td><td style=\"text-align: right;\">-0.0139687 </td><td style=\"text-align: right;\">0.0669883</td><td style=\"text-align: right;\"> 0.043746 </td><td style=\"text-align: right;\">-0.174421 </td><td style=\"text-align: right;\">-0.0677456 </td><td style=\"text-align: right;\"> 0.0418959 </td><td style=\"text-align: right;\"> 0.0958745  </td><td style=\"text-align: right;\"> 0.0285327  </td><td style=\"text-align: right;\"> 0.0374235 </td><td style=\"text-align: right;\">0.212985 </td><td style=\"text-align: right;\">-0.0897648 </td><td style=\"text-align: right;\">-0.0266437</td><td style=\"text-align: right;\"> 0.0774869 </td><td style=\"text-align: right;\"> 0.113324 </td><td style=\"text-align: right;\">-0.0944087</td><td style=\"text-align: right;\"> 0.0356987 </td><td style=\"text-align: right;\"> 0.159456  </td><td style=\"text-align: right;\"> 0.0773209</td><td style=\"text-align: right;\">-0.0592298</td><td style=\"text-align: right;\">-0.11911  </td><td style=\"text-align: right;\"> 0.0274126</td><td style=\"text-align: right;\">-0.106049 </td><td style=\"text-align: right;\">0.214336 </td><td style=\"text-align: right;\">-0.17145   </td><td style=\"text-align: right;\">-0.203894 </td><td style=\"text-align: right;\">-0.0633621</td><td style=\"text-align: right;\">-0.0114167</td><td style=\"text-align: right;\">0.146742 </td><td style=\"text-align: right;\">-0.106876 </td><td style=\"text-align: right;\">-0.0977722</td><td style=\"text-align: right;\">0.112802 </td><td style=\"text-align: right;\">-0.165953 </td><td style=\"text-align: right;\"> 0.115705  </td><td style=\"text-align: right;\">-0.0367146 </td><td style=\"text-align: right;\">-0.11624  </td><td style=\"text-align: right;\">0.226427 </td><td style=\"text-align: right;\">-0.0393075</td><td style=\"text-align: right;\">-0.113099 </td><td style=\"text-align: right;\"> 0.131753 </td><td style=\"text-align: right;\">-0.194822 </td><td style=\"text-align: right;\">-0.00870811</td><td style=\"text-align: right;\">-0.166295 </td><td style=\"text-align: right;\">0.117248  </td><td style=\"text-align: right;\">0.164103 </td><td style=\"text-align: right;\">-0.0906711</td><td style=\"text-align: right;\">-0.096768  </td><td style=\"text-align: right;\"> 0.152977  </td><td style=\"text-align: right;\">0.10636  </td><td style=\"text-align: right;\">-0.101306 </td><td style=\"text-align: right;\">-0.0551189</td><td style=\"text-align: right;\">-0.0490238</td><td style=\"text-align: right;\"> 0.0108131</td><td style=\"text-align: right;\">-0.0711378</td><td style=\"text-align: right;\"> 0.124802  </td><td style=\"text-align: right;\">-0.183773   </td><td style=\"text-align: right;\">-0.0957564</td><td style=\"text-align: right;\">-0.115766 </td><td style=\"text-align: right;\"> 0.183172   </td><td style=\"text-align: right;\"> 0.0466968  </td><td style=\"text-align: right;\"> 0.0934631 </td><td style=\"text-align: right;\"> 0.012897  </td><td style=\"text-align: right;\">-0.0209146</td><td style=\"text-align: right;\"> 0.0733228 </td><td style=\"text-align: right;\"> 0.0568389 </td><td style=\"text-align: right;\">-0.059613 </td><td style=\"text-align: right;\">-0.0375305</td><td style=\"text-align: right;\"> 0.0709445 </td><td style=\"text-align: right;\"> 0.0194783</td><td style=\"text-align: right;\"> 0.0140064 </td><td style=\"text-align: right;\">0.153426 </td><td style=\"text-align: right;\">-0.0652045</td><td style=\"text-align: right;\"> 0.0939761</td><td style=\"text-align: right;\">0.0543332</td><td style=\"text-align: right;\">-0.108425   </td><td style=\"text-align: right;\"> 0.0692746 </td><td style=\"text-align: right;\"> 0.0519874</td><td style=\"text-align: right;\"> 0.0224355</td><td style=\"text-align: right;\">-0.0827086</td><td style=\"text-align: right;\">-0.0712032</td><td style=\"text-align: right;\"> 0.0917406 </td><td style=\"text-align: right;\"> 0.0865916 </td><td style=\"text-align: right;\">-0.054117 </td><td style=\"text-align: right;\">-0.15918  </td><td style=\"text-align: right;\">0.192566  </td><td style=\"text-align: right;\"> 0.0620377</td></tr>\n",
       "<tr><td style=\"text-align: right;\"> 0.0440607</td><td style=\"text-align: right;\">-0.0385395 </td><td style=\"text-align: right;\"> 0.0318392</td><td style=\"text-align: right;\">-0.0522206 </td><td style=\"text-align: right;\">-0.12184  </td><td style=\"text-align: right;\">-0.166429 </td><td style=\"text-align: right;\">-0.0225583</td><td style=\"text-align: right;\">-0.0939491 </td><td style=\"text-align: right;\"> 0.106671 </td><td style=\"text-align: right;\">0.410635 </td><td style=\"text-align: right;\">-0.0312672  </td><td style=\"text-align: right;\">0.0653742</td><td style=\"text-align: right;\">-0.0581885 </td><td style=\"text-align: right;\">-0.0241432</td><td style=\"text-align: right;\"> 0.0534405</td><td style=\"text-align: right;\">-0.059472  </td><td style=\"text-align: right;\">0.188423 </td><td style=\"text-align: right;\"> 0.0588716</td><td style=\"text-align: right;\">-0.123815 </td><td style=\"text-align: right;\">-0.0347234 </td><td style=\"text-align: right;\"> 0.182379  </td><td style=\"text-align: right;\"> 0.0987605  </td><td style=\"text-align: right;\">-0.047832   </td><td style=\"text-align: right;\">-0.0346144 </td><td style=\"text-align: right;\">0.0928605</td><td style=\"text-align: right;\">-0.0340618 </td><td style=\"text-align: right;\">-0.115274 </td><td style=\"text-align: right;\">-0.0462548 </td><td style=\"text-align: right;\">-0.0742871</td><td style=\"text-align: right;\">-0.0901799</td><td style=\"text-align: right;\"> 0.211341  </td><td style=\"text-align: right;\">-0.00940863</td><td style=\"text-align: right;\"> 0.0426104</td><td style=\"text-align: right;\">-0.0536647</td><td style=\"text-align: right;\">-0.0755875</td><td style=\"text-align: right;\"> 0.225547 </td><td style=\"text-align: right;\">-0.11107  </td><td style=\"text-align: right;\">0.183249 </td><td style=\"text-align: right;\"> 0.088618  </td><td style=\"text-align: right;\">-0.112032 </td><td style=\"text-align: right;\">-0.189363 </td><td style=\"text-align: right;\"> 0.177422 </td><td style=\"text-align: right;\">0.171958 </td><td style=\"text-align: right;\">-0.084822 </td><td style=\"text-align: right;\"> 0.0297156</td><td style=\"text-align: right;\">0.146886 </td><td style=\"text-align: right;\">-0.0123451</td><td style=\"text-align: right;\"> 0.00317813</td><td style=\"text-align: right;\"> 0.0482604 </td><td style=\"text-align: right;\">-0.277871 </td><td style=\"text-align: right;\">0.250749 </td><td style=\"text-align: right;\"> 0.165748 </td><td style=\"text-align: right;\">-0.189958 </td><td style=\"text-align: right;\"> 0.172009 </td><td style=\"text-align: right;\"> 0.0272203</td><td style=\"text-align: right;\">-0.0798075 </td><td style=\"text-align: right;\">-0.0944868</td><td style=\"text-align: right;\">0.0715929 </td><td style=\"text-align: right;\">0.14944  </td><td style=\"text-align: right;\">-0.157869 </td><td style=\"text-align: right;\"> 0.0460751 </td><td style=\"text-align: right;\"> 0.0103213 </td><td style=\"text-align: right;\">0.181999 </td><td style=\"text-align: right;\">-0.134099 </td><td style=\"text-align: right;\">-0.127988 </td><td style=\"text-align: right;\"> 0.0464355</td><td style=\"text-align: right;\">-0.054493 </td><td style=\"text-align: right;\">-0.0760177</td><td style=\"text-align: right;\"> 0.0585662 </td><td style=\"text-align: right;\">-0.000476378</td><td style=\"text-align: right;\">-0.0544047</td><td style=\"text-align: right;\"> 0.0794701</td><td style=\"text-align: right;\"> 0.0625066  </td><td style=\"text-align: right;\">-0.000459404</td><td style=\"text-align: right;\"> 0.185467  </td><td style=\"text-align: right;\"> 0.114263  </td><td style=\"text-align: right;\">-0.0905685</td><td style=\"text-align: right;\">-0.0369095 </td><td style=\"text-align: right;\"> 0.00162344</td><td style=\"text-align: right;\">-0.0331089</td><td style=\"text-align: right;\">-0.282777 </td><td style=\"text-align: right;\"> 0.0378001 </td><td style=\"text-align: right;\">-0.0515526</td><td style=\"text-align: right;\">-0.0304752 </td><td style=\"text-align: right;\">0.246111 </td><td style=\"text-align: right;\">-0.0665473</td><td style=\"text-align: right;\">-0.038458 </td><td style=\"text-align: right;\">0.0646374</td><td style=\"text-align: right;\"> 0.0137043  </td><td style=\"text-align: right;\">-0.133707  </td><td style=\"text-align: right;\">-0.145584 </td><td style=\"text-align: right;\">-0.0160431</td><td style=\"text-align: right;\">-0.0973672</td><td style=\"text-align: right;\">-0.0300406</td><td style=\"text-align: right;\">-0.0147817 </td><td style=\"text-align: right;\"> 0.188875  </td><td style=\"text-align: right;\"> 0.0839773</td><td style=\"text-align: right;\">-0.0804349</td><td style=\"text-align: right;\">0.11458   </td><td style=\"text-align: right;\"> 0.18171  </td></tr>\n",
       "<tr><td style=\"text-align: right;\">-0.0359013</td><td style=\"text-align: right;\"> 0.0144751 </td><td style=\"text-align: right;\"> 0.0415631</td><td style=\"text-align: right;\"> 0.13888   </td><td style=\"text-align: right;\">-0.112865 </td><td style=\"text-align: right;\"> 0.115289 </td><td style=\"text-align: right;\"> 0.0363131</td><td style=\"text-align: right;\"> 0.0120586 </td><td style=\"text-align: right;\">-0.135249 </td><td style=\"text-align: right;\">0.171469 </td><td style=\"text-align: right;\">-0.000191738</td><td style=\"text-align: right;\">0.0804504</td><td style=\"text-align: right;\"> 0.185461  </td><td style=\"text-align: right;\"> 0.0359333</td><td style=\"text-align: right;\"> 0.155361 </td><td style=\"text-align: right;\">-0.0218231 </td><td style=\"text-align: right;\">0.200746 </td><td style=\"text-align: right;\"> 0.0650741</td><td style=\"text-align: right;\">-0.1864   </td><td style=\"text-align: right;\"> 0.0344141 </td><td style=\"text-align: right;\">-0.0557205 </td><td style=\"text-align: right;\"> 0.169818   </td><td style=\"text-align: right;\"> 0.0151534  </td><td style=\"text-align: right;\"> 0.0804075 </td><td style=\"text-align: right;\">0.0414597</td><td style=\"text-align: right;\">-0.151149  </td><td style=\"text-align: right;\"> 0.0706013</td><td style=\"text-align: right;\">-0.0209116 </td><td style=\"text-align: right;\">-0.0221946</td><td style=\"text-align: right;\">-0.181468 </td><td style=\"text-align: right;\"> 0.112605  </td><td style=\"text-align: right;\">-0.00110737</td><td style=\"text-align: right;\"> 0.0827125</td><td style=\"text-align: right;\"> 0.011829 </td><td style=\"text-align: right;\">-0.0697147</td><td style=\"text-align: right;\"> 0.151222 </td><td style=\"text-align: right;\">-0.144328 </td><td style=\"text-align: right;\">0.0939324</td><td style=\"text-align: right;\">-0.102947  </td><td style=\"text-align: right;\">-0.0716019</td><td style=\"text-align: right;\">-0.148216 </td><td style=\"text-align: right;\"> 0.114611 </td><td style=\"text-align: right;\">0.186632 </td><td style=\"text-align: right;\">-0.0847101</td><td style=\"text-align: right;\">-0.0552335</td><td style=\"text-align: right;\">0.0469808</td><td style=\"text-align: right;\">-0.116265 </td><td style=\"text-align: right;\"> 0.0772771 </td><td style=\"text-align: right;\">-0.133353  </td><td style=\"text-align: right;\">-0.263751 </td><td style=\"text-align: right;\">0.138571 </td><td style=\"text-align: right;\"> 0.0494654</td><td style=\"text-align: right;\">-0.0726934</td><td style=\"text-align: right;\"> 0.102762 </td><td style=\"text-align: right;\">-0.196993 </td><td style=\"text-align: right;\">-0.0459527 </td><td style=\"text-align: right;\">-0.0971786</td><td style=\"text-align: right;\">0.0439191 </td><td style=\"text-align: right;\">0.191646 </td><td style=\"text-align: right;\">-0.0138981</td><td style=\"text-align: right;\">-0.00358935</td><td style=\"text-align: right;\"> 0.063063  </td><td style=\"text-align: right;\">0.0251995</td><td style=\"text-align: right;\">-0.101894 </td><td style=\"text-align: right;\">-0.0491709</td><td style=\"text-align: right;\">-0.131992 </td><td style=\"text-align: right;\">-0.0624712</td><td style=\"text-align: right;\">-0.0736266</td><td style=\"text-align: right;\">-0.00985731</td><td style=\"text-align: right;\">-0.205895   </td><td style=\"text-align: right;\"> 0.0206545</td><td style=\"text-align: right;\"> 0.0422288</td><td style=\"text-align: right;\"> 0.0289215  </td><td style=\"text-align: right;\"> 0.0467788  </td><td style=\"text-align: right;\"> 0.158432  </td><td style=\"text-align: right;\">-0.015252  </td><td style=\"text-align: right;\"> 0.0268585</td><td style=\"text-align: right;\"> 0.116148  </td><td style=\"text-align: right;\">-0.0944855 </td><td style=\"text-align: right;\"> 0.126576 </td><td style=\"text-align: right;\"> 0.0823067</td><td style=\"text-align: right;\">-0.0282243 </td><td style=\"text-align: right;\"> 0.0201706</td><td style=\"text-align: right;\"> 0.0162958 </td><td style=\"text-align: right;\">0.31068  </td><td style=\"text-align: right;\">-0.14472  </td><td style=\"text-align: right;\">-0.159394 </td><td style=\"text-align: right;\">0.0529293</td><td style=\"text-align: right;\">-1.76456e-05</td><td style=\"text-align: right;\"> 0.0135964 </td><td style=\"text-align: right;\"> 0.0782483</td><td style=\"text-align: right;\"> 0.0527815</td><td style=\"text-align: right;\"> 0.0921291</td><td style=\"text-align: right;\">-0.122359 </td><td style=\"text-align: right;\"> 0.0417728 </td><td style=\"text-align: right;\">-0.24058   </td><td style=\"text-align: right;\">-0.0022661</td><td style=\"text-align: right;\">-0.130871 </td><td style=\"text-align: right;\">0.117713  </td><td style=\"text-align: right;\"> 0.0241098</td></tr>\n",
       "<tr><td style=\"text-align: right;\"> 0.0214482</td><td style=\"text-align: right;\"> 0.00942467</td><td style=\"text-align: right;\">-0.010534 </td><td style=\"text-align: right;\"> 0.0387267 </td><td style=\"text-align: right;\">-0.0884001</td><td style=\"text-align: right;\">-0.179391 </td><td style=\"text-align: right;\">-0.0948524</td><td style=\"text-align: right;\">-0.146319  </td><td style=\"text-align: right;\"> 0.0535767</td><td style=\"text-align: right;\">0.123316 </td><td style=\"text-align: right;\">-0.00466586 </td><td style=\"text-align: right;\">0.14837  </td><td style=\"text-align: right;\"> 0.00294134</td><td style=\"text-align: right;\">-0.0280445</td><td style=\"text-align: right;\">-0.0752683</td><td style=\"text-align: right;\">-0.0257155 </td><td style=\"text-align: right;\">0.238384 </td><td style=\"text-align: right;\"> 0.0718404</td><td style=\"text-align: right;\">-0.159705 </td><td style=\"text-align: right;\">-0.0118561 </td><td style=\"text-align: right;\"> 0.169667  </td><td style=\"text-align: right;\"> 0.0857452  </td><td style=\"text-align: right;\">-0.0380655  </td><td style=\"text-align: right;\">-0.00697233</td><td style=\"text-align: right;\">0.135606 </td><td style=\"text-align: right;\">-0.0587238 </td><td style=\"text-align: right;\">-0.0648785</td><td style=\"text-align: right;\"> 0.0502766 </td><td style=\"text-align: right;\"> 0.0344759</td><td style=\"text-align: right;\">-0.158731 </td><td style=\"text-align: right;\"> 0.140953  </td><td style=\"text-align: right;\"> 0.0228896 </td><td style=\"text-align: right;\">-0.0276782</td><td style=\"text-align: right;\">-0.0711884</td><td style=\"text-align: right;\"> 0.0069479</td><td style=\"text-align: right;\"> 0.233226 </td><td style=\"text-align: right;\">-0.0580318</td><td style=\"text-align: right;\">0.244604 </td><td style=\"text-align: right;\">-0.0257634 </td><td style=\"text-align: right;\">-0.0876584</td><td style=\"text-align: right;\">-0.177155 </td><td style=\"text-align: right;\"> 0.0901374</td><td style=\"text-align: right;\">0.0126057</td><td style=\"text-align: right;\">-0.0990412</td><td style=\"text-align: right;\">-0.051038 </td><td style=\"text-align: right;\">0.133187 </td><td style=\"text-align: right;\">-0.0510071</td><td style=\"text-align: right;\"> 0.154117  </td><td style=\"text-align: right;\">-0.0614091 </td><td style=\"text-align: right;\">-0.238778 </td><td style=\"text-align: right;\">0.189799 </td><td style=\"text-align: right;\"> 0.0825694</td><td style=\"text-align: right;\">-0.15041  </td><td style=\"text-align: right;\"> 0.0111847</td><td style=\"text-align: right;\">-0.0745836</td><td style=\"text-align: right;\"> 0.00236163</td><td style=\"text-align: right;\">-0.117    </td><td style=\"text-align: right;\">0.0683911 </td><td style=\"text-align: right;\">0.138626 </td><td style=\"text-align: right;\">-0.0611619</td><td style=\"text-align: right;\"> 0.114261  </td><td style=\"text-align: right;\">-0.0170127 </td><td style=\"text-align: right;\">0.150559 </td><td style=\"text-align: right;\">-0.0731673</td><td style=\"text-align: right;\">-0.052636 </td><td style=\"text-align: right;\">-0.0845053</td><td style=\"text-align: right;\">-0.0574359</td><td style=\"text-align: right;\">-0.0969799</td><td style=\"text-align: right;\"> 0.0626605 </td><td style=\"text-align: right;\"> 0.0198007  </td><td style=\"text-align: right;\">-0.0431326</td><td style=\"text-align: right;\">-0.010523 </td><td style=\"text-align: right;\">-0.0229354  </td><td style=\"text-align: right;\">-0.0257636  </td><td style=\"text-align: right;\"> 0.0892346 </td><td style=\"text-align: right;\"> 0.00377791</td><td style=\"text-align: right;\">-0.0742063</td><td style=\"text-align: right;\">-0.0188243 </td><td style=\"text-align: right;\"> 0.079958  </td><td style=\"text-align: right;\"> 0.0848888</td><td style=\"text-align: right;\">-0.153459 </td><td style=\"text-align: right;\">-0.00307905</td><td style=\"text-align: right;\">-0.0638117</td><td style=\"text-align: right;\"> 0.0462313 </td><td style=\"text-align: right;\">0.200583 </td><td style=\"text-align: right;\">-0.128415 </td><td style=\"text-align: right;\">-0.102673 </td><td style=\"text-align: right;\">0.113184 </td><td style=\"text-align: right;\"> 0.0130281  </td><td style=\"text-align: right;\"> 0.00720131</td><td style=\"text-align: right;\">-0.0181864</td><td style=\"text-align: right;\">-0.0193252</td><td style=\"text-align: right;\"> 0.119066 </td><td style=\"text-align: right;\">-0.0439361</td><td style=\"text-align: right;\"> 0.0667916 </td><td style=\"text-align: right;\">-0.0174963 </td><td style=\"text-align: right;\"> 0.0632368</td><td style=\"text-align: right;\">-0.118947 </td><td style=\"text-align: right;\">0.147678  </td><td style=\"text-align: right;\"> 0.113868 </td></tr>\n",
       "<tr><td style=\"text-align: right;\"> 0.0711843</td><td style=\"text-align: right;\">-0.0128534 </td><td style=\"text-align: right;\">-0.0129503</td><td style=\"text-align: right;\">-0.0438477 </td><td style=\"text-align: right;\">-0.186297 </td><td style=\"text-align: right;\">-0.180283 </td><td style=\"text-align: right;\">-0.108976 </td><td style=\"text-align: right;\">-0.00860314</td><td style=\"text-align: right;\">-0.0664283</td><td style=\"text-align: right;\">0.259617 </td><td style=\"text-align: right;\">-0.113904   </td><td style=\"text-align: right;\">0.0893309</td><td style=\"text-align: right;\">-0.0840242 </td><td style=\"text-align: right;\"> 0.0643338</td><td style=\"text-align: right;\"> 0.019483 </td><td style=\"text-align: right;\"> 0.00372041</td><td style=\"text-align: right;\">0.154644 </td><td style=\"text-align: right;\"> 0.0790171</td><td style=\"text-align: right;\">-0.144575 </td><td style=\"text-align: right;\">-0.0671222 </td><td style=\"text-align: right;\"> 0.129006  </td><td style=\"text-align: right;\"> 0.000509715</td><td style=\"text-align: right;\">-0.000538034</td><td style=\"text-align: right;\"> 0.0247277 </td><td style=\"text-align: right;\">0.106637 </td><td style=\"text-align: right;\"> 0.00870864</td><td style=\"text-align: right;\">-0.0635687</td><td style=\"text-align: right;\">-0.00523877</td><td style=\"text-align: right;\"> 0.0128087</td><td style=\"text-align: right;\">-0.0586976</td><td style=\"text-align: right;\"> 0.138529  </td><td style=\"text-align: right;\">-0.0135654 </td><td style=\"text-align: right;\"> 0.0376156</td><td style=\"text-align: right;\">-0.136333 </td><td style=\"text-align: right;\">-0.08937  </td><td style=\"text-align: right;\"> 0.195536 </td><td style=\"text-align: right;\">-0.0720458</td><td style=\"text-align: right;\">0.174247 </td><td style=\"text-align: right;\">-0.0462592 </td><td style=\"text-align: right;\">-0.150355 </td><td style=\"text-align: right;\">-0.134341 </td><td style=\"text-align: right;\"> 0.115431 </td><td style=\"text-align: right;\">0.128207 </td><td style=\"text-align: right;\">-0.0930005</td><td style=\"text-align: right;\">-0.0690804</td><td style=\"text-align: right;\">0.0849602</td><td style=\"text-align: right;\">-0.147288 </td><td style=\"text-align: right;\"> 0.239038  </td><td style=\"text-align: right;\"> 0.00978279</td><td style=\"text-align: right;\">-0.314929 </td><td style=\"text-align: right;\">0.0948673</td><td style=\"text-align: right;\"> 0.123939 </td><td style=\"text-align: right;\">-0.158397 </td><td style=\"text-align: right;\">-0.0237221</td><td style=\"text-align: right;\">-0.178216 </td><td style=\"text-align: right;\"> 0.0429217 </td><td style=\"text-align: right;\">-0.151114 </td><td style=\"text-align: right;\">0.0582112 </td><td style=\"text-align: right;\">0.119197 </td><td style=\"text-align: right;\"> 0.0141606</td><td style=\"text-align: right;\"> 0.0397113 </td><td style=\"text-align: right;\"> 0.00645338</td><td style=\"text-align: right;\">0.109992 </td><td style=\"text-align: right;\">-0.15633  </td><td style=\"text-align: right;\">-0.0426849</td><td style=\"text-align: right;\">-0.0842731</td><td style=\"text-align: right;\"> 0.0339194</td><td style=\"text-align: right;\">-0.0645026</td><td style=\"text-align: right;\">-0.0963058 </td><td style=\"text-align: right;\">-0.0159278  </td><td style=\"text-align: right;\"> 0.0119114</td><td style=\"text-align: right;\"> 0.0123776</td><td style=\"text-align: right;\"> 0.0709761  </td><td style=\"text-align: right;\">-0.0686871  </td><td style=\"text-align: right;\">-0.00179962</td><td style=\"text-align: right;\"> 0.0486811 </td><td style=\"text-align: right;\">-0.10526  </td><td style=\"text-align: right;\">-0.0221172 </td><td style=\"text-align: right;\">-0.0123364 </td><td style=\"text-align: right;\">-0.0395675</td><td style=\"text-align: right;\">-0.127423 </td><td style=\"text-align: right;\">-0.037197  </td><td style=\"text-align: right;\">-0.0227427</td><td style=\"text-align: right;\">-0.0642163 </td><td style=\"text-align: right;\">0.201214 </td><td style=\"text-align: right;\">-0.0496473</td><td style=\"text-align: right;\"> 0.115086 </td><td style=\"text-align: right;\">0.0107951</td><td style=\"text-align: right;\">-0.0560759  </td><td style=\"text-align: right;\"> 0.0297447 </td><td style=\"text-align: right;\"> 0.12561  </td><td style=\"text-align: right;\"> 0.0431915</td><td style=\"text-align: right;\"> 0.0114933</td><td style=\"text-align: right;\"> 0.0136292</td><td style=\"text-align: right;\"> 0.0737574 </td><td style=\"text-align: right;\"> 0.109702  </td><td style=\"text-align: right;\">-0.0388102</td><td style=\"text-align: right;\">-0.0918303</td><td style=\"text-align: right;\">0.200785  </td><td style=\"text-align: right;\"> 0.0849433</td></tr>\n",
       "<tr><td style=\"text-align: right;\"> 0.151689 </td><td style=\"text-align: right;\"> 0.0821632 </td><td style=\"text-align: right;\"> 0.13372  </td><td style=\"text-align: right;\">-0.0562184 </td><td style=\"text-align: right;\">-0.286777 </td><td style=\"text-align: right;\">-0.350262 </td><td style=\"text-align: right;\">-0.0613675</td><td style=\"text-align: right;\"> 0.121831  </td><td style=\"text-align: right;\"> 0.203385 </td><td style=\"text-align: right;\">0.0503734</td><td style=\"text-align: right;\">-0.126465   </td><td style=\"text-align: right;\">0.158018 </td><td style=\"text-align: right;\">-0.265254  </td><td style=\"text-align: right;\">-0.122438 </td><td style=\"text-align: right;\"> 0.078764 </td><td style=\"text-align: right;\">-0.0220698 </td><td style=\"text-align: right;\">0.0668872</td><td style=\"text-align: right;\"> 0.19177  </td><td style=\"text-align: right;\">-0.036451 </td><td style=\"text-align: right;\">-0.337108  </td><td style=\"text-align: right;\">-0.0783599 </td><td style=\"text-align: right;\"> 0.170695   </td><td style=\"text-align: right;\">-0.00509068 </td><td style=\"text-align: right;\"> 0.1918    </td><td style=\"text-align: right;\">0.167499 </td><td style=\"text-align: right;\">-0.389485  </td><td style=\"text-align: right;\">-0.148039 </td><td style=\"text-align: right;\">-0.367429  </td><td style=\"text-align: right;\"> 0.0397454</td><td style=\"text-align: right;\">-0.137408 </td><td style=\"text-align: right;\"> 0.310525  </td><td style=\"text-align: right;\">-0.396001  </td><td style=\"text-align: right;\">-0.0394362</td><td style=\"text-align: right;\">-0.17843  </td><td style=\"text-align: right;\">-0.151738 </td><td style=\"text-align: right;\"> 0.380916 </td><td style=\"text-align: right;\"> 0.396032 </td><td style=\"text-align: right;\">0.288539 </td><td style=\"text-align: right;\">-0.0939858 </td><td style=\"text-align: right;\">-0.246823 </td><td style=\"text-align: right;\">-0.257182 </td><td style=\"text-align: right;\"> 0.220468 </td><td style=\"text-align: right;\">0.133866 </td><td style=\"text-align: right;\"> 0.0459968</td><td style=\"text-align: right;\"> 0.0928374</td><td style=\"text-align: right;\">0.187699 </td><td style=\"text-align: right;\"> 0.141151 </td><td style=\"text-align: right;\">-0.0515    </td><td style=\"text-align: right;\"> 0.238772  </td><td style=\"text-align: right;\">-0.383861 </td><td style=\"text-align: right;\">0.0205622</td><td style=\"text-align: right;\"> 0.138226 </td><td style=\"text-align: right;\">-0.391067 </td><td style=\"text-align: right;\"> 0.237543 </td><td style=\"text-align: right;\">-0.0331685</td><td style=\"text-align: right;\"> 0.122107  </td><td style=\"text-align: right;\">-0.11985  </td><td style=\"text-align: right;\">0.0838889 </td><td style=\"text-align: right;\">0.161052 </td><td style=\"text-align: right;\"> 0.0013951</td><td style=\"text-align: right;\"> 0.0496089 </td><td style=\"text-align: right;\"> 0.115155  </td><td style=\"text-align: right;\">0.20242  </td><td style=\"text-align: right;\">-0.250632 </td><td style=\"text-align: right;\"> 0.0931639</td><td style=\"text-align: right;\">-0.118864 </td><td style=\"text-align: right;\"> 0.162553 </td><td style=\"text-align: right;\">-0.20232  </td><td style=\"text-align: right;\"> 0.00674888</td><td style=\"text-align: right;\">-0.174933   </td><td style=\"text-align: right;\"> 0.183535 </td><td style=\"text-align: right;\">-0.0606703</td><td style=\"text-align: right;\">-0.129902   </td><td style=\"text-align: right;\">-0.112616   </td><td style=\"text-align: right;\"> 0.130064  </td><td style=\"text-align: right;\"> 0.0163133 </td><td style=\"text-align: right;\">-0.273465 </td><td style=\"text-align: right;\"> 0.0360277 </td><td style=\"text-align: right;\">-0.0566611 </td><td style=\"text-align: right;\"> 0.0387005</td><td style=\"text-align: right;\">-0.130501 </td><td style=\"text-align: right;\">-0.0636028 </td><td style=\"text-align: right;\">-0.28514  </td><td style=\"text-align: right;\">-0.0834954 </td><td style=\"text-align: right;\">0.313743 </td><td style=\"text-align: right;\"> 0.133115 </td><td style=\"text-align: right;\"> 0.0766341</td><td style=\"text-align: right;\">0.208625 </td><td style=\"text-align: right;\"> 0.0503484  </td><td style=\"text-align: right;\">-0.107715  </td><td style=\"text-align: right;\">-0.190826 </td><td style=\"text-align: right;\">-0.214724 </td><td style=\"text-align: right;\"> 0.188941 </td><td style=\"text-align: right;\"> 0.188622 </td><td style=\"text-align: right;\"> 0.00717781</td><td style=\"text-align: right;\">-0.19363   </td><td style=\"text-align: right;\"> 0.118058 </td><td style=\"text-align: right;\">-0.0958849</td><td style=\"text-align: right;\">0.00565059</td><td style=\"text-align: right;\"> 0.285922 </td></tr>\n",
       "</tbody>\n",
       "</table>"
      ]
     },
     "metadata": {},
     "output_type": "display_data"
    },
    {
     "data": {
      "text/plain": []
     },
     "execution_count": 48,
     "metadata": {},
     "output_type": "execute_result"
    }
   ],
   "source": [
    "review_vecs"
   ]
  },
  {
   "cell_type": "code",
   "execution_count": 49,
   "metadata": {
    "collapsed": true
   },
   "outputs": [],
   "source": [
    "# Add aggregated word embeddings \n",
    "ext_reviews = reviews.cbind(review_vecs)"
   ]
  },
  {
   "cell_type": "markdown",
   "metadata": {},
   "source": [
    "### Train GBM Model to Predict Good Review\n",
    "\n",
    "We will train a GBM model with the same parameters as our baseline gbm.  This time, however, we will add the aggregated word embeddings as predictors. "
   ]
  },
  {
   "cell_type": "code",
   "execution_count": 50,
   "metadata": {
    "collapsed": true
   },
   "outputs": [],
   "source": [
    "ext_train = ext_reviews[ext_reviews[\"Train\"] == \"Yes\"]\n",
    "ext_test = ext_reviews[ext_reviews[\"Train\"] == \"No\"]"
   ]
  },
  {
   "cell_type": "code",
   "execution_count": 51,
   "metadata": {},
   "outputs": [
    {
     "name": "stdout",
     "output_type": "stream",
     "text": [
      "gbm Model Build progress: |███████████████████████████████████████████████| 100%\n"
     ]
    }
   ],
   "source": [
    "predictors = predictors + review_vecs.names\n",
    "response = 'PositiveReview'\n",
    "\n",
    "gbm_embeddings = H2OGradientBoostingEstimator(stopping_metric = \"AUC\", stopping_tolerance = 0.001,\n",
    "                                              stopping_rounds = 5, score_tree_interval = 10,\n",
    "                                              model_id = \"gbm_embeddings.hex\"\n",
    "                                             )\n",
    "gbm_embeddings.train(x = predictors, y = response, \n",
    "                   training_frame = ext_train, validation_frame = ext_test\n",
    "                  )"
   ]
  },
  {
   "cell_type": "code",
   "execution_count": 52,
   "metadata": {},
   "outputs": [
    {
     "name": "stdout",
     "output_type": "stream",
     "text": [
      "Baseline AUC: 0.595\n",
      "With Embeddings AUC: 0.812\n"
     ]
    }
   ],
   "source": [
    "print(\"Baseline AUC: \" + str(round(gbm_baseline.auc(valid = True), 3)))\n",
    "print(\"With Embeddings AUC: \" + str(round(gbm_embeddings.auc(valid = True), 3)))"
   ]
  },
  {
   "cell_type": "code",
   "execution_count": 53,
   "metadata": {},
   "outputs": [
    {
     "name": "stdout",
     "output_type": "stream",
     "text": [
      "Confusion Matrix (Act/Pred) for max f1 @ threshold = 0.46235023372076506: \n"
     ]
    },
    {
     "data": {
      "text/html": [
       "<div style=\"overflow:auto\"><table style=\"width:50%\"><tr><td><b></b></td>\n",
       "<td><b>0</b></td>\n",
       "<td><b>1</b></td>\n",
       "<td><b>Error</b></td>\n",
       "<td><b>Rate</b></td></tr>\n",
       "<tr><td>0</td>\n",
       "<td>2114.0</td>\n",
       "<td>2098.0</td>\n",
       "<td>0.4981</td>\n",
       "<td> (2098.0/4212.0)</td></tr>\n",
       "<tr><td>1</td>\n",
       "<td>615.0</td>\n",
       "<td>6325.0</td>\n",
       "<td>0.0886</td>\n",
       "<td> (615.0/6940.0)</td></tr>\n",
       "<tr><td>Total</td>\n",
       "<td>2729.0</td>\n",
       "<td>8423.0</td>\n",
       "<td>0.2433</td>\n",
       "<td> (2713.0/11152.0)</td></tr></table></div>"
      ],
      "text/plain": [
       "       0     1     Error    Rate\n",
       "-----  ----  ----  -------  ----------------\n",
       "0      2114  2098  0.4981   (2098.0/4212.0)\n",
       "1      615   6325  0.0886   (615.0/6940.0)\n",
       "Total  2729  8423  0.2433   (2713.0/11152.0)"
      ]
     },
     "metadata": {},
     "output_type": "display_data"
    },
    {
     "data": {
      "text/plain": []
     },
     "execution_count": 53,
     "metadata": {},
     "output_type": "execute_result"
    }
   ],
   "source": [
    "gbm_embeddings.confusion_matrix(valid = True)"
   ]
  },
  {
   "cell_type": "markdown",
   "metadata": {},
   "source": [
    "## Summary of feature extraction"
   ]
  },
  {
   "cell_type": "markdown",
   "metadata": {},
   "source": [
    "The gbm_embeddings model has a better AUC then the gbm_baseline model. Thus, feature extraction helps in making the model predict much better."
   ]
  },
  {
   "cell_type": "markdown",
   "metadata": {},
   "source": [
    "# Predict on New Reviews--Grace\n",
    "\n",
    "Now that we've built a model we are satisifed with, we will see how the model performs on new reviews.\n",
    "\n",
    "* *\"The taste is great! especially when you cook it with some vegetable and egg. I like it very much, though it's more expensive than the other noodles\"*\n",
    "\n",
    "\n",
    "* *\"Quite tasteless and they make you order so many. I am stuck with 12 bags of this tasteless stuff. I am not ordering large amounts of anything from Amazon again. So often I don't like it and I am stuck with so much on hand.\"*"
   ]
  },
  {
   "cell_type": "code",
   "execution_count": 54,
   "metadata": {
    "collapsed": true
   },
   "outputs": [],
   "source": [
    "def predict(reviews, w2v, gbm):\n",
    "    \n",
    "    words = tokenize(reviews[\"Text\"].ascharacter())\n",
    "    reviews_vec = w2v.transform(words, aggregate_method=\"AVERAGE\")\n",
    "    \n",
    "    summary_words = tokenize(reviews[\"Summary\"].ascharacter())\n",
    "    summary_vec = w2v.transform(summary_words, aggregate_method=\"AVERAGE\")\n",
    "    \n",
    "    model_data = reviews.cbind(reviews_vec).cbind(summary_vec)\n",
    "    print(gbm.predict(model_data))"
   ]
  },
  {
   "cell_type": "code",
   "execution_count": 55,
   "metadata": {},
   "outputs": [
    {
     "name": "stdout",
     "output_type": "stream",
     "text": [
      "Parse progress: |█████████████████████████████████████████████████████████| 100%\n"
     ]
    }
   ],
   "source": [
    "good_review = h2o.H2OFrame([[\"B000EQT574\", \"AISQLBDGS2KXR\", 1, 1, 1263340800, \n",
    "                             \"Delicious\",\n",
    "                             \"These chips are delicious. Salty sweet with a hint of spice. I have no idea how Tamari is supposed to taste, but these chips are awesome. I just finished an entire bag in one day!\"]])\n",
    "\n",
    "good_review.col_names = [\"ProductId\",\"UserId\",\"HelpfulnessNumerator\",\"HelpfulnessDenominator\",\"Time\",\"Summary\",\"Text\"]"
   ]
  },
  {
   "cell_type": "code",
   "execution_count": 56,
   "metadata": {},
   "outputs": [
    {
     "name": "stdout",
     "output_type": "stream",
     "text": [
      "Parse progress: |█████████████████████████████████████████████████████████| 100%\n"
     ]
    }
   ],
   "source": [
    "bad_review = h2o.H2OFrame([[\"B003BJZMSM\", \"A2JBZHQVQF7MV0\", 1, 2, 1274832000, \n",
    "                            \"Pretty tasteless\",\n",
    "                            \"Quite tasteless and they make you order so many. I am stuck with 12 bags of this tasteless stuff. I am not ordering large amounts of anything from Amazon again. So often I don't like it and I am stuck with so much on hand.\"]])\n",
    "\n",
    "bad_review.col_names = [\"ProductId\",\"UserId\",\"HelpfulnessNumerator\",\"HelpfulnessDenominator\",\"Time\",\"Summary\",\"Text\"]"
   ]
  },
  {
   "cell_type": "markdown",
   "metadata": {},
   "source": [
    "**gbm_embeddings**\n",
    "\n",
    "```python\n",
    "gbm_embeddings = H2OGradientBoostingEstimator(stopping_metric = \"AUC\", stopping_tolerance = 0.001,\n",
    "                                              stopping_rounds = 5, score_tree_interval = 10,\n",
    "                                              model_id = \"gbm_embeddings.hex\"\n",
    "                                             )\n",
    "gbm_embeddings.train(x = predictors, y = response, \n",
    "                   training_frame = ext_train, validation_frame = ext_test\n",
    "                  )\n",
    "```\n",
    "\n",
    "**w2v_model**\n",
    "\n",
    "\n",
    "```python\n",
    "w2v_model = H2OWord2vecEstimator(vec_size = 100, model_id = \"w2v.hex\")\n",
    "w2v_model.train(training_frame=words)\n",
    "\n",
    "models_path='data'\n",
    "h2o.save_model(w2v_model, path = models_path, force = True)\n",
    "```\n",
    "\n",
    "**predict**\n",
    "\n",
    "```python\n",
    "def predict(reviews, w2v, gbm):\n",
    "    \n",
    "    words = tokenize(reviews[\"Text\"].ascharacter())\n",
    "    reviews_vec = w2v.transform(words, aggregate_method=\"AVERAGE\")\n",
    "    \n",
    "    summary_words = tokenize(reviews[\"Summary\"].ascharacter())\n",
    "    summary_vec = w2v.transform(summary_words, aggregate_method=\"AVERAGE\")\n",
    "    \n",
    "    model_data = reviews.cbind(reviews_vec).cbind(summary_vec)\n",
    "    print(gbm.predict(model_data))\n",
    "\n",
    "```"
   ]
  },
  {
   "cell_type": "code",
   "execution_count": 57,
   "metadata": {},
   "outputs": [
    {
     "name": "stdout",
     "output_type": "stream",
     "text": [
      "Good Review: \n",
      "gbm prediction progress: |████████████████████████████████████████████████| 100%\n"
     ]
    },
    {
     "data": {
      "text/html": [
       "<table>\n",
       "<thead>\n",
       "<tr><th style=\"text-align: right;\">  predict</th><th style=\"text-align: right;\">     p0</th><th style=\"text-align: right;\">     p1</th></tr>\n",
       "</thead>\n",
       "<tbody>\n",
       "<tr><td style=\"text-align: right;\">        1</td><td style=\"text-align: right;\">0.28813</td><td style=\"text-align: right;\">0.71187</td></tr>\n",
       "</tbody>\n",
       "</table>"
      ]
     },
     "metadata": {},
     "output_type": "display_data"
    },
    {
     "name": "stdout",
     "output_type": "stream",
     "text": [
      "\n",
      "None\n",
      "Bad Review: \n",
      "gbm prediction progress: |████████████████████████████████████████████████| 100%\n"
     ]
    },
    {
     "data": {
      "text/html": [
       "<table>\n",
       "<thead>\n",
       "<tr><th style=\"text-align: right;\">  predict</th><th style=\"text-align: right;\">      p0</th><th style=\"text-align: right;\">      p1</th></tr>\n",
       "</thead>\n",
       "<tbody>\n",
       "<tr><td style=\"text-align: right;\">        0</td><td style=\"text-align: right;\">0.899781</td><td style=\"text-align: right;\">0.100219</td></tr>\n",
       "</tbody>\n",
       "</table>"
      ]
     },
     "metadata": {},
     "output_type": "display_data"
    },
    {
     "name": "stdout",
     "output_type": "stream",
     "text": [
      "\n",
      "None\n"
     ]
    }
   ],
   "source": [
    "# Predict!\n",
    "print(\"Good Review: \")\n",
    "print(predict(good_review, w2v_model,gbm_embeddings))\n",
    "\n",
    "print(\"Bad Review: \")\n",
    "print(predict(bad_review, w2v_model, gbm_embeddings))"
   ]
  },
  {
   "cell_type": "code",
   "execution_count": 59,
   "metadata": {
    "collapsed": true
   },
   "outputs": [],
   "source": [
    "h2o.cluster().shutdown()"
   ]
  },
  {
   "cell_type": "markdown",
   "metadata": {},
   "source": [
    "# <center>Thank You</center>\n",
    "\n",
    "<center><img src=\"./Images/thankyou.jpg\" width=\"280\"></center>\n",
    "\n",
    "### <center>NEU AI Skunkworks</center>"
   ]
  },
  {
   "cell_type": "markdown",
   "metadata": {},
   "source": [
    "## <center>Contact</center>\n",
    "\n",
    "<center><img src=\"./Images/banner.png\" width=\"800\"></center>\n",
    "<center><font size='4'>GitHub : <a href=https://github.com/skunkworksneu>https://github.com/skunkworksneu</a></center>\n",
    "<center><font size='4'>Email ID: <a href=skunkworksneu@gmail.com>skunkworksneu@gmail.com</a></center>\n",
    "<center><font size='4'>LinkedIn : <a href=http://linkedin.com/company/skunkworksneu>http://linkedin.com/company/skunkworksneu</a></center>    "
   ]
  }
 ],
 "metadata": {
  "kernelspec": {
   "display_name": "Python 3",
   "language": "python",
   "name": "python3"
  },
  "language_info": {
   "codemirror_mode": {
    "name": "ipython",
    "version": 3
   },
   "file_extension": ".py",
   "mimetype": "text/x-python",
   "name": "python",
   "nbconvert_exporter": "python",
   "pygments_lexer": "ipython3",
   "version": "3.6.5"
  }
 },
 "nbformat": 4,
 "nbformat_minor": 2
}
